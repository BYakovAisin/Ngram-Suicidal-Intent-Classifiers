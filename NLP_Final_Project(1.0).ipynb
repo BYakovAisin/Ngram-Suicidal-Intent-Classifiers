{
  "nbformat": 4,
  "nbformat_minor": 0,
  "metadata": {
    "accelerator": "TPU",
    "colab": {
      "name": "NLP_Final_Project(1.0).ipynb",
      "provenance": [],
      "collapsed_sections": []
    },
    "kernelspec": {
      "display_name": "Python 3",
      "name": "python3"
    },
    "language_info": {
      "name": "python"
    }
  },
  "cells": [
    {
      "cell_type": "code",
      "metadata": {
        "id": "0hVoRbKCcTth"
      },
      "source": [
        "import csv\n",
        "import codecs\n",
        "import argparse\n",
        "import os\n",
        "from pathlib import Path\n",
        "import pandas as pd\n",
        "import sys, argparse\n",
        "from sklearn import metrics\n",
        "import matplotlib\n",
        "import matplotlib.pyplot as plt\n",
        "import seaborn as sn\n",
        "import gc\n",
        "from spacy.lang.en import English\n",
        "import re\n",
        "import string\n",
        "from tqdm import tqdm\n",
        "import numpy as np\n",
        "from scipy.sparse import coo_matrix, vstack\n",
        "from sklearn.linear_model import LogisticRegression\n",
        "from sklearn import svm\n",
        "from sklearn.tree import DecisionTreeClassifier\n",
        "from sklearn.naive_bayes import GaussianNB\n",
        "from sklearn.feature_extraction.text import CountVectorizer\n",
        "from sklearn.model_selection import train_test_split\n",
        "from sklearn.model_selection import cross_val_score\n",
        "import sklearn.metrics as metrics\n",
        "import matplotlib.pyplot as plt\n",
        "from collections import Counter\n",
        "from bs4 import BeautifulSoup"
      ],
      "execution_count": null,
      "outputs": []
    },
    {
      "cell_type": "code",
      "metadata": {
        "id": "W_FuRz3Tgz7r"
      },
      "source": [
        "path = '/content/drive/MyDrive/DATA641 Final Project/nlp_project_data/umd_reddit_suicidewatch_dataset_v2/'"
      ],
      "execution_count": null,
      "outputs": []
    },
    {
      "cell_type": "code",
      "metadata": {
        "colab": {
          "base_uri": "https://localhost:8080/"
        },
        "id": "ZMXzhvOYG8Fj",
        "outputId": "9751e3e9-32d9-4a0d-baae-cdfd121ed768"
      },
      "source": [
        "from google.colab import drive\n",
        "drive.mount('/content/drive')"
      ],
      "execution_count": null,
      "outputs": [
        {
          "output_type": "stream",
          "text": [
            "Mounted at /content/drive\n"
          ],
          "name": "stdout"
        }
      ]
    },
    {
      "cell_type": "markdown",
      "metadata": {
        "id": "si1QWOYgRVYx"
      },
      "source": [
        "# **Functions**"
      ]
    },
    {
      "cell_type": "code",
      "metadata": {
        "id": "AeXLWDQNIPN7"
      },
      "source": [
        "def normalize_tokens(tokenlist):\n",
        "    normalized_tokens = [token.lower().replace('_','+') for token in tokenlist   # lowercase, _ => +\n",
        "                             if re.search('[^\\s]', token) is not None            # ignore whitespace tokens\n",
        "                             and not token.startswith(\"@\")                       # ignore  handles\n",
        "                        ]\n",
        "    return normalized_tokens    \n",
        "\n",
        "def ngrams(tokens, n):\n",
        "    return [tokens[i:i+n] for i in range(len(tokens)-n+1)]\n",
        "\n",
        "def filter_punctuation_bigrams(ngrams):\n",
        "    punct = string.punctuation\n",
        "    return [ngram   for ngram in ngrams   if ngram[0] not in punct and ngram[1] not in punct]\n",
        "\n",
        "def filter_stopword_bigrams(ngrams, stopwords):\n",
        "    result = [ngram   for ngram in ngrams   if ngram[0] not in stopwords and ngram[1] not in stopwords]\n",
        "    return result"
      ],
      "execution_count": null,
      "outputs": []
    },
    {
      "cell_type": "code",
      "metadata": {
        "id": "PfVz-gejKoEr"
      },
      "source": [
        "def convert_text_into_features(X, stopwords_arg, analyzefn=\"word\", range=(1,2)):\n",
        "    training_vectorizer = CountVectorizer(stop_words=stopwords_arg,\n",
        "                                          analyzer=analyzefn,\n",
        "                                          lowercase=True,\n",
        "                                          ngram_range=range)\n",
        "    X_features = training_vectorizer.fit_transform(X)\n",
        "    return X_features, training_vectorizer\n",
        "\n",
        "def convert_lines_to_feature_strings(lines, stopwords, remove_stopword_bigrams=True):\n",
        "\n",
        "    print(\" Converting from raw text to unigram and bigram features\")\n",
        "    if remove_stopword_bigrams:\n",
        "        print(\" Includes filtering stopword bigrams\")\n",
        "        \n",
        "    print(\" Initializing\")\n",
        "    nlp          = English(parser=False)\n",
        "    all_features = []\n",
        "    print(\" Iterating through documents extracting unigram and bigram features\")\n",
        "    for line in tqdm(lines):\n",
        "        \n",
        "        # Get spacy tokenization and normalize the tokens\n",
        "        spacy_analysis    = nlp(line)\n",
        "        spacy_tokens      = [token.orth_ for token in spacy_analysis]\n",
        "        normalized_tokens = normalize_tokens(spacy_tokens)\n",
        "\n",
        "        # Collect unigram tokens as features\n",
        "        # Exclude unigrams that are stopwords or are punctuation strings (e.g. '.' or ',')\n",
        "        unigrams          = [token   for token in normalized_tokens\n",
        "                                 if token not in stopwords and token not in string.punctuation]\n",
        "\n",
        "        # Collect string bigram tokens as features\n",
        "        bigrams = []\n",
        "        bigram_tokens     = [\"_\".join(bigram) for bigram in bigrams]\n",
        "        bigrams           = ngrams(normalized_tokens, 2) \n",
        "        bigrams           = filter_punctuation_bigrams(bigrams)\n",
        "        if remove_stopword_bigrams:\n",
        "            bigrams = filter_stopword_bigrams(bigrams, stopwords)\n",
        "        bigram_tokens = [\"_\".join(bigram) for bigram in bigrams]\n",
        "\n",
        "        # Collect string trigram tokens as features\n",
        "        trigrams = []\n",
        "        trigram_tokens     = [\"_\".join(trigram) for trigram in trigrams]\n",
        "        trigrams           = ngrams(normalized_tokens, 3) \n",
        "        trigrams           = filter_punctuation_bigrams(trigrams)\n",
        "        if remove_stopword_bigrams:\n",
        "           trigrams = filter_stopword_bigrams(trigrams, stopwords)\n",
        "        trigram_tokens = [\"_\".join(trigram) for trigram in trigrams]\n",
        "\n",
        "        # Conjoin the feature lists and turn into a space-separated string of features.\n",
        "        # E.g. if unigrams is ['coffee', 'cup'] and bigrams is ['coffee_cup', 'white_house']\n",
        "        # then feature_string should be 'coffee cup coffee_cup white_house'\n",
        "\n",
        "        unigrams = \" \".join(unigrams)\n",
        "        bigram_tokens = \" \".join(bigram_tokens)\n",
        "        trigram_tokens = \" \".join(trigram_tokens)\n",
        "        feature_string = \" \".join([unigrams, bigram_tokens,trigram_tokens]) \n",
        "\n",
        "        # Add this feature string to the output\n",
        "        all_features.append(feature_string)\n",
        "\n",
        "\n",
        "    print(\" Feature string for first document: '{}'\".format(all_features[0]))\n",
        "        \n",
        "    return all_features\n",
        "\n",
        "def most_informative_features(vectorizer, classifier, n=20):\n",
        "    # Adapted from https://stackoverflow.com/questions/11116697/how-to-get-most-informative-features-for-scikit-learn-classifiers#11116960\n",
        "    feature_names       = vectorizer.get_feature_names()\n",
        "    coefs_with_features = sorted(zip(classifier.coef_[0], feature_names))\n",
        "    top                 = zip(coefs_with_features[:n], coefs_with_features[:-(n + 1):-1])\n",
        "    for (coef_1, feature_1), (coef_2, feature_2) in top:\n",
        "        print(\"\\t%.4f\\t%-15s\\t\\t%.4f\\t%-15s\" % (coef_1, feature_1, coef_2, feature_2))"
      ],
      "execution_count": null,
      "outputs": []
    },
    {
      "cell_type": "code",
      "metadata": {
        "id": "GrBfOaFuGwgL"
      },
      "source": [
        "def load_stopwords(filename):\n",
        "    stopwords = []\n",
        "    with codecs.open(filename, 'r', encoding='ascii', errors='ignore') as fp:\n",
        "        stopwords = fp.read().split('\\n')\n",
        "    return set(stopwords)\n",
        "\n",
        "stopwords = load_stopwords(path+'mallet_en_stoplist.txt')   "
      ],
      "execution_count": null,
      "outputs": []
    },
    {
      "cell_type": "code",
      "metadata": {
        "id": "3J7YGEvTWDXQ"
      },
      "source": [
        "def strip_html(text):\n",
        "    soup = BeautifulSoup(text, \"html.parser\")\n",
        "    return soup.get_text()\n",
        "\n",
        "#Removing the square brackets\n",
        "def remove_between_square_brackets(text):\n",
        "    return re.sub('\\[[^]/,.!?]*\\]', '', text)\n",
        "# Removing URL's\n",
        "def remove_between_square_brackets(text):\n",
        "    return re.sub(r'http\\S+', '', text)\n",
        "#Removing the stopwords from text\n",
        "def remove_stopwords(text):\n",
        "    final_text = []\n",
        "    for i in text.split():\n",
        "        if i.strip().lower() not in stopwords:\n",
        "            final_text.append(i.strip())\n",
        "    return \" \".join(final_text)\n",
        "#Removing the noisy text\n",
        "def denoise_text(text):\n",
        "    text = strip_html(text)\n",
        "    text = remove_between_square_brackets(text)\n",
        "    text = remove_stopwords(text)\n",
        "    return text"
      ],
      "execution_count": null,
      "outputs": []
    },
    {
      "cell_type": "markdown",
      "metadata": {
        "id": "IJg0tWc1RRXR"
      },
      "source": [
        "# **Loading Data**"
      ]
    },
    {
      "cell_type": "code",
      "metadata": {
        "id": "zkGRGRhphlS6"
      },
      "source": [
        "crowd_train = pd.read_csv(path+'crowd/train/crowd_train.csv')\n",
        "task_A_train = pd.read_csv(path+'crowd/train/task_A_train.posts.csv')\n",
        "task_B_train = pd.read_csv(path+'crowd/train/task_B_train.posts.csv')\n",
        "task_C_train = pd.read_csv(path+'crowd/train/task_B_train.posts.csv')\n",
        "shared_task_train = pd.read_csv(path+'crowd/train/shared_task_posts.csv')"
      ],
      "execution_count": null,
      "outputs": []
    },
    {
      "cell_type": "code",
      "metadata": {
        "id": "4cOFouP2mZ-u"
      },
      "source": [
        "crowd_test = pd.read_csv(path+'crowd/test/crowd_test.csv')\n",
        "task_A_test = pd.read_csv(path+'crowd/test/task_A_test.posts.csv')\n",
        "task_B_test = pd.read_csv(path+'crowd/test/task_B_test.posts.csv')\n",
        "task_C_test = pd.read_csv(path+'crowd/test/task_B_test.posts.csv')\n",
        "shared_task_test = pd.read_csv(path+'crowd/test/shared_task_posts_test.csv')"
      ],
      "execution_count": null,
      "outputs": []
    },
    {
      "cell_type": "code",
      "metadata": {
        "colab": {
          "base_uri": "https://localhost:8080/",
          "height": 166
        },
        "id": "oOjYpdpFNdLu",
        "outputId": "8c9f47e0-161b-4dbf-e081-31258dc7507f"
      },
      "source": [
        "# this data fram will be used to merge with the loaded data to create a column\n",
        "# a column of classes\n",
        "\n",
        "label = np.array(['a','b','c','d'])\n",
        "c = np.array(['Negative','Negative','Negative','Positive'])\n",
        "\n",
        "d = np.vstack([label,c])\n",
        "\n",
        "df_class = pd.DataFrame(data=d.T,columns=['label','class'])\n",
        "\n",
        "df_class"
      ],
      "execution_count": null,
      "outputs": [
        {
          "output_type": "execute_result",
          "data": {
            "text/html": [
              "<div>\n",
              "<style scoped>\n",
              "    .dataframe tbody tr th:only-of-type {\n",
              "        vertical-align: middle;\n",
              "    }\n",
              "\n",
              "    .dataframe tbody tr th {\n",
              "        vertical-align: top;\n",
              "    }\n",
              "\n",
              "    .dataframe thead th {\n",
              "        text-align: right;\n",
              "    }\n",
              "</style>\n",
              "<table border=\"1\" class=\"dataframe\">\n",
              "  <thead>\n",
              "    <tr style=\"text-align: right;\">\n",
              "      <th></th>\n",
              "      <th>label</th>\n",
              "      <th>class</th>\n",
              "    </tr>\n",
              "  </thead>\n",
              "  <tbody>\n",
              "    <tr>\n",
              "      <th>0</th>\n",
              "      <td>a</td>\n",
              "      <td>Negative</td>\n",
              "    </tr>\n",
              "    <tr>\n",
              "      <th>1</th>\n",
              "      <td>b</td>\n",
              "      <td>Negative</td>\n",
              "    </tr>\n",
              "    <tr>\n",
              "      <th>2</th>\n",
              "      <td>c</td>\n",
              "      <td>Negative</td>\n",
              "    </tr>\n",
              "    <tr>\n",
              "      <th>3</th>\n",
              "      <td>d</td>\n",
              "      <td>Positive</td>\n",
              "    </tr>\n",
              "  </tbody>\n",
              "</table>\n",
              "</div>"
            ],
            "text/plain": [
              "  label     class\n",
              "0     a  Negative\n",
              "1     b  Negative\n",
              "2     c  Negative\n",
              "3     d  Positive"
            ]
          },
          "metadata": {
            "tags": []
          },
          "execution_count": 10
        }
      ]
    },
    {
      "cell_type": "markdown",
      "metadata": {
        "id": "qJjS4RgphvlK"
      },
      "source": [
        "# **Task A**\n",
        "\n",
        "Training and testing logistic regreassion, decision tress, and support vector machine using data long from the subreddit 'SuicideWatch'"
      ]
    },
    {
      "cell_type": "code",
      "metadata": {
        "id": "Dv4QbywQkc1S"
      },
      "source": [
        "df_A_train = shared_task_train[shared_task_train['subreddit'] == 'SuicideWatch']\n",
        "df_A_train = df_A_train.dropna()"
      ],
      "execution_count": null,
      "outputs": []
    },
    {
      "cell_type": "code",
      "metadata": {
        "id": "xu-QckY5onWN"
      },
      "source": [
        "df_A_train = pd.merge(df_A_train,crowd_train,on='user_id')\n",
        "\n",
        "df_A_train = pd.merge(df_A_train,df_class,on='label')"
      ],
      "execution_count": null,
      "outputs": []
    },
    {
      "cell_type": "code",
      "metadata": {
        "id": "Jb33st9bJaN4"
      },
      "source": [
        "# piling the post title and its correponding post body into one string\n",
        "# forming a new datafram which one column is piled strings and another is classes\n",
        "\n",
        "A_train = pd.DataFrame(data=None,columns = ['text','class'])\n",
        "\n",
        "A_train['text'] = df_A_train['post_title']+' '+ df_A_train['post_body']\n",
        "\n",
        "A_train['class'] = df_A_train['class']\n",
        "\n",
        "A_train['text'] = normalize_tokens(A_train['text'])\n",
        "A_train['text'] = A_train['text'].apply(denoise_text)\n",
        "# some urls and random puntuations are still found in the data; hence the extra denoising  "
      ],
      "execution_count": null,
      "outputs": []
    },
    {
      "cell_type": "code",
      "metadata": {
        "id": "ko0XTSD-n6zx"
      },
      "source": [
        "df_A_test = shared_task_test[shared_task_test['subreddit'] == 'SuicideWatch']\n",
        "df_A_test = df_A_test.dropna()\n",
        "\n",
        "df_A_test = pd.merge(df_A_test,crowd_test,on='user_id')\n",
        "\n",
        "df_A_test['label'] = df_A_test['raw_label']\n",
        "\n",
        "df_A_test = pd.merge(df_A_test,df_class,on='label')"
      ],
      "execution_count": null,
      "outputs": []
    },
    {
      "cell_type": "code",
      "metadata": {
        "id": "zByEs6VIo0vO"
      },
      "source": [
        "A_test = pd.DataFrame(data=None,columns = ['text','class'])\n",
        "\n",
        "A_test['text'] = df_A_test['post_title']+' '+ df_A_test['post_body']\n",
        "\n",
        "A_test['class'] = df_A_test['class']\n",
        "\n",
        "A_test['text'] = normalize_tokens(A_test['text'])\n",
        "A_test['text'] = A_test['text'].apply(denoise_text)"
      ],
      "execution_count": null,
      "outputs": []
    },
    {
      "cell_type": "code",
      "metadata": {
        "id": "6JOXHOFlQcu5"
      },
      "source": [
        "X_train = convert_lines_to_feature_strings(A_train['text'],stopwords)"
      ],
      "execution_count": null,
      "outputs": []
    },
    {
      "cell_type": "code",
      "metadata": {
        "id": "7gqhGOrITAYK"
      },
      "source": [
        "X_train, training_vectorizer = convert_text_into_features(X_train,stopwords)"
      ],
      "execution_count": null,
      "outputs": []
    },
    {
      "cell_type": "code",
      "metadata": {
        "id": "zC0Pvj2Aoi4E"
      },
      "source": [
        "X_test = convert_lines_to_feature_strings(A_test['text'],stopwords)\n",
        "X_test = training_vectorizer.transform(X_test)"
      ],
      "execution_count": null,
      "outputs": []
    },
    {
      "cell_type": "code",
      "metadata": {
        "id": "ssUCWwNnuTwa"
      },
      "source": [
        "data_A = pd.concat([A_train,A_test],axis=0)"
      ],
      "execution_count": null,
      "outputs": []
    },
    {
      "cell_type": "code",
      "metadata": {
        "id": "mE66W0UiuoTs"
      },
      "source": [
        "x = convert_lines_to_feature_strings(data_A['text'],stopwords)"
      ],
      "execution_count": null,
      "outputs": []
    },
    {
      "cell_type": "markdown",
      "metadata": {
        "id": "Y5rywOKNFgzu"
      },
      "source": [
        "### **Logistic Regression (unigram+bigram+trigram strings)**"
      ]
    },
    {
      "cell_type": "code",
      "metadata": {
        "colab": {
          "base_uri": "https://localhost:8080/"
        },
        "id": "4zuOLM4YTpzK",
        "outputId": "05df2ea3-eea7-496b-dd23-62c74a940f9b"
      },
      "source": [
        "lr_classifier = LogisticRegression(solver='liblinear')\n",
        "lr_classifier.fit(X_train, A_train['class'])"
      ],
      "execution_count": null,
      "outputs": [
        {
          "output_type": "execute_result",
          "data": {
            "text/plain": [
              "LogisticRegression(C=1.0, class_weight=None, dual=False, fit_intercept=True,\n",
              "                   intercept_scaling=1, l1_ratio=None, max_iter=100,\n",
              "                   multi_class='auto', n_jobs=None, penalty='l2',\n",
              "                   random_state=None, solver='liblinear', tol=0.0001, verbose=0,\n",
              "                   warm_start=False)"
            ]
          },
          "metadata": {
            "tags": []
          },
          "execution_count": 33
        }
      ]
    },
    {
      "cell_type": "code",
      "metadata": {
        "colab": {
          "base_uri": "https://localhost:8080/"
        },
        "id": "8OeV3NrdUPXw",
        "outputId": "1ed2ac04-46a3-4594-fa2b-cf2db74c0ad8"
      },
      "source": [
        "most_informative_features(training_vectorizer,lr_classifier,20)"
      ],
      "execution_count": null,
      "outputs": [
        {
          "output_type": "stream",
          "text": [
            "\t-0.6577\turl            \t\t0.6537\tdead           \n",
            "\t-0.5497\tfriend         \t\t0.5328\tkill           \n",
            "\t-0.4467\tadvice         \t\t0.4862\tplan           \n",
            "\t-0.3995\tll             \t\t0.4554\talive          \n",
            "\t-0.3968\ttalk           \t\t0.4550\tpain           \n",
            "\t-0.3772\thours          \t\t0.3838\tend            \n",
            "\t-0.3615\tthings         \t\t0.3742\tworld          \n",
            "\t-0.3494\tanymore talk   \t\t0.3692\tcut            \n",
            "\t-0.3494\tanymore_talk   \t\t0.3341\tdie            \n",
            "\t-0.3494\ttalk anymore_talk\t\t0.2797\tday            \n",
            "\t-0.3375\tyear           \t\t0.2678\ttired          \n",
            "\t-0.3352\treddit posting \t\t0.2613\tresolution     \n",
            "\t-0.3352\tsmile reddit   \t\t0.2580\tt_anymore      \n",
            "\t-0.3157\tlink           \t\t0.2559\tfuck           \n",
            "\t-0.3129\tbad            \t\t0.2495\tfucking        \n",
            "\t-0.3099\tgive           \t\t0.2400\tknife          \n",
            "\t-0.3008\trespond        \t\t0.2378\tsucks          \n",
            "\t-0.2850\thappy          \t\t0.2207\tboyfriend      \n",
            "\t-0.2807\tkilled         \t\t0.2203\texplain_someone\n",
            "\t-0.2762\tsad            \t\t0.2166\tweek           \n"
          ],
          "name": "stdout"
        }
      ]
    },
    {
      "cell_type": "code",
      "metadata": {
        "colab": {
          "base_uri": "https://localhost:8080/"
        },
        "id": "XNAP9IydTU6_",
        "outputId": "c5b0a28c-1bb2-4ab8-b02a-53401bce67b9"
      },
      "source": [
        "lr_classifier.score(X_test,A_test['class'])"
      ],
      "execution_count": null,
      "outputs": [
        {
          "output_type": "execute_result",
          "data": {
            "text/plain": [
              "0.56353591160221"
            ]
          },
          "metadata": {
            "tags": []
          },
          "execution_count": 35
        }
      ]
    },
    {
      "cell_type": "code",
      "metadata": {
        "id": "ufLCUOmbAdLJ"
      },
      "source": [
        "X_features,_ = convert_text_into_features(x,stopwords)"
      ],
      "execution_count": null,
      "outputs": []
    },
    {
      "cell_type": "code",
      "metadata": {
        "colab": {
          "base_uri": "https://localhost:8080/"
        },
        "id": "TSJnx_ZWABhc",
        "outputId": "58a0a53e-fb2f-48cf-d02e-b0c0e15507a0"
      },
      "source": [
        "accuracy_scores = cross_val_score(lr_classifier, X_features, \n",
        "                                  data_A['class'],cv= 3)\n",
        "print(\"accuracy scores = {}, mean = {}, stdev = {}\".format(accuracy_scores, np.mean(accuracy_scores), np.std(accuracy_scores)))"
      ],
      "execution_count": null,
      "outputs": [
        {
          "output_type": "stream",
          "text": [
            "accuracy scores = [0.67346939 0.55393586 0.61403509], mean = 0.6138134451775699, stdev = 0.048799610005082476\n"
          ],
          "name": "stdout"
        }
      ]
    },
    {
      "cell_type": "code",
      "metadata": {
        "colab": {
          "base_uri": "https://localhost:8080/",
          "height": 296
        },
        "id": "qD4Nh8u6Upuh",
        "outputId": "59fcff93-c936-4d67-ed6d-2034fb15c1b7"
      },
      "source": [
        "metrics.plot_confusion_matrix(lr_classifier,X_test,A_test['class'])"
      ],
      "execution_count": null,
      "outputs": [
        {
          "output_type": "execute_result",
          "data": {
            "text/plain": [
              "<sklearn.metrics._plot.confusion_matrix.ConfusionMatrixDisplay at 0x7fa4ade32a10>"
            ]
          },
          "metadata": {
            "tags": []
          },
          "execution_count": 38
        },
        {
          "output_type": "display_data",
          "data": {
            "image/png": "[encoded data removed]",
            "text/plain": [
              "<Figure size 432x288 with 2 Axes>"
            ]
          },
          "metadata": {
            "tags": [],
            "needs_background": "light"
          }
        }
      ]
    },
    {
      "cell_type": "code",
      "metadata": {
        "colab": {
          "base_uri": "https://localhost:8080/",
          "height": 296
        },
        "id": "rOjLClNDVMqJ",
        "outputId": "c05c5a89-d489-49cb-aa35-2cacfd1c4b78"
      },
      "source": [
        "metrics.plot_roc_curve(lr_classifier, X_test, A_test['class'])"
      ],
      "execution_count": null,
      "outputs": [
        {
          "output_type": "execute_result",
          "data": {
            "text/plain": [
              "<sklearn.metrics._plot.roc_curve.RocCurveDisplay at 0x7fa4ade32210>"
            ]
          },
          "metadata": {
            "tags": []
          },
          "execution_count": 39
        },
        {
          "output_type": "display_data",
          "data": {
            "image/png": "[encoded data removed]",
            "text/plain": [
              "<Figure size 432x288 with 1 Axes>"
            ]
          },
          "metadata": {
            "tags": [],
            "needs_background": "light"
          }
        }
      ]
    },
    {
      "cell_type": "markdown",
      "metadata": {
        "id": "XaKSQ6iGUvrW"
      },
      "source": [
        "**Testing the Logistic Regression classifier using wild data (all the data but suicide watch)**"
      ]
    },
    {
      "cell_type": "code",
      "metadata": {
        "id": "yY4SDlocVFyK"
      },
      "source": [
        "df_wild_train = shared_task_train[shared_task_train['subreddit'] != 'SuicideWatch']\n",
        "df_wild_test = shared_task_test[shared_task_test['subreddit'] != 'SuicideWatch']\n",
        "\n",
        "df_wild = pd.concat([df_wild_train,df_wild_test],axis=0)\n",
        "df_wild = df_wild.dropna()\n",
        "\n",
        "df_wild = pd.merge(df_wild,crowd_train,on='user_id')\n",
        "\n",
        "df_wild = pd.merge(df_wild,df_class,on='label')"
      ],
      "execution_count": null,
      "outputs": []
    },
    {
      "cell_type": "code",
      "metadata": {
        "id": "0JAVQfjiWYHN"
      },
      "source": [
        "wild_text = df_wild['post_title']+' '+ df_wild['post_body']\n",
        "\n",
        "wild_class = df_wild['class']\n",
        "\n",
        "norm_txt = normalize_tokens(wild_text)\n",
        "\n",
        "norm_txt = pd.DataFrame(data=norm_txt,columns = ['text'])\n",
        "\n",
        "wild_data = pd.concat([norm_txt,wild_class], ignore_index=True, axis=1)\n",
        "wild_data = wild_data.dropna()\n",
        "wild_data.columns = ['text','class']\n",
        "wild_data['text'] = wild_data['text'].apply(denoise_text)"
      ],
      "execution_count": null,
      "outputs": []
    },
    {
      "cell_type": "code",
      "metadata": {
        "id": "vPbT7lwlcNgO"
      },
      "source": [
        "x_wild = convert_lines_to_feature_strings(wild_data['text'],stopwords)"
      ],
      "execution_count": null,
      "outputs": []
    },
    {
      "cell_type": "code",
      "metadata": {
        "id": "CcZI33fnmGgo"
      },
      "source": [
        "x_wild_features = training_vectorizer.transform(x_wild)"
      ],
      "execution_count": null,
      "outputs": []
    },
    {
      "cell_type": "code",
      "metadata": {
        "colab": {
          "base_uri": "https://localhost:8080/"
        },
        "id": "t4JQW1whdlai",
        "outputId": "5dfa47a6-b852-48a1-eaf0-ec9df292028a"
      },
      "source": [
        "accuracy_scores = cross_val_score(lr_classifier, x_wild_features, wild_data['class'],cv= 3)\n",
        "print(\"accuracy scores = {}, mean = {}, stdev = {}\".format(accuracy_scores, np.mean(accuracy_scores), np.std(accuracy_scores)))"
      ],
      "execution_count": null,
      "outputs": [
        {
          "output_type": "stream",
          "text": [
            "/usr/local/lib/python3.7/dist-packages/sklearn/svm/_base.py:947: ConvergenceWarning: Liblinear failed to converge, increase the number of iterations.\n",
            "  \"the number of iterations.\", ConvergenceWarning)\n"
          ],
          "name": "stderr"
        },
        {
          "output_type": "stream",
          "text": [
            "accuracy scores = [0.54941916 0.53704056 0.544     ], mean = 0.5434865739859075, stdev = 0.005066563956202847\n"
          ],
          "name": "stdout"
        }
      ]
    },
    {
      "cell_type": "code",
      "metadata": {
        "id": "VXcsdxRgduLW",
        "colab": {
          "base_uri": "https://localhost:8080/",
          "height": 296
        },
        "outputId": "0aad50a8-3f80-4ffc-d859-640ea4b4d836"
      },
      "source": [
        "metrics.plot_confusion_matrix(lr_classifier,x_wild_features,wild_data['class'])"
      ],
      "execution_count": null,
      "outputs": [
        {
          "output_type": "execute_result",
          "data": {
            "text/plain": [
              "<sklearn.metrics._plot.confusion_matrix.ConfusionMatrixDisplay at 0x7fa4adcbde90>"
            ]
          },
          "metadata": {
            "tags": []
          },
          "execution_count": 50
        },
        {
          "output_type": "display_data",
          "data": {
            "image/png": "[encoded data removed]",
            "text/plain": [
              "<Figure size 432x288 with 2 Axes>"
            ]
          },
          "metadata": {
            "tags": [],
            "needs_background": "light"
          }
        }
      ]
    },
    {
      "cell_type": "markdown",
      "metadata": {
        "id": "4c4c5v59Furu"
      },
      "source": [
        "### **Decision Trees**"
      ]
    },
    {
      "cell_type": "code",
      "metadata": {
        "colab": {
          "base_uri": "https://localhost:8080/"
        },
        "id": "L9VSde_zoA_a",
        "outputId": "9c8f4c41-fcb3-4035-f494-29c7571af096"
      },
      "source": [
        "tree = DecisionTreeClassifier(criterion='entropy')\n",
        "tree.fit(X_train,A_train['class'])"
      ],
      "execution_count": null,
      "outputs": [
        {
          "output_type": "execute_result",
          "data": {
            "text/plain": [
              "DecisionTreeClassifier(ccp_alpha=0.0, class_weight=None, criterion='entropy',\n",
              "                       max_depth=None, max_features=None, max_leaf_nodes=None,\n",
              "                       min_impurity_decrease=0.0, min_impurity_split=None,\n",
              "                       min_samples_leaf=1, min_samples_split=2,\n",
              "                       min_weight_fraction_leaf=0.0, presort='deprecated',\n",
              "                       random_state=None, splitter='best')"
            ]
          },
          "metadata": {
            "tags": []
          },
          "execution_count": 241
        }
      ]
    },
    {
      "cell_type": "code",
      "metadata": {
        "colab": {
          "base_uri": "https://localhost:8080/"
        },
        "id": "hbRJ3KDXGVlQ",
        "outputId": "cd998da6-99b3-47e1-b1e6-ab05f4a2cc3c"
      },
      "source": [
        "tree.score(X_test,A_test['class'])"
      ],
      "execution_count": null,
      "outputs": [
        {
          "output_type": "execute_result",
          "data": {
            "text/plain": [
              "0.580110497237569"
            ]
          },
          "metadata": {
            "tags": []
          },
          "execution_count": 242
        }
      ]
    },
    {
      "cell_type": "code",
      "metadata": {
        "colab": {
          "base_uri": "https://localhost:8080/"
        },
        "id": "S4kKNLNjGbTr",
        "outputId": "d9f914c0-ba66-4615-da4e-467abdee38d1"
      },
      "source": [
        "accuracy_scores = cross_val_score(tree, X_features, \n",
        "                                  data_A['class'],cv= 3)\n",
        "print(\"accuracy scores = {}, mean = {}, stdev = {}\".format(accuracy_scores, np.mean(accuracy_scores), np.std(accuracy_scores)))"
      ],
      "execution_count": null,
      "outputs": [
        {
          "output_type": "stream",
          "text": [
            "accuracy scores = [0.59475219 0.53644315 0.56725146], mean = 0.5661489324217573, stdev = 0.02381732777923446\n"
          ],
          "name": "stdout"
        }
      ]
    },
    {
      "cell_type": "code",
      "metadata": {
        "colab": {
          "base_uri": "https://localhost:8080/",
          "height": 296
        },
        "id": "K0uuFML_Gvb8",
        "outputId": "57ecae2b-ad0f-4b34-b162-3f23c579618b"
      },
      "source": [
        "metrics.plot_confusion_matrix(tree,X_test,A_test['class'])"
      ],
      "execution_count": null,
      "outputs": [
        {
          "output_type": "execute_result",
          "data": {
            "text/plain": [
              "<sklearn.metrics._plot.confusion_matrix.ConfusionMatrixDisplay at 0x7fb6d1e40d10>"
            ]
          },
          "metadata": {
            "tags": []
          },
          "execution_count": 244
        },
        {
          "output_type": "display_data",
          "data": {
            "image/png": "[encoded data removed]",
            "text/plain": [
              "<Figure size 432x288 with 2 Axes>"
            ]
          },
          "metadata": {
            "tags": []
          }
        }
      ]
    },
    {
      "cell_type": "code",
      "metadata": {
        "colab": {
          "base_uri": "https://localhost:8080/",
          "height": 296
        },
        "id": "VstDczDxG20E",
        "outputId": "987220e3-4e49-4ddc-9130-c50ae36c55ed"
      },
      "source": [
        "metrics.plot_roc_curve(tree, X_test,A_test['class'])"
      ],
      "execution_count": null,
      "outputs": [
        {
          "output_type": "execute_result",
          "data": {
            "text/plain": [
              "<sklearn.metrics._plot.roc_curve.RocCurveDisplay at 0x7fb6d4dcdc10>"
            ]
          },
          "metadata": {
            "tags": []
          },
          "execution_count": 245
        },
        {
          "output_type": "display_data",
          "data": {
            "image/png": "[encoded data removed]",
            "text/plain": [
              "<Figure size 432x288 with 1 Axes>"
            ]
          },
          "metadata": {
            "tags": []
          }
        }
      ]
    },
    {
      "cell_type": "markdown",
      "metadata": {
        "id": "V-lSQNkvG_vH"
      },
      "source": [
        "### **SVM**"
      ]
    },
    {
      "cell_type": "code",
      "metadata": {
        "colab": {
          "base_uri": "https://localhost:8080/"
        },
        "id": "5bcxfD6mHEw0",
        "outputId": "a14ccae0-5a6c-464d-85fd-021245c0b5e4"
      },
      "source": [
        "svm_a = svm.SVC()\n",
        "svm_a.fit(X_train,A_train['class'])"
      ],
      "execution_count": null,
      "outputs": [
        {
          "output_type": "execute_result",
          "data": {
            "text/plain": [
              "SVC(C=1.0, break_ties=False, cache_size=200, class_weight=None, coef0=0.0,\n",
              "    decision_function_shape='ovr', degree=3, gamma='scale', kernel='rbf',\n",
              "    max_iter=-1, probability=False, random_state=None, shrinking=True,\n",
              "    tol=0.001, verbose=False)"
            ]
          },
          "metadata": {
            "tags": []
          },
          "execution_count": 249
        }
      ]
    },
    {
      "cell_type": "code",
      "metadata": {
        "colab": {
          "base_uri": "https://localhost:8080/"
        },
        "id": "_9NXY7oZHtS2",
        "outputId": "c1c82b6a-7dfc-4d72-b5c4-52457cd4a724"
      },
      "source": [
        "svm_a.score(X_test,A_test['class'])"
      ],
      "execution_count": null,
      "outputs": [
        {
          "output_type": "execute_result",
          "data": {
            "text/plain": [
              "0.5248618784530387"
            ]
          },
          "metadata": {
            "tags": []
          },
          "execution_count": 250
        }
      ]
    },
    {
      "cell_type": "code",
      "metadata": {
        "colab": {
          "base_uri": "https://localhost:8080/"
        },
        "id": "mpTwnBiLHvkn",
        "outputId": "4ccd3972-53c7-4afd-9fba-132ab95ea2b0"
      },
      "source": [
        "accuracy_scores = cross_val_score(svm_a, X_features, \n",
        "                                  data_A['class'],cv= 3)\n",
        "print(\"accuracy scores = {}, mean = {}, stdev = {}\".format(accuracy_scores, np.mean(accuracy_scores), np.std(accuracy_scores)))"
      ],
      "execution_count": null,
      "outputs": [
        {
          "output_type": "stream",
          "text": [
            "accuracy scores = [0.57725948 0.58017493 0.59356725], mean = 0.5836672179314499, stdev = 0.007100843277030126\n"
          ],
          "name": "stdout"
        }
      ]
    },
    {
      "cell_type": "code",
      "metadata": {
        "colab": {
          "base_uri": "https://localhost:8080/",
          "height": 296
        },
        "id": "LBSj6zIGH5rM",
        "outputId": "d62c3ede-fa12-407c-8004-5f9c582f6159"
      },
      "source": [
        "metrics.plot_confusion_matrix(svm_a,X_test,A_test['class'])"
      ],
      "execution_count": null,
      "outputs": [
        {
          "output_type": "execute_result",
          "data": {
            "text/plain": [
              "<sklearn.metrics._plot.confusion_matrix.ConfusionMatrixDisplay at 0x7fb6d0a1afd0>"
            ]
          },
          "metadata": {
            "tags": []
          },
          "execution_count": 252
        },
        {
          "output_type": "display_data",
          "data": {
            "image/png": "[encoded data removed]",
            "text/plain": [
              "<Figure size 432x288 with 2 Axes>"
            ]
          },
          "metadata": {
            "tags": []
          }
        }
      ]
    },
    {
      "cell_type": "code",
      "metadata": {
        "colab": {
          "base_uri": "https://localhost:8080/",
          "height": 296
        },
        "id": "HD3w29TTIDog",
        "outputId": "c0f81fb6-9e0d-417b-a7fe-8c2493198a32"
      },
      "source": [
        "metrics.plot_roc_curve(svm_a, X_test,A_test['class'])"
      ],
      "execution_count": null,
      "outputs": [
        {
          "output_type": "execute_result",
          "data": {
            "text/plain": [
              "<sklearn.metrics._plot.roc_curve.RocCurveDisplay at 0x7fb6d73a7710>"
            ]
          },
          "metadata": {
            "tags": []
          },
          "execution_count": 254
        },
        {
          "output_type": "display_data",
          "data": {
            "image/png": "[encoded data removed]",
            "text/plain": [
              "<Figure size 432x288 with 1 Axes>"
            ]
          },
          "metadata": {
            "tags": []
          }
        }
      ]
    },
    {
      "cell_type": "markdown",
      "metadata": {
        "id": "zHdLg4UkJLxG"
      },
      "source": [
        "# **Task B**\n",
        "\n",
        "using every post titles and post bodies as training and testing data"
      ]
    },
    {
      "cell_type": "code",
      "metadata": {
        "id": "5IUzNeR_piRr"
      },
      "source": [
        "df_B_train = shared_task_train\n",
        "df_B_train = df_B_train.dropna()\n",
        "df_B_train = pd.merge(df_B_train,crowd_train,on='user_id')\n",
        "df_B_train = pd.merge(df_B_train,df_class, on = 'label')"
      ],
      "execution_count": null,
      "outputs": []
    },
    {
      "cell_type": "code",
      "metadata": {
        "id": "1q3_QnXlVEfP"
      },
      "source": [
        "data_task_b_class = pd.DataFrame(data=df_B_train['class'],columns = ['class'])\n",
        "\n",
        "task_b_text = df_B_train['post_title']+' '+ df_B_train['post_body']\n",
        "task_b_text = normalize_tokens(task_b_text)\n",
        "\n",
        "data_task_b_text = pd.DataFrame(data=task_b_text,columns = ['text'])\n",
        "\n",
        "B_train = pd.concat([data_task_b_text,data_task_b_class],ignore_index=True, axis=1)\n",
        "B_train = B_train.dropna()\n",
        "B_train.columns = ['text','class']"
      ],
      "execution_count": null,
      "outputs": []
    },
    {
      "cell_type": "code",
      "metadata": {
        "id": "p6s-nO50zPJ4"
      },
      "source": [
        "df_B_test = shared_task_test\n",
        "df_B_test = df_B_test.dropna()\n",
        "df_B_test = pd.merge(df_B_test,crowd_test,on='user_id')\n",
        "df_B_test['label'] = df_B_test['raw_label']\n",
        "df_B_test = pd.merge(df_B_test,df_class, on = 'label')\n",
        "\n",
        "data_task_b_class = pd.DataFrame(data=df_B_test['class'],columns = ['class'])\n",
        "\n",
        "task_b_text = df_B_test['post_title']+' '+ df_B_test['post_body']\n",
        "task_b_text = normalize_tokens(task_b_text)\n",
        "\n",
        "data_task_b_text = pd.DataFrame(data=task_b_text,columns = ['text'])\n",
        "\n",
        "B_test = pd.concat([data_task_b_text,data_task_b_class],ignore_index=True, axis=1)\n",
        "B_test = B_test.dropna()\n",
        "B_test.columns = ['text','class']"
      ],
      "execution_count": null,
      "outputs": []
    },
    {
      "cell_type": "code",
      "metadata": {
        "id": "AeyG-XSlZaho"
      },
      "source": [
        "X_train_b = convert_lines_to_feature_strings(B_train['text'],stopwords)"
      ],
      "execution_count": null,
      "outputs": []
    },
    {
      "cell_type": "code",
      "metadata": {
        "id": "wvia_2kz3eEq"
      },
      "source": [
        "X_train_b, training_vectorizer_b = convert_text_into_features(X_train_b,stopwords)"
      ],
      "execution_count": null,
      "outputs": []
    },
    {
      "cell_type": "code",
      "metadata": {
        "id": "MwbCRHGCarlJ"
      },
      "source": [
        "X_test_b =  convert_lines_to_feature_strings(B_test['text'],stopwords)\n",
        "X_test_b_features = training_vectorizer_b.transform(X_test_b)"
      ],
      "execution_count": null,
      "outputs": []
    },
    {
      "cell_type": "markdown",
      "metadata": {
        "id": "BgGPzo9pIfVf"
      },
      "source": [
        "### **Logistic Regression**"
      ]
    },
    {
      "cell_type": "code",
      "metadata": {
        "colab": {
          "base_uri": "https://localhost:8080/"
        },
        "id": "d3p54ZybaggZ",
        "outputId": "80c0bee9-c02c-4391-9643-b54971716049"
      },
      "source": [
        "lr_classifier_b = LogisticRegression(solver='liblinear')\n",
        "lr_classifier_b.fit(X_train_b, B_train['class'])"
      ],
      "execution_count": null,
      "outputs": [
        {
          "output_type": "stream",
          "text": [
            "/usr/local/lib/python3.7/dist-packages/sklearn/svm/_base.py:947: ConvergenceWarning: Liblinear failed to converge, increase the number of iterations.\n",
            "  \"the number of iterations.\", ConvergenceWarning)\n"
          ],
          "name": "stderr"
        },
        {
          "output_type": "execute_result",
          "data": {
            "text/plain": [
              "LogisticRegression(C=1.0, class_weight=None, dual=False, fit_intercept=True,\n",
              "                   intercept_scaling=1, l1_ratio=None, max_iter=100,\n",
              "                   multi_class='auto', n_jobs=None, penalty='l2',\n",
              "                   random_state=None, solver='liblinear', tol=0.0001, verbose=0,\n",
              "                   warm_start=False)"
            ]
          },
          "metadata": {
            "tags": []
          },
          "execution_count": 23
        }
      ]
    },
    {
      "cell_type": "code",
      "metadata": {
        "colab": {
          "base_uri": "https://localhost:8080/"
        },
        "id": "bDF7C79Ekqve",
        "outputId": "38c6bae8-2892-4f0f-8a34-719395c3ba81"
      },
      "source": [
        "most_informative_features(training_vectorizer_b,lr_classifier_b,20)"
      ],
      "execution_count": null,
      "outputs": [
        {
          "output_type": "stream",
          "text": [
            "\t-0.3777\tbike           \t\t0.3621\tvoices         \n",
            "\t-0.2343\ttrees          \t\t0.3612\tps4            \n",
            "\t-0.2129\tissue          \t\t0.2709\tcontest        \n",
            "\t-0.2054\they            \t\t0.2380\tpsn            \n",
            "\t-0.2014\tcancer         \t\t0.2348\tdiscussion     \n",
            "\t-0.1989\tthoughts       \t\t0.2098\twar            \n",
            "\t-0.1853\ttwins          \t\t0.2015\tupset          \n",
            "\t-0.1849\tgreat          \t\t0.1951\tmum            \n",
            "\t-0.1808\tfigured        \t\t0.1929\tamiibo         \n",
            "\t-0.1758\tclose          \t\t0.1908\tmeds           \n",
            "\t-0.1750\tserver         \t\t0.1899\tvegan          \n",
            "\t-0.1679\twater          \t\t0.1871\tweird          \n",
            "\t-0.1660\tyeah           \t\t0.1856\tthealderbunny  \n",
            "\t-0.1650\tstream         \t\t0.1856\tpsn thealderbunny\n",
            "\t-0.1633\tiv             \t\t0.1843\tvoice          \n",
            "\t-0.1628\tfree           \t\t0.1817\tdesign         \n",
            "\t-0.1567\tawesome        \t\t0.1776\tfriendship     \n",
            "\t-0.1547\tmiles          \t\t0.1732\tseries         \n",
            "\t-0.1538\tkinda          \t\t0.1719\t32             \n",
            "\t-0.1530\tnote           \t\t0.1706\tanymore        \n"
          ],
          "name": "stdout"
        }
      ]
    },
    {
      "cell_type": "code",
      "metadata": {
        "colab": {
          "base_uri": "https://localhost:8080/"
        },
        "id": "0lyJ2Xc0bHVL",
        "outputId": "16fe7562-d58d-4cab-958d-d208eaa6566a"
      },
      "source": [
        "lr_classifier_b.score(X_test_b_features,B_test['class'])"
      ],
      "execution_count": null,
      "outputs": [
        {
          "output_type": "execute_result",
          "data": {
            "text/plain": [
              "0.5558499796167957"
            ]
          },
          "metadata": {
            "tags": []
          },
          "execution_count": 280
        }
      ]
    },
    {
      "cell_type": "code",
      "metadata": {
        "id": "P3SIVNDhu6Wa"
      },
      "source": [
        "x_b = vstack([X_train_b,X_test_b_features])\n",
        "data_B = pd.concat([df_B_train,df_B_test],axis=0)"
      ],
      "execution_count": null,
      "outputs": []
    },
    {
      "cell_type": "code",
      "metadata": {
        "id": "eJb8LWacBEee"
      },
      "source": [
        "X_features_b,_ = convert_text_into_features(x_b,stopwords)"
      ],
      "execution_count": null,
      "outputs": []
    },
    {
      "cell_type": "code",
      "metadata": {
        "colab": {
          "base_uri": "https://localhost:8080/"
        },
        "id": "UVV2vnAhBVkI",
        "outputId": "82d85f2b-98f8-4d46-b301-7cabd4d4b3e5"
      },
      "source": [
        "accuracy_scores_b = cross_val_score(lr_classifier_b, X_features_b, data_B['class'],cv= 3)\n",
        "print(\"accuracy scores = {}, mean = {}, stdev = {}\".format(accuracy_scores_b, \n",
        "                                                           np.mean(accuracy_scores_b), \n",
        "                                                           np.std(accuracy_scores_b)))"
      ],
      "execution_count": null,
      "outputs": [
        {
          "output_type": "stream",
          "text": [
            "/usr/local/lib/python3.7/dist-packages/sklearn/svm/_base.py:947: ConvergenceWarning: Liblinear failed to converge, increase the number of iterations.\n",
            "  \"the number of iterations.\", ConvergenceWarning)\n"
          ],
          "name": "stderr"
        },
        {
          "output_type": "stream",
          "text": [
            "accuracy scores = [0.55209932 0.54645647 0.54073661], mean = 0.5464307989529157, stdev = 0.004638842195247443\n"
          ],
          "name": "stdout"
        }
      ]
    },
    {
      "cell_type": "code",
      "metadata": {
        "colab": {
          "base_uri": "https://localhost:8080/",
          "height": 296
        },
        "id": "Y_iLcjSGa29s",
        "outputId": "0f8f5b18-2595-4de8-cd3a-e3fa6962762e"
      },
      "source": [
        "metrics.plot_confusion_matrix(lr_classifier_b,X_test_b_features,B_test['class'])"
      ],
      "execution_count": null,
      "outputs": [
        {
          "output_type": "execute_result",
          "data": {
            "text/plain": [
              "<sklearn.metrics._plot.confusion_matrix.ConfusionMatrixDisplay at 0x7fb6d75dd550>"
            ]
          },
          "metadata": {
            "tags": []
          },
          "execution_count": 289
        },
        {
          "output_type": "display_data",
          "data": {
            "image/png": "[encoded data removed]",
            "text/plain": [
              "<Figure size 432x288 with 2 Axes>"
            ]
          },
          "metadata": {
            "tags": [],
            "needs_background": "light"
          }
        }
      ]
    },
    {
      "cell_type": "code",
      "metadata": {
        "colab": {
          "base_uri": "https://localhost:8080/",
          "height": 296
        },
        "id": "TQr1v0dJbUPl",
        "outputId": "25d48b7d-f57e-4a4b-be10-716d2db43502"
      },
      "source": [
        "metrics.plot_roc_curve(lr_classifier_b, X_test_b_features,B_test['class'])"
      ],
      "execution_count": null,
      "outputs": [
        {
          "output_type": "execute_result",
          "data": {
            "text/plain": [
              "<sklearn.metrics._plot.roc_curve.RocCurveDisplay at 0x7fb69fa91e50>"
            ]
          },
          "metadata": {
            "tags": []
          },
          "execution_count": 290
        },
        {
          "output_type": "display_data",
          "data": {
            "image/png": "[encoded data removed]",
            "text/plain": [
              "<Figure size 432x288 with 1 Axes>"
            ]
          },
          "metadata": {
            "tags": [],
            "needs_background": "light"
          }
        }
      ]
    },
    {
      "cell_type": "markdown",
      "metadata": {
        "id": "hhdD5JxfImMQ"
      },
      "source": [
        "### **Decision Trees**"
      ]
    },
    {
      "cell_type": "code",
      "metadata": {
        "colab": {
          "base_uri": "https://localhost:8080/"
        },
        "id": "YOVoesWwIzYf",
        "outputId": "bc736cdb-bc36-4f5b-fa21-d6dfd2a6d9f2"
      },
      "source": [
        "tree_b = DecisionTreeClassifier(criterion='entropy')\n",
        "tree_b.fit(X_train_b, B_train['class'])"
      ],
      "execution_count": null,
      "outputs": [
        {
          "output_type": "execute_result",
          "data": {
            "text/plain": [
              "DecisionTreeClassifier(ccp_alpha=0.0, class_weight=None, criterion='entropy',\n",
              "                       max_depth=None, max_features=None, max_leaf_nodes=None,\n",
              "                       min_impurity_decrease=0.0, min_impurity_split=None,\n",
              "                       min_samples_leaf=1, min_samples_split=2,\n",
              "                       min_weight_fraction_leaf=0.0, presort='deprecated',\n",
              "                       random_state=None, splitter='best')"
            ]
          },
          "metadata": {
            "tags": []
          },
          "execution_count": 291
        }
      ]
    },
    {
      "cell_type": "code",
      "metadata": {
        "colab": {
          "base_uri": "https://localhost:8080/"
        },
        "id": "xIDWZmAiJDeO",
        "outputId": "12472acc-082e-42b5-b09c-8e1e7a83e389"
      },
      "source": [
        "tree_b.score(X_test_b_features,B_test['class'])"
      ],
      "execution_count": null,
      "outputs": [
        {
          "output_type": "execute_result",
          "data": {
            "text/plain": [
              "0.5226253567060742"
            ]
          },
          "metadata": {
            "tags": []
          },
          "execution_count": 293
        }
      ]
    },
    {
      "cell_type": "code",
      "metadata": {
        "colab": {
          "base_uri": "https://localhost:8080/"
        },
        "id": "CiSlPE1fJYb3",
        "outputId": "699e0963-b8e9-48e6-b9a6-0c2aac7c88bf"
      },
      "source": [
        "accuracy_scores = cross_val_score(tree_b, X_features_b, data_B['class'],cv= 3)\n",
        "print(\"accuracy scores = {}, mean = {}, stdev = {}\".format(accuracy_scores_b, \n",
        "                                                           np.mean(accuracy_scores_b), \n",
        "                                                           np.std(accuracy_scores_b)))"
      ],
      "execution_count": null,
      "outputs": [
        {
          "output_type": "stream",
          "text": [
            "accuracy scores = [0.55209932 0.54645647 0.54073661], mean = 0.5464307989529157, stdev = 0.004638842195247443\n"
          ],
          "name": "stdout"
        }
      ]
    },
    {
      "cell_type": "code",
      "metadata": {
        "colab": {
          "base_uri": "https://localhost:8080/",
          "height": 296
        },
        "id": "bFcocWzfJ6r9",
        "outputId": "72ed0373-841a-489e-c5d8-57a512207819"
      },
      "source": [
        "metrics.plot_confusion_matrix(tree_b,X_test_b_features,B_test['class'])"
      ],
      "execution_count": null,
      "outputs": [
        {
          "output_type": "execute_result",
          "data": {
            "text/plain": [
              "<sklearn.metrics._plot.confusion_matrix.ConfusionMatrixDisplay at 0x7fb6a04a2bd0>"
            ]
          },
          "metadata": {
            "tags": []
          },
          "execution_count": 295
        },
        {
          "output_type": "display_data",
          "data": {
            "image/png": "[encoded data removed]",
            "text/plain": [
              "<Figure size 432x288 with 2 Axes>"
            ]
          },
          "metadata": {
            "tags": [],
            "needs_background": "light"
          }
        }
      ]
    },
    {
      "cell_type": "code",
      "metadata": {
        "colab": {
          "base_uri": "https://localhost:8080/",
          "height": 296
        },
        "id": "MsXlEiv3KAEe",
        "outputId": "b1c0d0f3-ae45-45ab-93dc-e9f534f6a35c"
      },
      "source": [
        "metrics.plot_roc_curve(tree_b, X_test_b_features,B_test['class'])"
      ],
      "execution_count": null,
      "outputs": [
        {
          "output_type": "execute_result",
          "data": {
            "text/plain": [
              "<sklearn.metrics._plot.roc_curve.RocCurveDisplay at 0x7fb6d1e89350>"
            ]
          },
          "metadata": {
            "tags": []
          },
          "execution_count": 296
        },
        {
          "output_type": "display_data",
          "data": {
            "image/png": "[encoded data removed]",
            "text/plain": [
              "<Figure size 432x288 with 1 Axes>"
            ]
          },
          "metadata": {
            "tags": [],
            "needs_background": "light"
          }
        }
      ]
    },
    {
      "cell_type": "markdown",
      "metadata": {
        "id": "xAzt_KOxInFL"
      },
      "source": [
        "### **SVM**"
      ]
    },
    {
      "cell_type": "code",
      "metadata": {
        "colab": {
          "base_uri": "https://localhost:8080/"
        },
        "id": "c3yG1QLcKXL8",
        "outputId": "5f62a062-9787-464f-e89b-02e793c8cda2"
      },
      "source": [
        "svm_b = svm.SVC()\n",
        "svm_b.fit(X_train_b, B_train['class'])"
      ],
      "execution_count": null,
      "outputs": [
        {
          "output_type": "execute_result",
          "data": {
            "text/plain": [
              "SVC(C=1.0, break_ties=False, cache_size=200, class_weight=None, coef0=0.0,\n",
              "    decision_function_shape='ovr', degree=3, gamma='scale', kernel='rbf',\n",
              "    max_iter=-1, probability=False, random_state=None, shrinking=True,\n",
              "    tol=0.001, verbose=False)"
            ]
          },
          "metadata": {
            "tags": []
          },
          "execution_count": 297
        }
      ]
    },
    {
      "cell_type": "code",
      "metadata": {
        "colab": {
          "base_uri": "https://localhost:8080/"
        },
        "id": "ZS6RzGslLLZf",
        "outputId": "0aa7d7c4-c807-42d9-dc0c-89c5fca93220"
      },
      "source": [
        "svm_b.score(X_test_b_features,B_test['class'])"
      ],
      "execution_count": null,
      "outputs": [
        {
          "output_type": "execute_result",
          "data": {
            "text/plain": [
              "0.5727680391357521"
            ]
          },
          "metadata": {
            "tags": []
          },
          "execution_count": 298
        }
      ]
    },
    {
      "cell_type": "code",
      "metadata": {
        "colab": {
          "base_uri": "https://localhost:8080/"
        },
        "id": "kY8DPjKlLRfe",
        "outputId": "4c4d60ec-7e49-4bdb-f1c5-2e4e719133e5"
      },
      "source": [
        "accuracy_scores = cross_val_score(svm_b, X_features_b, \n",
        "                                  data_B['class'],cv= 3)\n",
        "print(\"accuracy scores = {}, mean = {}, stdev = {}\".format(accuracy_scores, np.mean(accuracy_scores), np.std(accuracy_scores)))"
      ],
      "execution_count": null,
      "outputs": [
        {
          "output_type": "stream",
          "text": [
            "accuracy scores = [0.57929976 0.57212612 0.57212612], mean = 0.5745173316702535, stdev = 0.003381689530416379\n"
          ],
          "name": "stdout"
        }
      ]
    },
    {
      "cell_type": "code",
      "metadata": {
        "colab": {
          "base_uri": "https://localhost:8080/",
          "height": 296
        },
        "id": "zk2BV-HxLZ32",
        "outputId": "ea067c4e-27f9-4276-c9f8-913d1e64e742"
      },
      "source": [
        "metrics.plot_confusion_matrix(svm_b,X_test_b_features,B_test['class'])"
      ],
      "execution_count": null,
      "outputs": [
        {
          "output_type": "execute_result",
          "data": {
            "text/plain": [
              "<sklearn.metrics._plot.confusion_matrix.ConfusionMatrixDisplay at 0x7fb6d1e890d0>"
            ]
          },
          "metadata": {
            "tags": []
          },
          "execution_count": 300
        },
        {
          "output_type": "display_data",
          "data": {
            "image/png": "[encoded data removed]",
            "text/plain": [
              "<Figure size 432x288 with 2 Axes>"
            ]
          },
          "metadata": {
            "tags": [],
            "needs_background": "light"
          }
        }
      ]
    },
    {
      "cell_type": "code",
      "metadata": {
        "colab": {
          "base_uri": "https://localhost:8080/",
          "height": 296
        },
        "id": "e7MxftkOLe05",
        "outputId": "cc3703d5-1d28-4907-caa1-64fff5781772"
      },
      "source": [
        "metrics.plot_roc_curve(svm_b, X_test_b_features,B_test['class'])"
      ],
      "execution_count": null,
      "outputs": [
        {
          "output_type": "execute_result",
          "data": {
            "text/plain": [
              "<sklearn.metrics._plot.roc_curve.RocCurveDisplay at 0x7fb6d1e1b610>"
            ]
          },
          "metadata": {
            "tags": []
          },
          "execution_count": 301
        },
        {
          "output_type": "display_data",
          "data": {
            "image/png": "[encoded data removed]",
            "text/plain": [
              "<Figure size 432x288 with 1 Axes>"
            ]
          },
          "metadata": {
            "tags": [],
            "needs_background": "light"
          }
        }
      ]
    }
  ]
}