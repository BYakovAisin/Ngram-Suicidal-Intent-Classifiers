{
  "nbformat": 4,
  "nbformat_minor": 0,
  "metadata": {
    "colab": {
      "name": "NLP_Final_Project(2.0).ipynb",
      "provenance": [],
      "collapsed_sections": []
    },
    "kernelspec": {
      "name": "python3",
      "display_name": "Python 3"
    },
    "language_info": {
      "name": "python"
    },
    "accelerator": "TPU"
  },
  "cells": [
    {
      "cell_type": "code",
      "metadata": {
        "id": "qmook8VUeDO4"
      },
      "source": [
        "import csv\n",
        "import codecs\n",
        "import argparse\n",
        "import os\n",
        "from pathlib import Path\n",
        "import pandas as pd\n",
        "import sys, argparse\n",
        "from sklearn import metrics\n",
        "import matplotlib\n",
        "import matplotlib.pyplot as plt\n",
        "import seaborn as sn\n",
        "import gc\n",
        "from spacy.lang.en import English\n",
        "import re\n",
        "import string\n",
        "from tqdm import tqdm\n",
        "import numpy as np\n",
        "from scipy.sparse import coo_matrix, vstack\n",
        "from sklearn.linear_model import LogisticRegression\n",
        "from sklearn import svm\n",
        "from sklearn.tree import DecisionTreeClassifier\n",
        "from sklearn.naive_bayes import GaussianNB\n",
        "from sklearn.feature_extraction.text import CountVectorizer\n",
        "from sklearn.model_selection import train_test_split\n",
        "from sklearn.model_selection import cross_val_score\n",
        "import sklearn.metrics as metrics\n",
        "import matplotlib.pyplot as plt\n",
        "from collections import Counter\n",
        "from bs4 import BeautifulSoup"
      ],
      "execution_count": null,
      "outputs": []
    },
    {
      "cell_type": "code",
      "metadata": {
        "id": "W_FuRz3Tgz7r"
      },
      "source": [
        "path = '/content/drive/MyDrive/DATA641 Final Project/nlp_project_data/umd_reddit_suicidewatch_dataset_v2/'"
      ],
      "execution_count": null,
      "outputs": []
    },
    {
      "cell_type": "markdown",
      "metadata": {
        "id": "si1QWOYgRVYx"
      },
      "source": [
        "# **Functions**"
      ]
    },
    {
      "cell_type": "code",
      "metadata": {
        "id": "AeXLWDQNIPN7"
      },
      "source": [
        "def normalize_tokens(tokenlist):\n",
        "    normalized_tokens = [token.lower().replace('_','+') for token in tokenlist   # lowercase, _ => +\n",
        "                             if re.search('[^\\s]', token) is not None            # ignore whitespace tokens\n",
        "                             and not token.startswith(\"@\")                       # ignore  handles\n",
        "                        ]\n",
        "    return normalized_tokens    \n",
        "\n",
        "def ngrams(tokens, n):\n",
        "    return [tokens[i:i+n] for i in range(len(tokens)-n+1)]\n",
        "\n",
        "def filter_punctuation_bigrams(ngrams):\n",
        "    punct = string.punctuation\n",
        "    return [ngram   for ngram in ngrams   if ngram[0] not in punct and ngram[1] not in punct]\n",
        "\n",
        "def filter_stopword_bigrams(ngrams, stopwords):\n",
        "    result = [ngram   for ngram in ngrams   if ngram[0] not in stopwords and ngram[1] not in stopwords]\n",
        "    return result"
      ],
      "execution_count": null,
      "outputs": []
    },
    {
      "cell_type": "code",
      "metadata": {
        "id": "PfVz-gejKoEr"
      },
      "source": [
        "def convert_text_into_features(X, stopwords_arg, analyzefn=\"word\", range=(1,1)):\n",
        "    training_vectorizer = CountVectorizer(stop_words=stopwords_arg,\n",
        "                                          analyzer=analyzefn,\n",
        "                                          lowercase=True,\n",
        "                                          ngram_range=range)\n",
        "    X_features = training_vectorizer.fit_transform(X)\n",
        "    return X_features, training_vectorizer\n",
        "\n",
        "def convert_lines_to_feature_strings(lines, stopwords, remove_stopword_bigrams=True):\n",
        "\n",
        "    print(\" Converting from raw text to unigram and bigram features\")\n",
        "    if remove_stopword_bigrams:\n",
        "        print(\" Includes filtering stopword bigrams\")\n",
        "        \n",
        "    print(\" Initializing\")\n",
        "    nlp          = English(parser=False)\n",
        "    all_features = []\n",
        "    print(\" Iterating through documents extracting unigram and bigram features\")\n",
        "    for line in tqdm(lines):\n",
        "        \n",
        "        # Get spacy tokenization and normalize the tokens\n",
        "        spacy_analysis    = nlp(line)\n",
        "        spacy_tokens      = [token.orth_ for token in spacy_analysis]\n",
        "        normalized_tokens = normalize_tokens(spacy_tokens)\n",
        "\n",
        "        # Collect unigram tokens as features\n",
        "        # Exclude unigrams that are stopwords or are punctuation strings (e.g. '.' or ',')\n",
        "        unigrams          = [token   for token in normalized_tokens\n",
        "                                 if token not in stopwords and token not in string.punctuation]\n",
        "\n",
        "        # Conjoin the feature lists and turn into a space-separated string of features.\n",
        "        # E.g. if unigrams is ['coffee', 'cup'] and bigrams is ['coffee_cup', 'white_house']\n",
        "        # then feature_string should be 'coffee cup coffee_cup white_house'\n",
        "\n",
        "        unigrams = \" \".join(unigrams)\n",
        "        feature_string = unigrams \n",
        "\n",
        "        # Add this feature string to the output\n",
        "        all_features.append(feature_string)\n",
        "\n",
        "\n",
        "    print(\" Feature string for first document: '{}'\".format(all_features[0]))\n",
        "        \n",
        "    return all_features\n",
        "\n",
        "def most_informative_features(vectorizer, classifier, n=20):\n",
        "    # Adapted from https://stackoverflow.com/questions/11116697/how-to-get-most-informative-features-for-scikit-learn-classifiers#11116960\n",
        "    feature_names       = vectorizer.get_feature_names()\n",
        "    coefs_with_features = sorted(zip(classifier.coef_[0], feature_names))\n",
        "    top                 = zip(coefs_with_features[:n], coefs_with_features[:-(n + 1):-1])\n",
        "    for (coef_1, feature_1), (coef_2, feature_2) in top:\n",
        "        print(\"\\t%.4f\\t%-15s\\t\\t%.4f\\t%-15s\" % (coef_1, feature_1, coef_2, feature_2))"
      ],
      "execution_count": null,
      "outputs": []
    },
    {
      "cell_type": "code",
      "metadata": {
        "id": "GrBfOaFuGwgL"
      },
      "source": [
        "def load_stopwords(filename):\n",
        "    stopwords = []\n",
        "    with codecs.open(filename, 'r', encoding='ascii', errors='ignore') as fp:\n",
        "        stopwords = fp.read().split('\\n')\n",
        "    return set(stopwords)\n",
        "\n",
        "stopwords = load_stopwords(path+'mallet_en_stoplist.txt')   "
      ],
      "execution_count": null,
      "outputs": []
    },
    {
      "cell_type": "code",
      "metadata": {
        "id": "3J7YGEvTWDXQ"
      },
      "source": [
        "def strip_html(text):\n",
        "    soup = BeautifulSoup(text, \"html.parser\")\n",
        "    return soup.get_text()\n",
        "\n",
        "#Removing the square brackets\n",
        "def remove_between_square_brackets(text):\n",
        "    return re.sub('\\[[^]/,.!?]*\\]', '', text)\n",
        "# Removing URL's\n",
        "def remove_between_square_brackets(text):\n",
        "    return re.sub(r'http\\S+', '', text)\n",
        "#Removing the stopwords from text\n",
        "def remove_stopwords(text):\n",
        "    final_text = []\n",
        "    for i in text.split():\n",
        "        if i.strip().lower() not in stopwords:\n",
        "            final_text.append(i.strip())\n",
        "    return \" \".join(final_text)\n",
        "#Removing the noisy text\n",
        "def denoise_text(text):\n",
        "    text = strip_html(text)\n",
        "    text = remove_between_square_brackets(text)\n",
        "    text = remove_stopwords(text)\n",
        "    return text"
      ],
      "execution_count": null,
      "outputs": []
    },
    {
      "cell_type": "markdown",
      "metadata": {
        "id": "IJg0tWc1RRXR"
      },
      "source": [
        "# **Loading Data**"
      ]
    },
    {
      "cell_type": "code",
      "metadata": {
        "id": "zkGRGRhphlS6"
      },
      "source": [
        "crowd_train = pd.read_csv(path+'crowd/train/crowd_train.csv')\n",
        "task_A_train = pd.read_csv(path+'crowd/train/task_A_train.posts.csv')\n",
        "task_B_train = pd.read_csv(path+'crowd/train/task_B_train.posts.csv')\n",
        "task_C_train = pd.read_csv(path+'crowd/train/task_B_train.posts.csv')\n",
        "shared_task_train = pd.read_csv(path+'crowd/train/shared_task_posts.csv')"
      ],
      "execution_count": null,
      "outputs": []
    },
    {
      "cell_type": "code",
      "metadata": {
        "id": "4cOFouP2mZ-u"
      },
      "source": [
        "crowd_test = pd.read_csv(path+'crowd/test/crowd_test.csv')\n",
        "task_A_test = pd.read_csv(path+'crowd/test/task_A_test.posts.csv')\n",
        "task_B_test = pd.read_csv(path+'crowd/test/task_B_test.posts.csv')\n",
        "task_C_test = pd.read_csv(path+'crowd/test/task_B_test.posts.csv')\n",
        "shared_task_test = pd.read_csv(path+'crowd/test/shared_task_posts_test.csv')"
      ],
      "execution_count": null,
      "outputs": []
    },
    {
      "cell_type": "code",
      "metadata": {
        "colab": {
          "base_uri": "https://localhost:8080/",
          "height": 166
        },
        "id": "oOjYpdpFNdLu",
        "outputId": "8c264eb1-30fd-49e0-f295-5f863689eec9"
      },
      "source": [
        "label = np.array(['a','b','c','d'])\n",
        "c = np.array(['Negative','Negative','Negative','Positive'])\n",
        "\n",
        "d = np.vstack([label,c])\n",
        "\n",
        "df_class = pd.DataFrame(data=d.T,columns=['label','class'])\n",
        "\n",
        "df_class"
      ],
      "execution_count": null,
      "outputs": [
        {
          "output_type": "execute_result",
          "data": {
            "text/html": [
              "<div>\n",
              "<style scoped>\n",
              "    .dataframe tbody tr th:only-of-type {\n",
              "        vertical-align: middle;\n",
              "    }\n",
              "\n",
              "    .dataframe tbody tr th {\n",
              "        vertical-align: top;\n",
              "    }\n",
              "\n",
              "    .dataframe thead th {\n",
              "        text-align: right;\n",
              "    }\n",
              "</style>\n",
              "<table border=\"1\" class=\"dataframe\">\n",
              "  <thead>\n",
              "    <tr style=\"text-align: right;\">\n",
              "      <th></th>\n",
              "      <th>label</th>\n",
              "      <th>class</th>\n",
              "    </tr>\n",
              "  </thead>\n",
              "  <tbody>\n",
              "    <tr>\n",
              "      <th>0</th>\n",
              "      <td>a</td>\n",
              "      <td>Negative</td>\n",
              "    </tr>\n",
              "    <tr>\n",
              "      <th>1</th>\n",
              "      <td>b</td>\n",
              "      <td>Negative</td>\n",
              "    </tr>\n",
              "    <tr>\n",
              "      <th>2</th>\n",
              "      <td>c</td>\n",
              "      <td>Negative</td>\n",
              "    </tr>\n",
              "    <tr>\n",
              "      <th>3</th>\n",
              "      <td>d</td>\n",
              "      <td>Positive</td>\n",
              "    </tr>\n",
              "  </tbody>\n",
              "</table>\n",
              "</div>"
            ],
            "text/plain": [
              "  label     class\n",
              "0     a  Negative\n",
              "1     b  Negative\n",
              "2     c  Negative\n",
              "3     d  Positive"
            ]
          },
          "metadata": {
            "tags": []
          },
          "execution_count": 10
        }
      ]
    },
    {
      "cell_type": "markdown",
      "metadata": {
        "id": "qJjS4RgphvlK"
      },
      "source": [
        "# **Task - only Suicide Watch**"
      ]
    },
    {
      "cell_type": "code",
      "metadata": {
        "id": "Dv4QbywQkc1S"
      },
      "source": [
        "df_A_train = shared_task_train[shared_task_train['subreddit'] == 'SuicideWatch']\n",
        "df_A_train = df_A_train.dropna()"
      ],
      "execution_count": null,
      "outputs": []
    },
    {
      "cell_type": "code",
      "metadata": {
        "id": "xu-QckY5onWN"
      },
      "source": [
        "df_A_train = pd.merge(df_A_train,crowd_train,on='user_id')\n",
        "\n",
        "df_A_train = pd.merge(df_A_train,df_class,on='label')"
      ],
      "execution_count": null,
      "outputs": []
    },
    {
      "cell_type": "code",
      "metadata": {
        "id": "ko0XTSD-n6zx"
      },
      "source": [
        "df_A_test = shared_task_test[shared_task_test['subreddit'] == 'SuicideWatch']\n",
        "df_A_test = df_A_test.dropna()\n",
        "\n",
        "df_A_test = pd.merge(df_A_test,crowd_test,on='user_id')\n",
        "\n",
        "df_A_test['label'] = df_A_test['raw_label']\n",
        "\n",
        "df_A_test = pd.merge(df_A_test,df_class,on='label')\n"
      ],
      "execution_count": null,
      "outputs": []
    },
    {
      "cell_type": "code",
      "metadata": {
        "id": "6JOXHOFlQcu5",
        "colab": {
          "base_uri": "https://localhost:8080/"
        },
        "outputId": "ae4bab76-6afd-42e5-d410-1c0766494a53"
      },
      "source": [
        "X_train = convert_lines_to_feature_strings(df_A_train['post_body'],stopwords)"
      ],
      "execution_count": null,
      "outputs": [
        {
          "output_type": "stream",
          "text": [
            " Converting from raw text to unigram and bigram features\n",
            " Includes filtering stopword bigrams\n",
            " Initializing\n"
          ],
          "name": "stdout"
        },
        {
          "output_type": "stream",
          "text": [
            "  0%|          | 3/847 [00:00<00:28, 29.78it/s]"
          ],
          "name": "stderr"
        },
        {
          "output_type": "stream",
          "text": [
            " Iterating through documents extracting unigram and bigram features\n"
          ],
          "name": "stdout"
        },
        {
          "output_type": "stream",
          "text": [
            "100%|██████████| 847/847 [00:25<00:00, 33.03it/s]"
          ],
          "name": "stderr"
        },
        {
          "output_type": "stream",
          "text": [
            " Feature string for first document: 'party fun ... smoke ... n't remember fucking hurt 's 's compare pain inside things ... people n't sad beacuse talk problems ... fine okey .. people cool person confident ... fucking wrong scar real ... glad ... opening hand ... 's head ... witness depression ... things real ... scar 21 male ... feel 80 ... wanted share thoughts ..'\n"
          ],
          "name": "stdout"
        },
        {
          "output_type": "stream",
          "text": [
            "\n"
          ],
          "name": "stderr"
        }
      ]
    },
    {
      "cell_type": "code",
      "metadata": {
        "id": "7gqhGOrITAYK"
      },
      "source": [
        "X_train, training_vectorizer = convert_text_into_features(X_train,stopwords)"
      ],
      "execution_count": null,
      "outputs": []
    },
    {
      "cell_type": "code",
      "metadata": {
        "id": "zC0Pvj2Aoi4E",
        "colab": {
          "base_uri": "https://localhost:8080/"
        },
        "outputId": "dc312c08-d675-46af-9621-b92ac5fb0de4"
      },
      "source": [
        "X_test = convert_lines_to_feature_strings(df_A_test['post_body'],stopwords)\n",
        "X_test = training_vectorizer.transform(X_test)"
      ],
      "execution_count": null,
      "outputs": [
        {
          "output_type": "stream",
          "text": [
            " Converting from raw text to unigram and bigram features\n",
            " Includes filtering stopword bigrams\n",
            " Initializing\n"
          ],
          "name": "stdout"
        },
        {
          "output_type": "stream",
          "text": [
            "  2%|▏         | 4/181 [00:00<00:05, 31.47it/s]"
          ],
          "name": "stderr"
        },
        {
          "output_type": "stream",
          "text": [
            " Iterating through documents extracting unigram and bigram features\n"
          ],
          "name": "stdout"
        },
        {
          "output_type": "stream",
          "text": [
            "100%|██████████| 181/181 [00:05<00:00, 32.29it/s]"
          ],
          "name": "stderr"
        },
        {
          "output_type": "stream",
          "text": [
            " Feature string for first document: 'n't hand 've told stay alive persevere life hand blowing brains ending matter die accept'\n"
          ],
          "name": "stdout"
        },
        {
          "output_type": "stream",
          "text": [
            "\n"
          ],
          "name": "stderr"
        }
      ]
    },
    {
      "cell_type": "code",
      "metadata": {
        "id": "ssUCWwNnuTwa"
      },
      "source": [
        "data_A = pd.concat([df_A_train,df_A_test],axis=0)"
      ],
      "execution_count": null,
      "outputs": []
    },
    {
      "cell_type": "code",
      "metadata": {
        "id": "mE66W0UiuoTs",
        "colab": {
          "base_uri": "https://localhost:8080/"
        },
        "outputId": "8b19d402-c9fe-459e-b8cc-a7139c62efaf"
      },
      "source": [
        "x = convert_lines_to_feature_strings(data_A['post_body'],stopwords)"
      ],
      "execution_count": null,
      "outputs": [
        {
          "output_type": "stream",
          "text": [
            " Converting from raw text to unigram and bigram features\n",
            " Includes filtering stopword bigrams\n",
            " Initializing\n"
          ],
          "name": "stdout"
        },
        {
          "output_type": "stream",
          "text": [
            "  0%|          | 3/1028 [00:00<00:34, 29.73it/s]"
          ],
          "name": "stderr"
        },
        {
          "output_type": "stream",
          "text": [
            " Iterating through documents extracting unigram and bigram features\n"
          ],
          "name": "stdout"
        },
        {
          "output_type": "stream",
          "text": [
            "100%|██████████| 1028/1028 [00:31<00:00, 33.00it/s]"
          ],
          "name": "stderr"
        },
        {
          "output_type": "stream",
          "text": [
            " Feature string for first document: 'party fun ... smoke ... n't remember fucking hurt 's 's compare pain inside things ... people n't sad beacuse talk problems ... fine okey .. people cool person confident ... fucking wrong scar real ... glad ... opening hand ... 's head ... witness depression ... things real ... scar 21 male ... feel 80 ... wanted share thoughts ..'\n"
          ],
          "name": "stdout"
        },
        {
          "output_type": "stream",
          "text": [
            "\n"
          ],
          "name": "stderr"
        }
      ]
    },
    {
      "cell_type": "markdown",
      "metadata": {
        "id": "Y5rywOKNFgzu"
      },
      "source": [
        "### **Logistic Regression**"
      ]
    },
    {
      "cell_type": "code",
      "metadata": {
        "colab": {
          "base_uri": "https://localhost:8080/"
        },
        "id": "4zuOLM4YTpzK",
        "outputId": "e8d1f478-8070-43a6-969d-af6ed2e7e9de"
      },
      "source": [
        "lr_classifier = LogisticRegression(solver='liblinear')\n",
        "lr_classifier.fit(X_train, df_A_train['class'])"
      ],
      "execution_count": null,
      "outputs": [
        {
          "output_type": "execute_result",
          "data": {
            "text/plain": [
              "LogisticRegression(C=1.0, class_weight=None, dual=False, fit_intercept=True,\n",
              "                   intercept_scaling=1, l1_ratio=None, max_iter=100,\n",
              "                   multi_class='auto', n_jobs=None, penalty='l2',\n",
              "                   random_state=None, solver='liblinear', tol=0.0001, verbose=0,\n",
              "                   warm_start=False)"
            ]
          },
          "metadata": {
            "tags": []
          },
          "execution_count": 19
        }
      ]
    },
    {
      "cell_type": "code",
      "metadata": {
        "colab": {
          "base_uri": "https://localhost:8080/"
        },
        "id": "8OeV3NrdUPXw",
        "outputId": "61ac1bea-e0cb-48fa-a7c0-127a88d40cf4"
      },
      "source": [
        "most_informative_features(training_vectorizer,lr_classifier,20)"
      ],
      "execution_count": null,
      "outputs": [
        {
          "output_type": "stream",
          "text": [
            "\t-1.4434\turl            \t\t0.9774\tcut            \n",
            "\t-0.7982\tadvice         \t\t0.8646\tplan           \n",
            "\t-0.7866\tsad            \t\t0.8600\tworld          \n",
            "\t-0.7814\thours          \t\t0.7978\tknife          \n",
            "\t-0.7712\tphone          \t\t0.7557\tupset          \n",
            "\t-0.7516\tsituation      \t\t0.7517\tenjoy          \n",
            "\t-0.7421\tbeat           \t\t0.7400\tpart           \n",
            "\t-0.7199\tafraid         \t\t0.7280\talive          \n",
            "\t-0.7120\tidea           \t\t0.7081\tthroat         \n",
            "\t-0.6997\tloans          \t\t0.6605\toption         \n",
            "\t-0.6989\tthrowaway      \t\t0.6507\tfinally        \n",
            "\t-0.6834\tmale           \t\t0.6119\tlot            \n",
            "\t-0.6623\tyear           \t\t0.6115\tmess           \n",
            "\t-0.6492\trecently       \t\t0.6066\tready          \n",
            "\t-0.6378\tfriend         \t\t0.5984\tgon            \n",
            "\t-0.6263\tconvince       \t\t0.5975\tanymore        \n",
            "\t-0.6008\treasons        \t\t0.5932\tlistening      \n",
            "\t-0.5922\tearly          \t\t0.5929\tpain           \n",
            "\t-0.5799\tfound          \t\t0.5886\tperfect        \n",
            "\t-0.5731\tquote          \t\t0.5811\ttired          \n"
          ],
          "name": "stdout"
        }
      ]
    },
    {
      "cell_type": "code",
      "metadata": {
        "colab": {
          "base_uri": "https://localhost:8080/"
        },
        "id": "XNAP9IydTU6_",
        "outputId": "206e3d55-e64e-44c1-e1a4-05c07459affe"
      },
      "source": [
        "lr_classifier.score(X_test,df_A_test['class'])"
      ],
      "execution_count": null,
      "outputs": [
        {
          "output_type": "execute_result",
          "data": {
            "text/plain": [
              "0.5524861878453039"
            ]
          },
          "metadata": {
            "tags": []
          },
          "execution_count": 21
        }
      ]
    },
    {
      "cell_type": "code",
      "metadata": {
        "id": "ufLCUOmbAdLJ"
      },
      "source": [
        "X_features,_ = convert_text_into_features(x,stopwords)"
      ],
      "execution_count": null,
      "outputs": []
    },
    {
      "cell_type": "code",
      "metadata": {
        "colab": {
          "base_uri": "https://localhost:8080/"
        },
        "id": "TSJnx_ZWABhc",
        "outputId": "3dc4ffd7-d6cc-40bf-db9c-9b901d22f04e"
      },
      "source": [
        "accuracy_scores = cross_val_score(lr_classifier, X_features, \n",
        "                                  data_A['class'],cv= 3)\n",
        "print(\"accuracy scores = {}, mean = {}, stdev = {}\".format(accuracy_scores, np.mean(accuracy_scores), np.std(accuracy_scores)))"
      ],
      "execution_count": null,
      "outputs": [
        {
          "output_type": "stream",
          "text": [
            "accuracy scores = [0.60641399 0.56851312 0.56432749], mean = 0.5797515330275803, stdev = 0.018930487032098688\n"
          ],
          "name": "stdout"
        }
      ]
    },
    {
      "cell_type": "code",
      "metadata": {
        "colab": {
          "base_uri": "https://localhost:8080/",
          "height": 300
        },
        "id": "qD4Nh8u6Upuh",
        "outputId": "17218d11-2720-4c71-b7d9-429528137b69"
      },
      "source": [
        "metrics.plot_confusion_matrix(lr_classifier,X_test,df_A_test['class'])"
      ],
      "execution_count": null,
      "outputs": [
        {
          "output_type": "execute_result",
          "data": {
            "text/plain": [
              "<sklearn.metrics._plot.confusion_matrix.ConfusionMatrixDisplay at 0x7fd2efb13450>"
            ]
          },
          "metadata": {
            "tags": []
          },
          "execution_count": 24
        },
        {
          "output_type": "display_data",
          "data": {
            "image/png": "[encoded data removed]",
            "text/plain": [
              "<Figure size 432x288 with 2 Axes>"
            ]
          },
          "metadata": {
            "tags": [],
            "needs_background": "light"
          }
        }
      ]
    },
    {
      "cell_type": "code",
      "metadata": {
        "colab": {
          "base_uri": "https://localhost:8080/",
          "height": 296
        },
        "id": "rOjLClNDVMqJ",
        "outputId": "b777df45-d995-44c9-d442-9f2b1a9b24ab"
      },
      "source": [
        "metrics.plot_roc_curve(lr_classifier, X_test, df_A_test['class'])"
      ],
      "execution_count": null,
      "outputs": [
        {
          "output_type": "execute_result",
          "data": {
            "text/plain": [
              "<sklearn.metrics._plot.roc_curve.RocCurveDisplay at 0x7fd2edeb2950>"
            ]
          },
          "metadata": {
            "tags": []
          },
          "execution_count": 25
        },
        {
          "output_type": "display_data",
          "data": {
            "image/png": "[encoded data removed]",
            "text/plain": [
              "<Figure size 432x288 with 1 Axes>"
            ]
          },
          "metadata": {
            "tags": [],
            "needs_background": "light"
          }
        }
      ]
    },
    {
      "cell_type": "markdown",
      "metadata": {
        "id": "4c4c5v59Furu"
      },
      "source": [
        "### **Decision Trees**"
      ]
    },
    {
      "cell_type": "code",
      "metadata": {
        "colab": {
          "base_uri": "https://localhost:8080/"
        },
        "id": "L9VSde_zoA_a",
        "outputId": "f711e0cb-624d-49eb-92db-6265c852b21b"
      },
      "source": [
        "tree = DecisionTreeClassifier(criterion='entropy')\n",
        "tree.fit(X_train,df_A_train['class'])"
      ],
      "execution_count": null,
      "outputs": [
        {
          "output_type": "execute_result",
          "data": {
            "text/plain": [
              "DecisionTreeClassifier(ccp_alpha=0.0, class_weight=None, criterion='entropy',\n",
              "                       max_depth=None, max_features=None, max_leaf_nodes=None,\n",
              "                       min_impurity_decrease=0.0, min_impurity_split=None,\n",
              "                       min_samples_leaf=1, min_samples_split=2,\n",
              "                       min_weight_fraction_leaf=0.0, presort='deprecated',\n",
              "                       random_state=None, splitter='best')"
            ]
          },
          "metadata": {
            "tags": []
          },
          "execution_count": 26
        }
      ]
    },
    {
      "cell_type": "code",
      "metadata": {
        "colab": {
          "base_uri": "https://localhost:8080/"
        },
        "id": "hbRJ3KDXGVlQ",
        "outputId": "e8c59359-1cfa-4d93-eb91-227f5c024e91"
      },
      "source": [
        "tree.score(X_test,df_A_test['class'])"
      ],
      "execution_count": null,
      "outputs": [
        {
          "output_type": "execute_result",
          "data": {
            "text/plain": [
              "0.5193370165745856"
            ]
          },
          "metadata": {
            "tags": []
          },
          "execution_count": 27
        }
      ]
    },
    {
      "cell_type": "code",
      "metadata": {
        "colab": {
          "base_uri": "https://localhost:8080/"
        },
        "id": "S4kKNLNjGbTr",
        "outputId": "63032bb3-03d2-430b-fc6e-45d11dbac83a"
      },
      "source": [
        "accuracy_scores = cross_val_score(tree, X_features, \n",
        "                                  data_A['class'],cv= 3)\n",
        "print(\"accuracy scores = {}, mean = {}, stdev = {}\".format(accuracy_scores, np.mean(accuracy_scores), np.std(accuracy_scores)))"
      ],
      "execution_count": null,
      "outputs": [
        {
          "output_type": "stream",
          "text": [
            "accuracy scores = [0.65014577 0.52478134 0.53216374], mean = 0.5690302854642274, stdev = 0.05743643821708137\n"
          ],
          "name": "stdout"
        }
      ]
    },
    {
      "cell_type": "code",
      "metadata": {
        "colab": {
          "base_uri": "https://localhost:8080/",
          "height": 300
        },
        "id": "4xYQld9O2iuC",
        "outputId": "92f2b0b4-8340-41c6-8dd3-b9a047ea0b96"
      },
      "source": [
        "metrics.plot_confusion_matrix(tree,X_test,df_A_test['class'])"
      ],
      "execution_count": null,
      "outputs": [
        {
          "output_type": "execute_result",
          "data": {
            "text/plain": [
              "<sklearn.metrics._plot.confusion_matrix.ConfusionMatrixDisplay at 0x7fd2edfca190>"
            ]
          },
          "metadata": {
            "tags": []
          },
          "execution_count": 29
        },
        {
          "output_type": "display_data",
          "data": {
            "image/png": "[encoded data removed]",
            "text/plain": [
              "<Figure size 432x288 with 2 Axes>"
            ]
          },
          "metadata": {
            "tags": [],
            "needs_background": "light"
          }
        }
      ]
    },
    {
      "cell_type": "code",
      "metadata": {
        "colab": {
          "base_uri": "https://localhost:8080/",
          "height": 296
        },
        "id": "Dx4uslxD2_rA",
        "outputId": "340f5195-c23a-4b06-f81c-a1c18d5e6c79"
      },
      "source": [
        "metrics.plot_roc_curve(tree, X_test, df_A_test['class'])"
      ],
      "execution_count": null,
      "outputs": [
        {
          "output_type": "execute_result",
          "data": {
            "text/plain": [
              "<sklearn.metrics._plot.roc_curve.RocCurveDisplay at 0x7fd2ede4e050>"
            ]
          },
          "metadata": {
            "tags": []
          },
          "execution_count": 30
        },
        {
          "output_type": "display_data",
          "data": {
            "image/png": "[encoded data removed]",
            "text/plain": [
              "<Figure size 432x288 with 1 Axes>"
            ]
          },
          "metadata": {
            "tags": [],
            "needs_background": "light"
          }
        }
      ]
    },
    {
      "cell_type": "markdown",
      "metadata": {
        "id": "zHdLg4UkJLxG"
      },
      "source": [
        "# **Task - everything**"
      ]
    },
    {
      "cell_type": "code",
      "metadata": {
        "colab": {
          "base_uri": "https://localhost:8080/",
          "height": 570
        },
        "id": "5IUzNeR_piRr",
        "outputId": "d5da9c12-f350-45e5-97b7-3700d95487fa"
      },
      "source": [
        "df_B_train = shared_task_train\n",
        "df_B_train = df_B_train.dropna()\n",
        "df_B_train = pd.merge(df_B_train,crowd_train,on='user_id')\n",
        "df_B_train = pd.merge(df_B_train,df_class, on = 'label')\n",
        "\n",
        "df_B_train"
      ],
      "execution_count": null,
      "outputs": [
        {
          "output_type": "execute_result",
          "data": {
            "text/html": [
              "<div>\n",
              "<style scoped>\n",
              "    .dataframe tbody tr th:only-of-type {\n",
              "        vertical-align: middle;\n",
              "    }\n",
              "\n",
              "    .dataframe tbody tr th {\n",
              "        vertical-align: top;\n",
              "    }\n",
              "\n",
              "    .dataframe thead th {\n",
              "        text-align: right;\n",
              "    }\n",
              "</style>\n",
              "<table border=\"1\" class=\"dataframe\">\n",
              "  <thead>\n",
              "    <tr style=\"text-align: right;\">\n",
              "      <th></th>\n",
              "      <th>post_id</th>\n",
              "      <th>user_id</th>\n",
              "      <th>timestamp</th>\n",
              "      <th>subreddit</th>\n",
              "      <th>post_title</th>\n",
              "      <th>post_body</th>\n",
              "      <th>label</th>\n",
              "      <th>class</th>\n",
              "    </tr>\n",
              "  </thead>\n",
              "  <tbody>\n",
              "    <tr>\n",
              "      <th>0</th>\n",
              "      <td>wfimt</td>\n",
              "      <td>22002</td>\n",
              "      <td>1342075703</td>\n",
              "      <td>GetMotivated</td>\n",
              "      <td>[real] motivation</td>\n",
              "      <td>This is my first post on reddit. Some time ago...</td>\n",
              "      <td>a</td>\n",
              "      <td>Negative</td>\n",
              "    </tr>\n",
              "    <tr>\n",
              "      <th>1</th>\n",
              "      <td>1bsqv3</td>\n",
              "      <td>22002</td>\n",
              "      <td>1365261010</td>\n",
              "      <td>leagueoflegends</td>\n",
              "      <td>simple question about transfering acc to anoth...</td>\n",
              "      <td>Hi.. What will happen with my ranked rating? I...</td>\n",
              "      <td>a</td>\n",
              "      <td>Negative</td>\n",
              "    </tr>\n",
              "    <tr>\n",
              "      <th>2</th>\n",
              "      <td>1dr0xf</td>\n",
              "      <td>22002</td>\n",
              "      <td>1367787358</td>\n",
              "      <td>leagueoflegends</td>\n",
              "      <td>simple question: Did you get unnbaned?</td>\n",
              "      <td>Hi. Simple question. Did you get unban from a ...</td>\n",
              "      <td>a</td>\n",
              "      <td>Negative</td>\n",
              "    </tr>\n",
              "    <tr>\n",
              "      <th>3</th>\n",
              "      <td>1e0noi</td>\n",
              "      <td>22002</td>\n",
              "      <td>1368125785</td>\n",
              "      <td>leagueoflegends</td>\n",
              "      <td>I can't win. Why... and it's noy my fault.</td>\n",
              "      <td>Hi... Am playing at Eu west... am diamond 5 ri...</td>\n",
              "      <td>a</td>\n",
              "      <td>Negative</td>\n",
              "    </tr>\n",
              "    <tr>\n",
              "      <th>4</th>\n",
              "      <td>1f0y6g</td>\n",
              "      <td>22002</td>\n",
              "      <td>1369483647</td>\n",
              "      <td>leagueoflegends</td>\n",
              "      <td>Diamond 5. Mrr rest</td>\n",
              "      <td>If i will switch server to EU and then go back...</td>\n",
              "      <td>a</td>\n",
              "      <td>Negative</td>\n",
              "    </tr>\n",
              "    <tr>\n",
              "      <th>...</th>\n",
              "      <td>...</td>\n",
              "      <td>...</td>\n",
              "      <td>...</td>\n",
              "      <td>...</td>\n",
              "      <td>...</td>\n",
              "      <td>...</td>\n",
              "      <td>...</td>\n",
              "      <td>...</td>\n",
              "    </tr>\n",
              "    <tr>\n",
              "      <th>16595</th>\n",
              "      <td>22syfw</td>\n",
              "      <td>40424</td>\n",
              "      <td>1397246842</td>\n",
              "      <td>Spanish</td>\n",
              "      <td>What is present progressive in this?</td>\n",
              "      <td>I am not understanding this. If i can get a li...</td>\n",
              "      <td>b</td>\n",
              "      <td>Negative</td>\n",
              "    </tr>\n",
              "    <tr>\n",
              "      <th>16596</th>\n",
              "      <td>2ftbnr</td>\n",
              "      <td>40424</td>\n",
              "      <td>1410190045</td>\n",
              "      <td>relationships</td>\n",
              "      <td>Me [28 M] with my GF [25 F] duration 2.5 years...</td>\n",
              "      <td>So my girlfriend has been getting mad at me re...</td>\n",
              "      <td>b</td>\n",
              "      <td>Negative</td>\n",
              "    </tr>\n",
              "    <tr>\n",
              "      <th>16597</th>\n",
              "      <td>2go4vz</td>\n",
              "      <td>40424</td>\n",
              "      <td>1410969771</td>\n",
              "      <td>MUTCoinSelling</td>\n",
              "      <td>Looking to buy elites and coins for XBOX one</td>\n",
              "      <td>I can do pay pal and amazon. Msg me and we can...</td>\n",
              "      <td>b</td>\n",
              "      <td>Negative</td>\n",
              "    </tr>\n",
              "    <tr>\n",
              "      <th>16598</th>\n",
              "      <td>2tg29c</td>\n",
              "      <td>40424</td>\n",
              "      <td>1422048216</td>\n",
              "      <td>baltimore</td>\n",
              "      <td>Where is the best place to get a leather couch...</td>\n",
              "      <td>My roommates cat scratched up my leather couch...</td>\n",
              "      <td>b</td>\n",
              "      <td>Negative</td>\n",
              "    </tr>\n",
              "    <tr>\n",
              "      <th>16599</th>\n",
              "      <td>37afvj</td>\n",
              "      <td>40424</td>\n",
              "      <td>1432614087</td>\n",
              "      <td>baltimore</td>\n",
              "      <td>Sliding scale therapy?</td>\n",
              "      <td>Hey guys I'm just looking to talk to someone b...</td>\n",
              "      <td>b</td>\n",
              "      <td>Negative</td>\n",
              "    </tr>\n",
              "  </tbody>\n",
              "</table>\n",
              "<p>16600 rows × 8 columns</p>\n",
              "</div>"
            ],
            "text/plain": [
              "      post_id  user_id  ...  label     class\n",
              "0       wfimt    22002  ...      a  Negative\n",
              "1      1bsqv3    22002  ...      a  Negative\n",
              "2      1dr0xf    22002  ...      a  Negative\n",
              "3      1e0noi    22002  ...      a  Negative\n",
              "4      1f0y6g    22002  ...      a  Negative\n",
              "...       ...      ...  ...    ...       ...\n",
              "16595  22syfw    40424  ...      b  Negative\n",
              "16596  2ftbnr    40424  ...      b  Negative\n",
              "16597  2go4vz    40424  ...      b  Negative\n",
              "16598  2tg29c    40424  ...      b  Negative\n",
              "16599  37afvj    40424  ...      b  Negative\n",
              "\n",
              "[16600 rows x 8 columns]"
            ]
          },
          "metadata": {
            "tags": []
          },
          "execution_count": 31
        }
      ]
    },
    {
      "cell_type": "code",
      "metadata": {
        "colab": {
          "base_uri": "https://localhost:8080/",
          "height": 570
        },
        "id": "p6s-nO50zPJ4",
        "outputId": "4494f760-0269-4e82-a2ea-40d66c2e3454"
      },
      "source": [
        "df_B_test = shared_task_test\n",
        "df_B_test = df_B_test.dropna()\n",
        "df_B_test = pd.merge(df_B_test,crowd_test,on='user_id')\n",
        "df_B_test['label'] = df_B_test['raw_label']\n",
        "df_B_test = pd.merge(df_B_test,df_class, on = 'label')\n",
        "\n",
        "df_B_test"
      ],
      "execution_count": null,
      "outputs": [
        {
          "output_type": "execute_result",
          "data": {
            "text/html": [
              "<div>\n",
              "<style scoped>\n",
              "    .dataframe tbody tr th:only-of-type {\n",
              "        vertical-align: middle;\n",
              "    }\n",
              "\n",
              "    .dataframe tbody tr th {\n",
              "        vertical-align: top;\n",
              "    }\n",
              "\n",
              "    .dataframe thead th {\n",
              "        text-align: right;\n",
              "    }\n",
              "</style>\n",
              "<table border=\"1\" class=\"dataframe\">\n",
              "  <thead>\n",
              "    <tr style=\"text-align: right;\">\n",
              "      <th></th>\n",
              "      <th>post_id</th>\n",
              "      <th>user_id</th>\n",
              "      <th>timestamp</th>\n",
              "      <th>subreddit</th>\n",
              "      <th>post_title</th>\n",
              "      <th>post_body</th>\n",
              "      <th>raw_label</th>\n",
              "      <th>label</th>\n",
              "      <th>class</th>\n",
              "    </tr>\n",
              "  </thead>\n",
              "  <tbody>\n",
              "    <tr>\n",
              "      <th>0</th>\n",
              "      <td>lqc87</td>\n",
              "      <td>22411</td>\n",
              "      <td>1319673820</td>\n",
              "      <td>SuicideWatch</td>\n",
              "      <td>Is it \"Stronger\" to kill yourself or stay alive?</td>\n",
              "      <td>I mean really, I think about it, I don't want ...</td>\n",
              "      <td>c</td>\n",
              "      <td>c</td>\n",
              "      <td>Negative</td>\n",
              "    </tr>\n",
              "    <tr>\n",
              "      <th>1</th>\n",
              "      <td>lqleq</td>\n",
              "      <td>22411</td>\n",
              "      <td>1319688687</td>\n",
              "      <td>AskReddit</td>\n",
              "      <td>Is it me or my job?</td>\n",
              "      <td>I'm not sure if this is in the right place but...</td>\n",
              "      <td>c</td>\n",
              "      <td>c</td>\n",
              "      <td>Negative</td>\n",
              "    </tr>\n",
              "    <tr>\n",
              "      <th>2</th>\n",
              "      <td>lxaor</td>\n",
              "      <td>22411</td>\n",
              "      <td>1320205091</td>\n",
              "      <td>SuicideWatch</td>\n",
              "      <td>Not entirely sure where this belongs, But you ...</td>\n",
              "      <td>So where to begin... So I have facets of my li...</td>\n",
              "      <td>c</td>\n",
              "      <td>c</td>\n",
              "      <td>Negative</td>\n",
              "    </tr>\n",
              "    <tr>\n",
              "      <th>3</th>\n",
              "      <td>m47u6</td>\n",
              "      <td>22411</td>\n",
              "      <td>1320714594</td>\n",
              "      <td>theoffice</td>\n",
              "      <td>I think we see to more of Creed.</td>\n",
              "      <td>Seriously he needs more airtime, cause he is c...</td>\n",
              "      <td>c</td>\n",
              "      <td>c</td>\n",
              "      <td>Negative</td>\n",
              "    </tr>\n",
              "    <tr>\n",
              "      <th>4</th>\n",
              "      <td>m4fit</td>\n",
              "      <td>22411</td>\n",
              "      <td>1320726045</td>\n",
              "      <td>r4r</td>\n",
              "      <td>(M4a) Drinking buddies on eastern long island</td>\n",
              "      <td>I'm on eastern long island and have never been...</td>\n",
              "      <td>c</td>\n",
              "      <td>c</td>\n",
              "      <td>Negative</td>\n",
              "    </tr>\n",
              "    <tr>\n",
              "      <th>...</th>\n",
              "      <td>...</td>\n",
              "      <td>...</td>\n",
              "      <td>...</td>\n",
              "      <td>...</td>\n",
              "      <td>...</td>\n",
              "      <td>...</td>\n",
              "      <td>...</td>\n",
              "      <td>...</td>\n",
              "      <td>...</td>\n",
              "    </tr>\n",
              "    <tr>\n",
              "      <th>4901</th>\n",
              "      <td>2bv6hp</td>\n",
              "      <td>2198</td>\n",
              "      <td>1406477835</td>\n",
              "      <td>SuicideWatch</td>\n",
              "      <td>Large rant of suicidal thoughts, beware! **Not...</td>\n",
              "      <td>First, let me start by saying that I'm trained...</td>\n",
              "      <td>b</td>\n",
              "      <td>b</td>\n",
              "      <td>Negative</td>\n",
              "    </tr>\n",
              "    <tr>\n",
              "      <th>4902</th>\n",
              "      <td>2p1h67</td>\n",
              "      <td>2198</td>\n",
              "      <td>1418352696</td>\n",
              "      <td>depression</td>\n",
              "      <td>Lonely, feeling like I'm sinking further into ...</td>\n",
              "      <td>A little about me: I'm a female, 24. I have ba...</td>\n",
              "      <td>b</td>\n",
              "      <td>b</td>\n",
              "      <td>Negative</td>\n",
              "    </tr>\n",
              "    <tr>\n",
              "      <th>4903</th>\n",
              "      <td>2pmtg6</td>\n",
              "      <td>2198</td>\n",
              "      <td>1418863397</td>\n",
              "      <td>selfharm</td>\n",
              "      <td>Feeling utterly worthless and so ridiculously ...</td>\n",
              "      <td>I need help. I need not to self harm. I've res...</td>\n",
              "      <td>b</td>\n",
              "      <td>b</td>\n",
              "      <td>Negative</td>\n",
              "    </tr>\n",
              "    <tr>\n",
              "      <th>4904</th>\n",
              "      <td>2sg3cf</td>\n",
              "      <td>2198</td>\n",
              "      <td>1421272482</td>\n",
              "      <td>depression</td>\n",
              "      <td>Why fucking try?</td>\n",
              "      <td>Took me all week to get out of bed and be moti...</td>\n",
              "      <td>b</td>\n",
              "      <td>b</td>\n",
              "      <td>Negative</td>\n",
              "    </tr>\n",
              "    <tr>\n",
              "      <th>4905</th>\n",
              "      <td>2sgbm9</td>\n",
              "      <td>2198</td>\n",
              "      <td>1421276196</td>\n",
              "      <td>EOOD</td>\n",
              "      <td>In need of motivation. Help me and yourself!</td>\n",
              "      <td>I'm desperately looking to get motivated for s...</td>\n",
              "      <td>b</td>\n",
              "      <td>b</td>\n",
              "      <td>Negative</td>\n",
              "    </tr>\n",
              "  </tbody>\n",
              "</table>\n",
              "<p>4906 rows × 9 columns</p>\n",
              "</div>"
            ],
            "text/plain": [
              "     post_id  user_id   timestamp  ... raw_label label     class\n",
              "0      lqc87    22411  1319673820  ...         c     c  Negative\n",
              "1      lqleq    22411  1319688687  ...         c     c  Negative\n",
              "2      lxaor    22411  1320205091  ...         c     c  Negative\n",
              "3      m47u6    22411  1320714594  ...         c     c  Negative\n",
              "4      m4fit    22411  1320726045  ...         c     c  Negative\n",
              "...      ...      ...         ...  ...       ...   ...       ...\n",
              "4901  2bv6hp     2198  1406477835  ...         b     b  Negative\n",
              "4902  2p1h67     2198  1418352696  ...         b     b  Negative\n",
              "4903  2pmtg6     2198  1418863397  ...         b     b  Negative\n",
              "4904  2sg3cf     2198  1421272482  ...         b     b  Negative\n",
              "4905  2sgbm9     2198  1421276196  ...         b     b  Negative\n",
              "\n",
              "[4906 rows x 9 columns]"
            ]
          },
          "metadata": {
            "tags": []
          },
          "execution_count": 32
        }
      ]
    },
    {
      "cell_type": "code",
      "metadata": {
        "id": "AeyG-XSlZaho",
        "colab": {
          "base_uri": "https://localhost:8080/"
        },
        "outputId": "fc73e5c1-4628-46b7-fdeb-522b6345fe0d"
      },
      "source": [
        "x_b = convert_lines_to_feature_strings(df_B_train['post_body'],stopwords)"
      ],
      "execution_count": null,
      "outputs": [
        {
          "output_type": "stream",
          "text": [
            " Converting from raw text to unigram and bigram features\n",
            " Includes filtering stopword bigrams\n",
            " Initializing\n"
          ],
          "name": "stdout"
        },
        {
          "output_type": "stream",
          "text": [
            "100%|██████████| 16600/16600 [08:13<00:00, 33.62it/s]"
          ],
          "name": "stderr"
        },
        {
          "output_type": "stream",
          "text": [
            " Iterating through documents extracting unigram and bigram features\n",
            " Feature string for first document: 'post reddit time ago wanted change life wanted fit wanted seduce beatiful womens wanted pass exams words real motivation dosen't movies watched books read 3 years realize moring siting famous people monument thinking real motivation perspective life literally change aspects life motivation fucking soul consciousness person works place dont person fit dont person person girls moment life realize hammer face soul cry beacuse person explode nuklear bomb motivation person person reflection literally create road succes time ... fat soo fat nt „ wanted ” run run ... mater matter long 6 months run 5 minutes days ago make test ... run 20 minutes ... 30 minutes ... 40 minutes broke chains run 60 minutes time life tired hell people person anymore created tears sweat feeling god messiah guys website love awesome place days write'\n"
          ],
          "name": "stdout"
        },
        {
          "output_type": "stream",
          "text": [
            "\n"
          ],
          "name": "stderr"
        }
      ]
    },
    {
      "cell_type": "code",
      "metadata": {
        "id": "wvia_2kz3eEq"
      },
      "source": [
        "X_train_b, training_vectorizer_b = convert_text_into_features(x_b,stopwords)"
      ],
      "execution_count": null,
      "outputs": []
    },
    {
      "cell_type": "code",
      "metadata": {
        "id": "MwbCRHGCarlJ",
        "colab": {
          "base_uri": "https://localhost:8080/"
        },
        "outputId": "1eb6072c-3423-402a-ac09-02e9318df634"
      },
      "source": [
        "X_test_b =  convert_lines_to_feature_strings(df_B_test['post_body'],stopwords)\n",
        "X_test_b_features = training_vectorizer_b.transform(X_test_b)"
      ],
      "execution_count": null,
      "outputs": [
        {
          "output_type": "stream",
          "text": [
            " Converting from raw text to unigram and bigram features\n",
            " Includes filtering stopword bigrams\n",
            " Initializing\n"
          ],
          "name": "stdout"
        },
        {
          "output_type": "stream",
          "text": [
            "  0%|          | 3/4906 [00:00<03:16, 24.99it/s]"
          ],
          "name": "stderr"
        },
        {
          "output_type": "stream",
          "text": [
            " Iterating through documents extracting unigram and bigram features\n"
          ],
          "name": "stdout"
        },
        {
          "output_type": "stream",
          "text": [
            "100%|██████████| 4906/4906 [02:26<00:00, 33.60it/s]\n"
          ],
          "name": "stderr"
        },
        {
          "output_type": "stream",
          "text": [
            " Feature string for first document: 'n't hand 've told stay alive persevere life hand blowing brains ending matter die accept'\n"
          ],
          "name": "stdout"
        }
      ]
    },
    {
      "cell_type": "markdown",
      "metadata": {
        "id": "BgGPzo9pIfVf"
      },
      "source": [
        "### **Logistic Regression**"
      ]
    },
    {
      "cell_type": "code",
      "metadata": {
        "id": "d3p54ZybaggZ",
        "colab": {
          "base_uri": "https://localhost:8080/"
        },
        "outputId": "126df0f0-6512-40a0-d8fc-e8ee0fc9e719"
      },
      "source": [
        "lr_classifier_b = LogisticRegression(solver='liblinear')\n",
        "lr_classifier_b.fit(X_train_b, df_B_train['class'])"
      ],
      "execution_count": null,
      "outputs": [
        {
          "output_type": "stream",
          "text": [
            "/usr/local/lib/python3.7/dist-packages/sklearn/svm/_base.py:947: ConvergenceWarning: Liblinear failed to converge, increase the number of iterations.\n",
            "  \"the number of iterations.\", ConvergenceWarning)\n"
          ],
          "name": "stderr"
        },
        {
          "output_type": "execute_result",
          "data": {
            "text/plain": [
              "LogisticRegression(C=1.0, class_weight=None, dual=False, fit_intercept=True,\n",
              "                   intercept_scaling=1, l1_ratio=None, max_iter=100,\n",
              "                   multi_class='auto', n_jobs=None, penalty='l2',\n",
              "                   random_state=None, solver='liblinear', tol=0.0001, verbose=0,\n",
              "                   warm_start=False)"
            ]
          },
          "metadata": {
            "tags": []
          },
          "execution_count": 36
        }
      ]
    },
    {
      "cell_type": "code",
      "metadata": {
        "id": "H_5ym2DBtjKq",
        "colab": {
          "base_uri": "https://localhost:8080/"
        },
        "outputId": "12424cae-daf6-4e59-f850-ca39ef0d6d2c"
      },
      "source": [
        "most_informative_features(training_vectorizer_b,lr_classifier_b,20)"
      ],
      "execution_count": null,
      "outputs": [
        {
          "output_type": "stream",
          "text": [
            "\t-0.1189\turl            \t\t0.0969\tca             \n",
            "\t-0.0911\tbike           \t\t0.0856\tfeel           \n",
            "\t-0.0712\tgreat          \t\t0.0832\tvoices         \n",
            "\t-0.0600\tguys           \t\t0.0646\tlife           \n",
            "\t-0.0510\they            \t\t0.0588\tanymore        \n",
            "\t-0.0503\tadvice         \t\t0.0515\tmeds           \n",
            "\t-0.0469\tpretty         \t\t0.0416\thome           \n",
            "\t-0.0463\tpost           \t\t0.0405\tdimension      \n",
            "\t-0.0449\tissue          \t\t0.0404\tfamily         \n",
            "\t-0.0438\tfun            \t\t0.0392\tkill           \n",
            "\t-0.0422\tteam           \t\t0.0377\tsick           \n",
            "\t-0.0422\tfree           \t\t0.0358\twar            \n",
            "\t-0.0392\tfind           \t\t0.0352\tjob            \n",
            "\t-0.0388\tthing          \t\t0.0348\tpsn            \n",
            "\t-0.0381\thigh           \t\t0.0348\tsuicide        \n",
            "\t-0.0366\tdamage         \t\t0.0345\ttold           \n",
            "\t-0.0361\twater          \t\t0.0344\tfriends        \n",
            "\t-0.0357\tthoughts       \t\t0.0343\tmedication     \n",
            "\t-0.0351\tshow           \t\t0.0342\tyears          \n",
            "\t-0.0347\tnt             \t\t0.0340\thouse          \n"
          ],
          "name": "stdout"
        }
      ]
    },
    {
      "cell_type": "code",
      "metadata": {
        "id": "0lyJ2Xc0bHVL",
        "colab": {
          "base_uri": "https://localhost:8080/"
        },
        "outputId": "9b2742af-c671-488c-cb92-1ad80fd2c140"
      },
      "source": [
        "lr_classifier_b.score(X_test_b_features,df_B_test['class'])"
      ],
      "execution_count": null,
      "outputs": [
        {
          "output_type": "execute_result",
          "data": {
            "text/plain": [
              "0.5774561761108846"
            ]
          },
          "metadata": {
            "tags": []
          },
          "execution_count": 38
        }
      ]
    },
    {
      "cell_type": "code",
      "metadata": {
        "id": "P3SIVNDhu6Wa"
      },
      "source": [
        "x_features_b = vstack([X_train_b,X_test_b_features])\n",
        "data_B = pd.concat([df_B_train,df_B_test],axis=0)"
      ],
      "execution_count": null,
      "outputs": []
    },
    {
      "cell_type": "code",
      "metadata": {
        "id": "l2Bl6XCevcNK",
        "colab": {
          "base_uri": "https://localhost:8080/"
        },
        "outputId": "b5ef2d43-bade-49e8-bb79-66828fabf9c5"
      },
      "source": [
        "accuracy_scores_b = cross_val_score(lr_classifier_b, x_features_b, data_B['class'],cv= 3)\n",
        "print(\"accuracy scores = {}, mean = {}, stdev = {}\".format(accuracy_scores_b, \n",
        "                                                           np.mean(accuracy_scores_b), \n",
        "                                                           np.std(accuracy_scores_b)))"
      ],
      "execution_count": null,
      "outputs": [
        {
          "output_type": "stream",
          "text": [
            "/usr/local/lib/python3.7/dist-packages/sklearn/svm/_base.py:947: ConvergenceWarning: Liblinear failed to converge, increase the number of iterations.\n",
            "  \"the number of iterations.\", ConvergenceWarning)\n"
          ],
          "name": "stderr"
        },
        {
          "output_type": "stream",
          "text": [
            "accuracy scores = [0.54163761 0.55795787 0.53166853], mean = 0.5437546691089779, stdev = 0.010836478906021374\n"
          ],
          "name": "stdout"
        }
      ]
    },
    {
      "cell_type": "code",
      "metadata": {
        "id": "Y_iLcjSGa29s",
        "colab": {
          "base_uri": "https://localhost:8080/",
          "height": 296
        },
        "outputId": "9a7367bc-2807-42d4-e691-7842b474412a"
      },
      "source": [
        "metrics.plot_confusion_matrix(lr_classifier_b,X_test_b_features,df_B_test['class'])"
      ],
      "execution_count": null,
      "outputs": [
        {
          "output_type": "execute_result",
          "data": {
            "text/plain": [
              "<sklearn.metrics._plot.confusion_matrix.ConfusionMatrixDisplay at 0x7fd2ec933410>"
            ]
          },
          "metadata": {
            "tags": []
          },
          "execution_count": 41
        },
        {
          "output_type": "display_data",
          "data": {
            "image/png": "[encoded data removed]",
            "text/plain": [
              "<Figure size 432x288 with 2 Axes>"
            ]
          },
          "metadata": {
            "tags": [],
            "needs_background": "light"
          }
        }
      ]
    },
    {
      "cell_type": "code",
      "metadata": {
        "id": "TQr1v0dJbUPl",
        "colab": {
          "base_uri": "https://localhost:8080/",
          "height": 296
        },
        "outputId": "d1e9b01e-cdad-4c20-a406-9a7dbb698173"
      },
      "source": [
        "metrics.plot_roc_curve(lr_classifier_b, X_test_b_features,df_B_test['class'])"
      ],
      "execution_count": null,
      "outputs": [
        {
          "output_type": "execute_result",
          "data": {
            "text/plain": [
              "<sklearn.metrics._plot.roc_curve.RocCurveDisplay at 0x7fd2ed3a1050>"
            ]
          },
          "metadata": {
            "tags": []
          },
          "execution_count": 42
        },
        {
          "output_type": "display_data",
          "data": {
            "image/png": "[encoded data removed]",
            "text/plain": [
              "<Figure size 432x288 with 1 Axes>"
            ]
          },
          "metadata": {
            "tags": [],
            "needs_background": "light"
          }
        }
      ]
    },
    {
      "cell_type": "markdown",
      "metadata": {
        "id": "hhdD5JxfImMQ"
      },
      "source": [
        "### **Decision Trees**"
      ]
    },
    {
      "cell_type": "code",
      "metadata": {
        "id": "YOVoesWwIzYf",
        "colab": {
          "base_uri": "https://localhost:8080/"
        },
        "outputId": "8d4fe02c-6a82-4b9d-d2dd-4b337a299deb"
      },
      "source": [
        "tree_b = DecisionTreeClassifier(criterion='entropy')\n",
        "tree_b.fit(X_train_b, df_B_train['class'])"
      ],
      "execution_count": null,
      "outputs": [
        {
          "output_type": "execute_result",
          "data": {
            "text/plain": [
              "DecisionTreeClassifier(ccp_alpha=0.0, class_weight=None, criterion='entropy',\n",
              "                       max_depth=None, max_features=None, max_leaf_nodes=None,\n",
              "                       min_impurity_decrease=0.0, min_impurity_split=None,\n",
              "                       min_samples_leaf=1, min_samples_split=2,\n",
              "                       min_weight_fraction_leaf=0.0, presort='deprecated',\n",
              "                       random_state=None, splitter='best')"
            ]
          },
          "metadata": {
            "tags": []
          },
          "execution_count": 43
        }
      ]
    },
    {
      "cell_type": "code",
      "metadata": {
        "id": "xIDWZmAiJDeO",
        "colab": {
          "base_uri": "https://localhost:8080/"
        },
        "outputId": "da8ac37e-3ece-49a9-ba30-5b7f0bb1e32c"
      },
      "source": [
        "tree_b.score(X_test_b_features,df_B_test['class'])"
      ],
      "execution_count": null,
      "outputs": [
        {
          "output_type": "execute_result",
          "data": {
            "text/plain": [
              "0.5287403179779862"
            ]
          },
          "metadata": {
            "tags": []
          },
          "execution_count": 44
        }
      ]
    },
    {
      "cell_type": "code",
      "metadata": {
        "id": "CiSlPE1fJYb3",
        "colab": {
          "base_uri": "https://localhost:8080/"
        },
        "outputId": "110c4c0a-7844-49b2-d65f-3b78e0898dfa"
      },
      "source": [
        "accuracy_scores = cross_val_score(tree_b, x_features_b, data_B['class'],cv= 3)\n",
        "print(\"accuracy scores = {}, mean = {}, stdev = {}\".format(accuracy_scores_b, \n",
        "                                                           np.mean(accuracy_scores_b), \n",
        "                                                           np.std(accuracy_scores_b)))"
      ],
      "execution_count": null,
      "outputs": [
        {
          "output_type": "stream",
          "text": [
            "accuracy scores = [0.54163761 0.55795787 0.53166853], mean = 0.5437546691089779, stdev = 0.010836478906021374\n"
          ],
          "name": "stdout"
        }
      ]
    },
    {
      "cell_type": "code",
      "metadata": {
        "id": "bFcocWzfJ6r9",
        "colab": {
          "base_uri": "https://localhost:8080/",
          "height": 296
        },
        "outputId": "dcf5289d-99e9-4e78-ea3e-0a2d6c1f2100"
      },
      "source": [
        "metrics.plot_confusion_matrix(tree_b,X_test_b_features,df_B_test['class'])"
      ],
      "execution_count": null,
      "outputs": [
        {
          "output_type": "execute_result",
          "data": {
            "text/plain": [
              "<sklearn.metrics._plot.confusion_matrix.ConfusionMatrixDisplay at 0x7fd2ed3c5d10>"
            ]
          },
          "metadata": {
            "tags": []
          },
          "execution_count": 46
        },
        {
          "output_type": "display_data",
          "data": {
            "image/png": "[encoded data removed]",
            "text/plain": [
              "<Figure size 432x288 with 2 Axes>"
            ]
          },
          "metadata": {
            "tags": [],
            "needs_background": "light"
          }
        }
      ]
    },
    {
      "cell_type": "code",
      "metadata": {
        "id": "MsXlEiv3KAEe",
        "colab": {
          "base_uri": "https://localhost:8080/",
          "height": 296
        },
        "outputId": "de91aa04-5e0f-4d2a-e469-dc5fa8bf7c8c"
      },
      "source": [
        "metrics.plot_roc_curve(tree_b, X_test_b_features,df_B_test['class'])"
      ],
      "execution_count": null,
      "outputs": [
        {
          "output_type": "execute_result",
          "data": {
            "text/plain": [
              "<sklearn.metrics._plot.roc_curve.RocCurveDisplay at 0x7fd2ec826f10>"
            ]
          },
          "metadata": {
            "tags": []
          },
          "execution_count": 47
        },
        {
          "output_type": "display_data",
          "data": {
            "image/png": "[encoded data removed]",
            "text/plain": [
              "<Figure size 432x288 with 1 Axes>"
            ]
          },
          "metadata": {
            "tags": [],
            "needs_background": "light"
          }
        }
      ]
    }
  ]
}