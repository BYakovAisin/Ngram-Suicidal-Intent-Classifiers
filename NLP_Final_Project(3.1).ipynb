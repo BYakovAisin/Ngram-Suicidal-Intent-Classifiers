{
  "nbformat": 4,
  "nbformat_minor": 0,
  "metadata": {
    "colab": {
      "name": "NLP_Final_Project(3.1).ipynb",
      "provenance": [],
      "collapsed_sections": []
    },
    "kernelspec": {
      "name": "python3",
      "display_name": "Python 3"
    },
    "language_info": {
      "name": "python"
    },
    "accelerator": "TPU"
  },
  "cells": [
    {
      "cell_type": "code",
      "metadata": {
        "id": "qmook8VUeDO4"
      },
      "source": [
        "import csv\n",
        "import codecs\n",
        "import argparse\n",
        "import os\n",
        "from pathlib import Path\n",
        "import pandas as pd\n",
        "import sys, argparse\n",
        "from sklearn import metrics\n",
        "import matplotlib\n",
        "import matplotlib.pyplot as plt\n",
        "import seaborn as sn\n",
        "import gc\n",
        "from spacy.lang.en import English\n",
        "from nltk.stem.porter import *\n",
        "import re\n",
        "import string\n",
        "from tqdm import tqdm\n",
        "import numpy as np\n",
        "from scipy.sparse import coo_matrix, vstack\n",
        "from sklearn.linear_model import LogisticRegression\n",
        "from sklearn import svm\n",
        "from sklearn.tree import DecisionTreeClassifier\n",
        "from sklearn.naive_bayes import GaussianNB\n",
        "from sklearn.feature_extraction.text import CountVectorizer\n",
        "from sklearn.model_selection import train_test_split\n",
        "from sklearn.model_selection import cross_val_score\n",
        "import sklearn.metrics as metrics\n",
        "import matplotlib.pyplot as plt\n",
        "from collections import Counter\n",
        "from bs4 import BeautifulSoup"
      ],
      "execution_count": null,
      "outputs": []
    },
    {
      "cell_type": "code",
      "metadata": {
        "id": "W_FuRz3Tgz7r"
      },
      "source": [
        "path = '/content/drive/MyDrive/DATA641 Final Project/nlp_project_data/umd_reddit_suicidewatch_dataset_v2/'"
      ],
      "execution_count": null,
      "outputs": []
    },
    {
      "cell_type": "markdown",
      "metadata": {
        "id": "si1QWOYgRVYx"
      },
      "source": [
        "# **Functions**"
      ]
    },
    {
      "cell_type": "code",
      "metadata": {
        "id": "AeXLWDQNIPN7"
      },
      "source": [
        "def normalize_tokens(tokenlist):\n",
        "    normalized_tokens = [token.lower().replace('_','+') for token in tokenlist   # lowercase, _ => +\n",
        "                             if re.search('[^\\s]', token) is not None            # ignore whitespace tokens\n",
        "                             and not token.startswith(\"@\")                       # ignore  handles\n",
        "                        ]\n",
        "    return normalized_tokens    \n",
        "\n",
        "def ngrams(tokens, n):\n",
        "    return [tokens[i:i+n] for i in range(len(tokens)-n+1)]\n",
        "\n",
        "def filter_punctuation_bigrams(ngrams):\n",
        "    punct = string.punctuation\n",
        "    return [ngram   for ngram in ngrams   if ngram[0] not in punct and ngram[1] not in punct]\n",
        "\n",
        "def filter_stopword_bigrams(ngrams, stopwords):\n",
        "    result = [ngram   for ngram in ngrams   if ngram[0] not in stopwords and ngram[1] not in stopwords]\n",
        "    return result"
      ],
      "execution_count": null,
      "outputs": []
    },
    {
      "cell_type": "code",
      "metadata": {
        "id": "PfVz-gejKoEr"
      },
      "source": [
        "def convert_text_into_features(X, stopwords_arg, analyzefn=\"word\", range=(1,1)):\n",
        "    training_vectorizer = CountVectorizer(stop_words=stopwords_arg,\n",
        "                                          analyzer=analyzefn,\n",
        "                                          lowercase=True,\n",
        "                                          ngram_range=range)\n",
        "    X_features = training_vectorizer.fit_transform(X)\n",
        "    return X_features, training_vectorizer\n",
        "\n",
        "def convert_lines_to_feature_strings(lines, stopwords, remove_stopword_bigrams=True):\n",
        "\n",
        "    print(\" Converting from raw text to unigram and bigram features\")\n",
        "    if remove_stopword_bigrams:\n",
        "        print(\" Includes filtering stopword bigrams\")\n",
        "        \n",
        "    print(\" Initializing\")\n",
        "    stemmer = PorterStemmer()\n",
        "    nlp          = English(parser=False)\n",
        "    all_features = []\n",
        "    print(\" Iterating through documents extracting unigram and bigram features\")\n",
        "    for line in tqdm(lines):\n",
        "        \n",
        "        # Get spacy tokenization and normalize the tokens\n",
        "        spacy_analysis    = nlp(line)\n",
        "        spacy_tokens      = [token.orth_ for token in spacy_analysis]\n",
        "        spacy_tokens      = [stemmer.stem(token) for token in spacy_tokens]\n",
        "        normalized_tokens = normalize_tokens(spacy_tokens)\n",
        "\n",
        "        # Collect string bigram tokens as features\n",
        "        bigrams = []\n",
        "        bigram_tokens     = [\"_\".join(bigram) for bigram in bigrams]\n",
        "        bigrams           = ngrams(normalized_tokens, 2) \n",
        "        bigrams           = filter_punctuation_bigrams(bigrams)\n",
        "        if remove_stopword_bigrams:\n",
        "            bigrams = filter_stopword_bigrams(bigrams, stopwords)\n",
        "        bigram_tokens = [\"_\".join(bigram) for bigram in bigrams]\n",
        "\n",
        "        # Conjoin the feature lists and turn into a space-separated string of features.\n",
        "        # E.g. if unigrams is ['coffee', 'cup'] and bigrams is ['coffee_cup', 'white_house']\n",
        "        # then feature_string should be 'coffee cup coffee_cup white_house'\n",
        "\n",
        "        bigram_tokens = \" \".join(bigram_tokens)\n",
        "        feature_string = bigram_tokens \n",
        "\n",
        "        # Add this feature string to the output\n",
        "        all_features.append(feature_string)\n",
        "\n",
        "\n",
        "    print(\" Feature string for first document: '{}'\".format(all_features[0]))\n",
        "        \n",
        "    return all_features\n",
        "\n",
        "def most_informative_features(vectorizer, classifier, n=20):\n",
        "    # Adapted from https://stackoverflow.com/questions/11116697/how-to-get-most-informative-features-for-scikit-learn-classifiers#11116960\n",
        "    feature_names       = vectorizer.get_feature_names()\n",
        "    coefs_with_features = sorted(zip(classifier.coef_[0], feature_names))\n",
        "    top                 = zip(coefs_with_features[:n], coefs_with_features[:-(n + 1):-1])\n",
        "    for (coef_1, feature_1), (coef_2, feature_2) in top:\n",
        "        print(\"\\t%.4f\\t%-15s\\t\\t%.4f\\t%-15s\" % (coef_1, feature_1, coef_2, feature_2))"
      ],
      "execution_count": null,
      "outputs": []
    },
    {
      "cell_type": "code",
      "metadata": {
        "id": "GrBfOaFuGwgL"
      },
      "source": [
        "def load_stopwords(filename):\n",
        "    stopwords = []\n",
        "    with codecs.open(filename, 'r', encoding='ascii', errors='ignore') as fp:\n",
        "        stopwords = fp.read().split('\\n')\n",
        "    return set(stopwords)\n",
        "\n",
        "stopwords = load_stopwords(path+'mallet_en_stoplist.txt')   "
      ],
      "execution_count": null,
      "outputs": []
    },
    {
      "cell_type": "code",
      "metadata": {
        "id": "3J7YGEvTWDXQ"
      },
      "source": [
        "def strip_html(text):\n",
        "    soup = BeautifulSoup(text, \"html.parser\")\n",
        "    return soup.get_text()\n",
        "\n",
        "#Removing the square brackets\n",
        "def remove_between_square_brackets(text):\n",
        "    return re.sub('\\[[^]/,.!?]*\\]', '', text)\n",
        "# Removing URL's\n",
        "def remove_between_square_brackets(text):\n",
        "    return re.sub(r'http\\S+', '', text)\n",
        "#Removing the stopwords from text\n",
        "def remove_stopwords(text):\n",
        "    final_text = []\n",
        "    for i in text.split():\n",
        "        if i.strip().lower() not in stopwords:\n",
        "            final_text.append(i.strip())\n",
        "    return \" \".join(final_text)\n",
        "#Removing the noisy text\n",
        "def denoise_text(text):\n",
        "    text = strip_html(text)\n",
        "    text = remove_between_square_brackets(text)\n",
        "    text = remove_stopwords(text)\n",
        "    return text"
      ],
      "execution_count": null,
      "outputs": []
    },
    {
      "cell_type": "markdown",
      "metadata": {
        "id": "IJg0tWc1RRXR"
      },
      "source": [
        "# **Loading Data**"
      ]
    },
    {
      "cell_type": "code",
      "metadata": {
        "id": "zkGRGRhphlS6"
      },
      "source": [
        "crowd_train = pd.read_csv(path+'crowd/train/crowd_train.csv')\n",
        "task_A_train = pd.read_csv(path+'crowd/train/task_A_train.posts.csv')\n",
        "task_B_train = pd.read_csv(path+'crowd/train/task_B_train.posts.csv')\n",
        "task_C_train = pd.read_csv(path+'crowd/train/task_B_train.posts.csv')\n",
        "shared_task_train = pd.read_csv(path+'crowd/train/shared_task_posts.csv')"
      ],
      "execution_count": null,
      "outputs": []
    },
    {
      "cell_type": "code",
      "metadata": {
        "id": "4cOFouP2mZ-u"
      },
      "source": [
        "crowd_test = pd.read_csv(path+'crowd/test/crowd_test.csv')\n",
        "task_A_test = pd.read_csv(path+'crowd/test/task_A_test.posts.csv')\n",
        "task_B_test = pd.read_csv(path+'crowd/test/task_B_test.posts.csv')\n",
        "task_C_test = pd.read_csv(path+'crowd/test/task_B_test.posts.csv')\n",
        "shared_task_test = pd.read_csv(path+'crowd/test/shared_task_posts_test.csv')"
      ],
      "execution_count": null,
      "outputs": []
    },
    {
      "cell_type": "code",
      "metadata": {
        "colab": {
          "base_uri": "https://localhost:8080/",
          "height": 166
        },
        "id": "oOjYpdpFNdLu",
        "outputId": "6f48dd32-4748-45b3-e109-c6d9a4745f80"
      },
      "source": [
        "label = np.array(['a','b','c','d'])\n",
        "c = np.array(['Negative','Negative','Negative','Positive'])\n",
        "\n",
        "d = np.vstack([label,c])\n",
        "\n",
        "df_class = pd.DataFrame(data=d.T,columns=['label','class'])\n",
        "\n",
        "df_class"
      ],
      "execution_count": null,
      "outputs": [
        {
          "output_type": "execute_result",
          "data": {
            "text/html": [
              "<div>\n",
              "<style scoped>\n",
              "    .dataframe tbody tr th:only-of-type {\n",
              "        vertical-align: middle;\n",
              "    }\n",
              "\n",
              "    .dataframe tbody tr th {\n",
              "        vertical-align: top;\n",
              "    }\n",
              "\n",
              "    .dataframe thead th {\n",
              "        text-align: right;\n",
              "    }\n",
              "</style>\n",
              "<table border=\"1\" class=\"dataframe\">\n",
              "  <thead>\n",
              "    <tr style=\"text-align: right;\">\n",
              "      <th></th>\n",
              "      <th>label</th>\n",
              "      <th>class</th>\n",
              "    </tr>\n",
              "  </thead>\n",
              "  <tbody>\n",
              "    <tr>\n",
              "      <th>0</th>\n",
              "      <td>a</td>\n",
              "      <td>Negative</td>\n",
              "    </tr>\n",
              "    <tr>\n",
              "      <th>1</th>\n",
              "      <td>b</td>\n",
              "      <td>Negative</td>\n",
              "    </tr>\n",
              "    <tr>\n",
              "      <th>2</th>\n",
              "      <td>c</td>\n",
              "      <td>Negative</td>\n",
              "    </tr>\n",
              "    <tr>\n",
              "      <th>3</th>\n",
              "      <td>d</td>\n",
              "      <td>Positive</td>\n",
              "    </tr>\n",
              "  </tbody>\n",
              "</table>\n",
              "</div>"
            ],
            "text/plain": [
              "  label     class\n",
              "0     a  Negative\n",
              "1     b  Negative\n",
              "2     c  Negative\n",
              "3     d  Positive"
            ]
          },
          "metadata": {
            "tags": []
          },
          "execution_count": 24
        }
      ]
    },
    {
      "cell_type": "markdown",
      "metadata": {
        "id": "qJjS4RgphvlK"
      },
      "source": [
        "# **Task - only Suicide Watch**"
      ]
    },
    {
      "cell_type": "code",
      "metadata": {
        "id": "Dv4QbywQkc1S"
      },
      "source": [
        "df_A_train = shared_task_train[shared_task_train['subreddit'] == 'SuicideWatch']\n",
        "df_A_train = df_A_train.dropna()"
      ],
      "execution_count": null,
      "outputs": []
    },
    {
      "cell_type": "code",
      "metadata": {
        "id": "xu-QckY5onWN"
      },
      "source": [
        "df_A_train = pd.merge(df_A_train,crowd_train,on='user_id')\n",
        "\n",
        "df_A_train = pd.merge(df_A_train,df_class,on='label')"
      ],
      "execution_count": null,
      "outputs": []
    },
    {
      "cell_type": "code",
      "metadata": {
        "id": "ko0XTSD-n6zx"
      },
      "source": [
        "df_A_test = shared_task_test[shared_task_test['subreddit'] == 'SuicideWatch']\n",
        "df_A_test = df_A_test.dropna()\n",
        "\n",
        "df_A_test = pd.merge(df_A_test,crowd_test,on='user_id')\n",
        "\n",
        "df_A_test['label'] = df_A_test['raw_label']\n",
        "\n",
        "df_A_test = pd.merge(df_A_test,df_class,on='label')"
      ],
      "execution_count": null,
      "outputs": []
    },
    {
      "cell_type": "code",
      "metadata": {
        "id": "6JOXHOFlQcu5"
      },
      "source": [
        "X_train = convert_lines_to_feature_strings(df_A_train['post_body'],stopwords)"
      ],
      "execution_count": null,
      "outputs": []
    },
    {
      "cell_type": "code",
      "metadata": {
        "id": "7gqhGOrITAYK"
      },
      "source": [
        "X_train, training_vectorizer = convert_text_into_features(X_train,stopwords)"
      ],
      "execution_count": null,
      "outputs": []
    },
    {
      "cell_type": "code",
      "metadata": {
        "id": "zC0Pvj2Aoi4E"
      },
      "source": [
        "X_test = convert_lines_to_feature_strings(df_A_test['post_body'],stopwords)\n",
        "X_test = training_vectorizer.transform(X_test)"
      ],
      "execution_count": null,
      "outputs": []
    },
    {
      "cell_type": "code",
      "metadata": {
        "id": "ssUCWwNnuTwa"
      },
      "source": [
        "data_A = pd.concat([df_A_train,df_A_test],axis=0)"
      ],
      "execution_count": null,
      "outputs": []
    },
    {
      "cell_type": "code",
      "metadata": {
        "id": "mE66W0UiuoTs"
      },
      "source": [
        "x = convert_lines_to_feature_strings(data_A['post_body'],stopwords)"
      ],
      "execution_count": null,
      "outputs": []
    },
    {
      "cell_type": "markdown",
      "metadata": {
        "id": "Y5rywOKNFgzu"
      },
      "source": [
        "### **Logistic Regression**"
      ]
    },
    {
      "cell_type": "code",
      "metadata": {
        "colab": {
          "base_uri": "https://localhost:8080/"
        },
        "id": "4zuOLM4YTpzK",
        "outputId": "8457c4f6-aea6-4a78-c028-ef96b32f6a65"
      },
      "source": [
        "lr_classifier = LogisticRegression(solver='liblinear')\n",
        "lr_classifier.fit(X_train, df_A_train['class'])"
      ],
      "execution_count": null,
      "outputs": [
        {
          "output_type": "execute_result",
          "data": {
            "text/plain": [
              "LogisticRegression(C=1.0, class_weight=None, dual=False, fit_intercept=True,\n",
              "                   intercept_scaling=1, l1_ratio=None, max_iter=100,\n",
              "                   multi_class='auto', n_jobs=None, penalty='l2',\n",
              "                   random_state=None, solver='liblinear', tol=0.0001, verbose=0,\n",
              "                   warm_start=False)"
            ]
          },
          "metadata": {
            "tags": []
          },
          "execution_count": 33
        }
      ]
    },
    {
      "cell_type": "code",
      "metadata": {
        "colab": {
          "base_uri": "https://localhost:8080/"
        },
        "id": "8OeV3NrdUPXw",
        "outputId": "8c81269c-bcc4-47ab-8207-1f656063e309"
      },
      "source": [
        "most_informative_features(training_vectorizer,lr_classifier,20)"
      ],
      "execution_count": null,
      "outputs": [
        {
          "output_type": "stream",
          "text": [
            "\t-1.0424\tcontempl_suicid\t\t1.1276\tgon_na         \n",
            "\t-0.8830\tll_tri         \t\t0.8759\tm_sorri        \n",
            "\t-0.8709\tclose_friend   \t\t0.7575\tfall_asleep    \n",
            "\t-0.8443\tt_live         \t\t0.6959\tthi_world      \n",
            "\t-0.8252\two_nt          \t\t0.6547\tca_nt          \n",
            "\t-0.7298\turl            \t\t0.6147\teveri_singl    \n",
            "\t-0.6661\tfeel_free      \t\t0.5752\tm_readi        \n",
            "\t-0.6542\tthi_girl       \t\t0.5712\tthi_pain       \n",
            "\t-0.6477\tsomeon_talk    \t\t0.5649\tmani_year      \n",
            "\t-0.6406\tfeel_depress   \t\t0.5580\tpain_anymor    \n",
            "\t-0.6174\tve_read        \t\t0.5561\tthi_fuck       \n",
            "\t-0.6053\tmake_sens      \t\t0.5521\tlong_time      \n",
            "\t-0.5938\tdie_column     \t\t0.5386\tm_schizophren  \n",
            "\t-0.5726\tsuicid_thought \t\t0.5325\tonli_option    \n",
            "\t-0.5725\tfriend_ha      \t\t0.5248\talway_alon     \n",
            "\t-0.5553\tfinanci_state  \t\t0.5168\tmake_friend    \n",
            "\t-0.5551\tthi_subreddit  \t\t0.5152\tnt_realli      \n",
            "\t-0.5453\t2_hour         \t\t0.4884\teveri_day      \n",
            "\t-0.5260\tthi_post       \t\t0.4871\tthi_long       \n",
            "\t-0.5187\tanyon_els      \t\t0.4798\tpain_          \n"
          ],
          "name": "stdout"
        }
      ]
    },
    {
      "cell_type": "code",
      "metadata": {
        "colab": {
          "base_uri": "https://localhost:8080/"
        },
        "id": "XNAP9IydTU6_",
        "outputId": "6df6af58-abf8-4212-9ac6-0557baa83738"
      },
      "source": [
        "lr_classifier.score(X_test,df_A_test['class'])"
      ],
      "execution_count": null,
      "outputs": [
        {
          "output_type": "execute_result",
          "data": {
            "text/plain": [
              "0.5414364640883977"
            ]
          },
          "metadata": {
            "tags": []
          },
          "execution_count": 35
        }
      ]
    },
    {
      "cell_type": "code",
      "metadata": {
        "id": "ufLCUOmbAdLJ"
      },
      "source": [
        "X_features,_ = convert_text_into_features(x,stopwords)"
      ],
      "execution_count": null,
      "outputs": []
    },
    {
      "cell_type": "code",
      "metadata": {
        "colab": {
          "base_uri": "https://localhost:8080/"
        },
        "id": "TSJnx_ZWABhc",
        "outputId": "db1ec4ed-87ca-42f2-db3d-ad94bd38503a"
      },
      "source": [
        "accuracy_scores = cross_val_score(lr_classifier, X_features, \n",
        "                                  data_A['class'],cv= 3)\n",
        "print(\"accuracy scores = {}, mean = {}, stdev = {}\".format(accuracy_scores, np.mean(accuracy_scores), np.std(accuracy_scores)))"
      ],
      "execution_count": null,
      "outputs": [
        {
          "output_type": "stream",
          "text": [
            "accuracy scores = [0.57142857 0.54227405 0.55847953], mean = 0.5573940520234827, stdev = 0.01192700560797571\n"
          ],
          "name": "stdout"
        }
      ]
    },
    {
      "cell_type": "code",
      "metadata": {
        "colab": {
          "base_uri": "https://localhost:8080/",
          "height": 296
        },
        "id": "qD4Nh8u6Upuh",
        "outputId": "642df9d6-2470-434a-dbb9-ccedd331534d"
      },
      "source": [
        "metrics.plot_confusion_matrix(lr_classifier,X_test,df_A_test['class'])"
      ],
      "execution_count": null,
      "outputs": [
        {
          "output_type": "execute_result",
          "data": {
            "text/plain": [
              "<sklearn.metrics._plot.confusion_matrix.ConfusionMatrixDisplay at 0x7f6a7e19e0d0>"
            ]
          },
          "metadata": {
            "tags": []
          },
          "execution_count": 38
        },
        {
          "output_type": "display_data",
          "data": {
            "image/png": "[encoded data removed]",
            "text/plain": [
              "<Figure size 432x288 with 2 Axes>"
            ]
          },
          "metadata": {
            "tags": [],
            "needs_background": "light"
          }
        }
      ]
    },
    {
      "cell_type": "code",
      "metadata": {
        "colab": {
          "base_uri": "https://localhost:8080/",
          "height": 296
        },
        "id": "rOjLClNDVMqJ",
        "outputId": "8c714d7c-fddc-484e-99c2-08f9b86e71d8"
      },
      "source": [
        "metrics.plot_roc_curve(lr_classifier, X_test, df_A_test['class'])"
      ],
      "execution_count": null,
      "outputs": [
        {
          "output_type": "execute_result",
          "data": {
            "text/plain": [
              "<sklearn.metrics._plot.roc_curve.RocCurveDisplay at 0x7f6a90f13c90>"
            ]
          },
          "metadata": {
            "tags": []
          },
          "execution_count": 39
        },
        {
          "output_type": "display_data",
          "data": {
            "image/png": "[encoded data removed]",
            "text/plain": [
              "<Figure size 432x288 with 1 Axes>"
            ]
          },
          "metadata": {
            "tags": [],
            "needs_background": "light"
          }
        }
      ]
    },
    {
      "cell_type": "markdown",
      "metadata": {
        "id": "4c4c5v59Furu"
      },
      "source": [
        "### **Decision Trees**"
      ]
    },
    {
      "cell_type": "code",
      "metadata": {
        "colab": {
          "base_uri": "https://localhost:8080/"
        },
        "id": "L9VSde_zoA_a",
        "outputId": "4a220982-ef67-444c-c9c7-899d84cdb9b0"
      },
      "source": [
        "tree = DecisionTreeClassifier(criterion='entropy')\n",
        "tree.fit(X_train,df_A_train['class'])"
      ],
      "execution_count": null,
      "outputs": [
        {
          "output_type": "execute_result",
          "data": {
            "text/plain": [
              "DecisionTreeClassifier(ccp_alpha=0.0, class_weight=None, criterion='entropy',\n",
              "                       max_depth=None, max_features=None, max_leaf_nodes=None,\n",
              "                       min_impurity_decrease=0.0, min_impurity_split=None,\n",
              "                       min_samples_leaf=1, min_samples_split=2,\n",
              "                       min_weight_fraction_leaf=0.0, presort='deprecated',\n",
              "                       random_state=None, splitter='best')"
            ]
          },
          "metadata": {
            "tags": []
          },
          "execution_count": 40
        }
      ]
    },
    {
      "cell_type": "code",
      "metadata": {
        "colab": {
          "base_uri": "https://localhost:8080/"
        },
        "id": "hbRJ3KDXGVlQ",
        "outputId": "d8d7b17e-09b5-4230-e8b4-53681608978b"
      },
      "source": [
        "tree.score(X_test,df_A_test['class'])"
      ],
      "execution_count": null,
      "outputs": [
        {
          "output_type": "execute_result",
          "data": {
            "text/plain": [
              "0.49171270718232046"
            ]
          },
          "metadata": {
            "tags": []
          },
          "execution_count": 41
        }
      ]
    },
    {
      "cell_type": "code",
      "metadata": {
        "colab": {
          "base_uri": "https://localhost:8080/"
        },
        "id": "S4kKNLNjGbTr",
        "outputId": "06cc8cac-f928-47ac-e0ad-78c8aea6636f"
      },
      "source": [
        "accuracy_scores = cross_val_score(tree, X_features, \n",
        "                                  data_A['class'],cv= 3)\n",
        "print(\"accuracy scores = {}, mean = {}, stdev = {}\".format(accuracy_scores, np.mean(accuracy_scores), np.std(accuracy_scores)))"
      ],
      "execution_count": null,
      "outputs": [
        {
          "output_type": "stream",
          "text": [
            "accuracy scores = [0.51603499 0.58309038 0.54385965], mean = 0.5476616711847647, stdev = 0.02750694434820958\n"
          ],
          "name": "stdout"
        }
      ]
    },
    {
      "cell_type": "code",
      "metadata": {
        "colab": {
          "base_uri": "https://localhost:8080/",
          "height": 296
        },
        "id": "8niGG0zsAV42",
        "outputId": "dd6a23c6-2610-46eb-caec-8c793bdd47cf"
      },
      "source": [
        "metrics.plot_confusion_matrix(tree,X_test,df_A_test['class'])"
      ],
      "execution_count": null,
      "outputs": [
        {
          "output_type": "execute_result",
          "data": {
            "text/plain": [
              "<sklearn.metrics._plot.confusion_matrix.ConfusionMatrixDisplay at 0x7f6a9a1bbb10>"
            ]
          },
          "metadata": {
            "tags": []
          },
          "execution_count": 60
        },
        {
          "output_type": "display_data",
          "data": {
            "image/png": "[encoded data removed]",
            "text/plain": [
              "<Figure size 432x288 with 2 Axes>"
            ]
          },
          "metadata": {
            "tags": [],
            "needs_background": "light"
          }
        }
      ]
    },
    {
      "cell_type": "code",
      "metadata": {
        "colab": {
          "base_uri": "https://localhost:8080/",
          "height": 296
        },
        "id": "yMb-ziQDAd65",
        "outputId": "b7dd8fde-eb25-46b1-ee07-5a4044717581"
      },
      "source": [
        "metrics.plot_roc_curve(tree, X_test, df_A_test['class'])"
      ],
      "execution_count": null,
      "outputs": [
        {
          "output_type": "execute_result",
          "data": {
            "text/plain": [
              "<sklearn.metrics._plot.roc_curve.RocCurveDisplay at 0x7f6a8bd00310>"
            ]
          },
          "metadata": {
            "tags": []
          },
          "execution_count": 61
        },
        {
          "output_type": "display_data",
          "data": {
            "image/png": "[encoded data removed]",
            "text/plain": [
              "<Figure size 432x288 with 1 Axes>"
            ]
          },
          "metadata": {
            "tags": [],
            "needs_background": "light"
          }
        }
      ]
    },
    {
      "cell_type": "markdown",
      "metadata": {
        "id": "zHdLg4UkJLxG"
      },
      "source": [
        "# **Task - everything**"
      ]
    },
    {
      "cell_type": "code",
      "metadata": {
        "id": "5IUzNeR_piRr"
      },
      "source": [
        "df_B_train = shared_task_train\n",
        "df_B_train = df_B_train.dropna()\n",
        "df_B_train = pd.merge(df_B_train,crowd_train,on='user_id')\n",
        "df_B_train = pd.merge(df_B_train,df_class, on = 'label')"
      ],
      "execution_count": null,
      "outputs": []
    },
    {
      "cell_type": "code",
      "metadata": {
        "id": "p6s-nO50zPJ4"
      },
      "source": [
        "df_B_test = shared_task_test\n",
        "df_B_test = df_B_test.dropna()\n",
        "df_B_test = pd.merge(df_B_test,crowd_test,on='user_id')\n",
        "df_B_test['label'] = df_B_test['raw_label']\n",
        "df_B_test = pd.merge(df_B_test,df_class, on = 'label')"
      ],
      "execution_count": null,
      "outputs": []
    },
    {
      "cell_type": "code",
      "metadata": {
        "id": "AeyG-XSlZaho"
      },
      "source": [
        "x_b = convert_lines_to_feature_strings(df_B_train['post_body'],stopwords)"
      ],
      "execution_count": null,
      "outputs": []
    },
    {
      "cell_type": "code",
      "metadata": {
        "id": "wvia_2kz3eEq"
      },
      "source": [
        "X_train_b, training_vectorizer_b = convert_text_into_features(x_b,stopwords)"
      ],
      "execution_count": null,
      "outputs": []
    },
    {
      "cell_type": "code",
      "metadata": {
        "id": "MwbCRHGCarlJ"
      },
      "source": [
        "X_test_b =  convert_lines_to_feature_strings(df_B_test['post_body'],stopwords)\n",
        "X_test_b_features = training_vectorizer_b.transform(X_test_b)"
      ],
      "execution_count": null,
      "outputs": []
    },
    {
      "cell_type": "markdown",
      "metadata": {
        "id": "BgGPzo9pIfVf"
      },
      "source": [
        "### **Logistic Regression**"
      ]
    },
    {
      "cell_type": "code",
      "metadata": {
        "colab": {
          "base_uri": "https://localhost:8080/"
        },
        "id": "d3p54ZybaggZ",
        "outputId": "0c431dfe-7ce0-42a4-f139-554495477e3a"
      },
      "source": [
        "lr_classifier_b = LogisticRegression(solver='liblinear')\n",
        "lr_classifier_b.fit(X_train_b, df_B_train['class'])"
      ],
      "execution_count": null,
      "outputs": [
        {
          "output_type": "execute_result",
          "data": {
            "text/plain": [
              "LogisticRegression(C=1.0, class_weight=None, dual=False, fit_intercept=True,\n",
              "                   intercept_scaling=1, l1_ratio=None, max_iter=100,\n",
              "                   multi_class='auto', n_jobs=None, penalty='l2',\n",
              "                   random_state=None, solver='liblinear', tol=0.0001, verbose=0,\n",
              "                   warm_start=False)"
            ]
          },
          "metadata": {
            "tags": []
          },
          "execution_count": 48
        }
      ]
    },
    {
      "cell_type": "code",
      "metadata": {
        "colab": {
          "base_uri": "https://localhost:8080/"
        },
        "id": "H_5ym2DBtjKq",
        "outputId": "fdb84dc7-544d-47b3-8da8-38f82a4f61dc"
      },
      "source": [
        "most_informative_features(training_vectorizer_b,lr_classifier_b,20)"
      ],
      "execution_count": null,
      "outputs": [
        {
          "output_type": "stream",
          "text": [
            "\t-1.2712\titz_salust     \t\t1.3301\tpost_deet      \n",
            "\t-1.2429\tm_run          \t\t1.2541\tanoth_dimens   \n",
            "\t-1.1385\tmessag_soccerstud2691\t\t1.1987\thear_voic      \n",
            "\t-1.1233\tolder_cousin   \t\t1.1841\tfriend_code    \n",
            "\t-1.1007\tboard_school   \t\t1.1656\tthi_pictur     \n",
            "\t-1.0913\tagent_phantom  \t\t1.1321\tasperg_        \n",
            "\t-1.0908\ts_possibl      \t\t1.1024\thear_loss      \n",
            "\t-1.0899\tcustom_game    \t\t1.0838\tpost_psn       \n",
            "\t-1.0682\tguy_           \t\t1.0751\ttri_play       \n",
            "\t-1.0597\tsan_diego      \t\t1.0661\tpsn_bow        \n",
            "\t-1.0573\tgrad_school    \t\t1.0349\tsolv_thi       \n",
            "\t-1.0544\tbike_shop      \t\t1.0330\tm_17           \n",
            "\t-1.0358\tfront_page     \t\t1.0077\tdeclar_war     \n",
            "\t-1.0188\tm_find         \t\t0.9779\tautist_spectrum\n",
            "\t-1.0090\tclose_friend   \t\t0.9774\tmani_year      \n",
            "\t-0.9955\trock_climb     \t\t0.9763\tm_schizophren  \n",
            "\t-0.9933\they_fittit     \t\t0.9641\tstart_keto     \n",
            "\t-0.9608\treddit_alien   \t\t0.9563\tthi_suck       \n",
            "\t-0.9605\tshit_          \t\t0.9562\thear_difficulti\n",
            "\t-0.9504\ti_wa           \t\t0.9542\ts_syndrom      \n"
          ],
          "name": "stdout"
        }
      ]
    },
    {
      "cell_type": "code",
      "metadata": {
        "colab": {
          "base_uri": "https://localhost:8080/"
        },
        "id": "0lyJ2Xc0bHVL",
        "outputId": "52b9fe2b-c08f-421b-ec42-ac3a04c95eed"
      },
      "source": [
        "lr_classifier_b.score(X_test_b_features,df_B_test['class'])"
      ],
      "execution_count": null,
      "outputs": [
        {
          "output_type": "execute_result",
          "data": {
            "text/plain": [
              "0.547289033836119"
            ]
          },
          "metadata": {
            "tags": []
          },
          "execution_count": 50
        }
      ]
    },
    {
      "cell_type": "code",
      "metadata": {
        "id": "P3SIVNDhu6Wa"
      },
      "source": [
        "x_features_b = vstack([X_train_b,X_test_b_features])\n",
        "data_B = pd.concat([df_B_train,df_B_test],axis=0)"
      ],
      "execution_count": null,
      "outputs": []
    },
    {
      "cell_type": "code",
      "metadata": {
        "colab": {
          "base_uri": "https://localhost:8080/"
        },
        "id": "l2Bl6XCevcNK",
        "outputId": "f7b0eb78-7a37-4e5f-8bad-c8d04c6387e4"
      },
      "source": [
        "accuracy_scores_b = cross_val_score(lr_classifier_b, x_features_b, data_B['class'],cv= 3)\n",
        "print(\"accuracy scores = {}, mean = {}, stdev = {}\".format(accuracy_scores_b, \n",
        "                                                           np.mean(accuracy_scores_b), \n",
        "                                                           np.std(accuracy_scores_b)))"
      ],
      "execution_count": null,
      "outputs": [
        {
          "output_type": "stream",
          "text": [
            "accuracy scores = [0.54875157 0.53536058 0.54199219], mean = 0.5420347790109035, stdev = 0.005466931314454443\n"
          ],
          "name": "stdout"
        }
      ]
    },
    {
      "cell_type": "code",
      "metadata": {
        "colab": {
          "base_uri": "https://localhost:8080/",
          "height": 296
        },
        "id": "Y_iLcjSGa29s",
        "outputId": "5e8e59af-1894-423a-9369-ded85a4a35b5"
      },
      "source": [
        "metrics.plot_confusion_matrix(lr_classifier_b,X_test_b_features,df_B_test['class'])"
      ],
      "execution_count": null,
      "outputs": [
        {
          "output_type": "execute_result",
          "data": {
            "text/plain": [
              "<sklearn.metrics._plot.confusion_matrix.ConfusionMatrixDisplay at 0x7f6a945aee10>"
            ]
          },
          "metadata": {
            "tags": []
          },
          "execution_count": 53
        },
        {
          "output_type": "display_data",
          "data": {
            "image/png": "[encoded data removed]",
            "text/plain": [
              "<Figure size 432x288 with 2 Axes>"
            ]
          },
          "metadata": {
            "tags": [],
            "needs_background": "light"
          }
        }
      ]
    },
    {
      "cell_type": "code",
      "metadata": {
        "colab": {
          "base_uri": "https://localhost:8080/",
          "height": 296
        },
        "id": "TQr1v0dJbUPl",
        "outputId": "16b8e801-2ce6-43c9-b9b9-20d3662a5a40"
      },
      "source": [
        "metrics.plot_roc_curve(lr_classifier_b, X_test_b_features,df_B_test['class'])"
      ],
      "execution_count": null,
      "outputs": [
        {
          "output_type": "execute_result",
          "data": {
            "text/plain": [
              "<sklearn.metrics._plot.roc_curve.RocCurveDisplay at 0x7f6a9df65590>"
            ]
          },
          "metadata": {
            "tags": []
          },
          "execution_count": 54
        },
        {
          "output_type": "display_data",
          "data": {
            "image/png": "[encoded data removed]",
            "text/plain": [
              "<Figure size 432x288 with 1 Axes>"
            ]
          },
          "metadata": {
            "tags": [],
            "needs_background": "light"
          }
        }
      ]
    },
    {
      "cell_type": "markdown",
      "metadata": {
        "id": "hhdD5JxfImMQ"
      },
      "source": [
        "### **Decision Trees**"
      ]
    },
    {
      "cell_type": "code",
      "metadata": {
        "colab": {
          "base_uri": "https://localhost:8080/"
        },
        "id": "YOVoesWwIzYf",
        "outputId": "d2cce8b6-964c-4278-f0bd-dc3241e268af"
      },
      "source": [
        "tree_b = DecisionTreeClassifier(criterion='entropy')\n",
        "tree_b.fit(X_train_b, df_B_train['class'])"
      ],
      "execution_count": null,
      "outputs": [
        {
          "output_type": "execute_result",
          "data": {
            "text/plain": [
              "DecisionTreeClassifier(ccp_alpha=0.0, class_weight=None, criterion='entropy',\n",
              "                       max_depth=None, max_features=None, max_leaf_nodes=None,\n",
              "                       min_impurity_decrease=0.0, min_impurity_split=None,\n",
              "                       min_samples_leaf=1, min_samples_split=2,\n",
              "                       min_weight_fraction_leaf=0.0, presort='deprecated',\n",
              "                       random_state=None, splitter='best')"
            ]
          },
          "metadata": {
            "tags": []
          },
          "execution_count": 55
        }
      ]
    },
    {
      "cell_type": "code",
      "metadata": {
        "colab": {
          "base_uri": "https://localhost:8080/"
        },
        "id": "xIDWZmAiJDeO",
        "outputId": "8f247773-3d0d-45aa-a861-2e3c7583d04b"
      },
      "source": [
        "tree_b.score(X_test_b_features,df_B_test['class'])"
      ],
      "execution_count": null,
      "outputs": [
        {
          "output_type": "execute_result",
          "data": {
            "text/plain": [
              "0.5356706074194864"
            ]
          },
          "metadata": {
            "tags": []
          },
          "execution_count": 56
        }
      ]
    },
    {
      "cell_type": "code",
      "metadata": {
        "colab": {
          "base_uri": "https://localhost:8080/"
        },
        "id": "CiSlPE1fJYb3",
        "outputId": "88303c0e-0738-4e16-ab79-2e69a10ade64"
      },
      "source": [
        "accuracy_scores = cross_val_score(tree_b, x_features_b, data_B['class'],cv= 3)\n",
        "print(\"accuracy scores = {}, mean = {}, stdev = {}\".format(accuracy_scores_b, \n",
        "                                                           np.mean(accuracy_scores_b), \n",
        "                                                           np.std(accuracy_scores_b)))"
      ],
      "execution_count": null,
      "outputs": [
        {
          "output_type": "stream",
          "text": [
            "accuracy scores = [0.54875157 0.53536058 0.54199219], mean = 0.5420347790109035, stdev = 0.005466931314454443\n"
          ],
          "name": "stdout"
        }
      ]
    },
    {
      "cell_type": "code",
      "metadata": {
        "colab": {
          "base_uri": "https://localhost:8080/",
          "height": 296
        },
        "id": "bFcocWzfJ6r9",
        "outputId": "b0f7d82b-8a3d-4bf7-e04e-e3e13d252167"
      },
      "source": [
        "metrics.plot_confusion_matrix(tree_b,X_test_b_features,df_B_test['class'])"
      ],
      "execution_count": null,
      "outputs": [
        {
          "output_type": "execute_result",
          "data": {
            "text/plain": [
              "<sklearn.metrics._plot.confusion_matrix.ConfusionMatrixDisplay at 0x7f6a9e28ec90>"
            ]
          },
          "metadata": {
            "tags": []
          },
          "execution_count": 58
        },
        {
          "output_type": "display_data",
          "data": {
            "image/png": "[encoded data removed]",
            "text/plain": [
              "<Figure size 432x288 with 2 Axes>"
            ]
          },
          "metadata": {
            "tags": [],
            "needs_background": "light"
          }
        }
      ]
    },
    {
      "cell_type": "code",
      "metadata": {
        "colab": {
          "base_uri": "https://localhost:8080/",
          "height": 296
        },
        "id": "MsXlEiv3KAEe",
        "outputId": "f52d4e0d-2c3c-4e5f-8ec5-e7118fd1eb18"
      },
      "source": [
        "metrics.plot_roc_curve(tree_b, X_test_b_features,df_B_test['class'])"
      ],
      "execution_count": null,
      "outputs": [
        {
          "output_type": "execute_result",
          "data": {
            "text/plain": [
              "<sklearn.metrics._plot.roc_curve.RocCurveDisplay at 0x7f6a950be150>"
            ]
          },
          "metadata": {
            "tags": []
          },
          "execution_count": 59
        },
        {
          "output_type": "display_data",
          "data": {
            "image/png": "[encoded data removed]",
            "text/plain": [
              "<Figure size 432x288 with 1 Axes>"
            ]
          },
          "metadata": {
            "tags": [],
            "needs_background": "light"
          }
        }
      ]
    }
  ]
}