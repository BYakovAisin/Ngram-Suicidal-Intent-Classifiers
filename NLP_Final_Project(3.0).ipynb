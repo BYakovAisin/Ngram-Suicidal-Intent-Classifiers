{
  "nbformat": 4,
  "nbformat_minor": 0,
  "metadata": {
    "colab": {
      "name": "NLP_Final_Project(3.0).ipynb",
      "provenance": [],
      "collapsed_sections": []
    },
    "kernelspec": {
      "name": "python3",
      "display_name": "Python 3"
    },
    "language_info": {
      "name": "python"
    },
    "accelerator": "TPU"
  },
  "cells": [
    {
      "cell_type": "code",
      "metadata": {
        "id": "qmook8VUeDO4"
      },
      "source": [
        "import csv\n",
        "import codecs\n",
        "import argparse\n",
        "import os\n",
        "from pathlib import Path\n",
        "import pandas as pd\n",
        "import sys, argparse\n",
        "from sklearn import metrics\n",
        "import matplotlib\n",
        "import matplotlib.pyplot as plt\n",
        "import seaborn as sn\n",
        "import gc\n",
        "from spacy.lang.en import English\n",
        "import re\n",
        "import string\n",
        "from tqdm import tqdm\n",
        "import numpy as np\n",
        "from scipy.sparse import coo_matrix, vstack\n",
        "from sklearn.linear_model import LogisticRegression\n",
        "from sklearn import svm\n",
        "from sklearn.tree import DecisionTreeClassifier\n",
        "from sklearn.naive_bayes import GaussianNB\n",
        "from sklearn.feature_extraction.text import CountVectorizer\n",
        "from sklearn.model_selection import train_test_split\n",
        "from sklearn.model_selection import cross_val_score\n",
        "import sklearn.metrics as metrics\n",
        "import matplotlib.pyplot as plt\n",
        "from collections import Counter\n",
        "from bs4 import BeautifulSoup"
      ],
      "execution_count": null,
      "outputs": []
    },
    {
      "cell_type": "code",
      "metadata": {
        "id": "W_FuRz3Tgz7r"
      },
      "source": [
        "path = '/content/drive/MyDrive/DATA641 Final Project/nlp_project_data/umd_reddit_suicidewatch_dataset_v2/'"
      ],
      "execution_count": null,
      "outputs": []
    },
    {
      "cell_type": "markdown",
      "metadata": {
        "id": "si1QWOYgRVYx"
      },
      "source": [
        "# **Functions**"
      ]
    },
    {
      "cell_type": "code",
      "metadata": {
        "id": "AeXLWDQNIPN7"
      },
      "source": [
        "def normalize_tokens(tokenlist):\n",
        "    normalized_tokens = [token.lower().replace('_','+') for token in tokenlist   # lowercase, _ => +\n",
        "                             if re.search('[^\\s]', token) is not None            # ignore whitespace tokens\n",
        "                             and not token.startswith(\"@\")                       # ignore  handles\n",
        "                        ]\n",
        "    return normalized_tokens    \n",
        "\n",
        "def ngrams(tokens, n):\n",
        "    return [tokens[i:i+n] for i in range(len(tokens)-n+1)]\n",
        "\n",
        "def filter_punctuation_bigrams(ngrams):\n",
        "    punct = string.punctuation\n",
        "    return [ngram   for ngram in ngrams   if ngram[0] not in punct and ngram[1] not in punct]\n",
        "\n",
        "def filter_stopword_bigrams(ngrams, stopwords):\n",
        "    result = [ngram   for ngram in ngrams   if ngram[0] not in stopwords and ngram[1] not in stopwords]\n",
        "    return result"
      ],
      "execution_count": null,
      "outputs": []
    },
    {
      "cell_type": "code",
      "metadata": {
        "id": "PfVz-gejKoEr"
      },
      "source": [
        "def convert_text_into_features(X, stopwords_arg, analyzefn=\"word\", range=(1,1)):\n",
        "    training_vectorizer = CountVectorizer(stop_words=stopwords_arg,\n",
        "                                          analyzer=analyzefn,\n",
        "                                          lowercase=True,\n",
        "                                          ngram_range=range)\n",
        "    X_features = training_vectorizer.fit_transform(X)\n",
        "    return X_features, training_vectorizer\n",
        "\n",
        "def convert_lines_to_feature_strings(lines, stopwords, remove_stopword_bigrams=True):\n",
        "\n",
        "    print(\" Converting from raw text to unigram and bigram features\")\n",
        "    if remove_stopword_bigrams:\n",
        "        print(\" Includes filtering stopword bigrams\")\n",
        "        \n",
        "    print(\" Initializing\")\n",
        "    nlp          = English(parser=False)\n",
        "    all_features = []\n",
        "    print(\" Iterating through documents extracting unigram and bigram features\")\n",
        "    for line in tqdm(lines):\n",
        "        \n",
        "        # Get spacy tokenization and normalize the tokens\n",
        "        spacy_analysis    = nlp(line)\n",
        "        spacy_tokens      = [token.orth_ for token in spacy_analysis]\n",
        "        normalized_tokens = normalize_tokens(spacy_tokens)\n",
        "\n",
        "        # Collect string bigram tokens as features\n",
        "        bigrams = []\n",
        "        bigram_tokens     = [\"_\".join(bigram) for bigram in bigrams]\n",
        "        bigrams           = ngrams(normalized_tokens, 2) \n",
        "        bigrams           = filter_punctuation_bigrams(bigrams)\n",
        "        if remove_stopword_bigrams:\n",
        "            bigrams = filter_stopword_bigrams(bigrams, stopwords)\n",
        "        bigram_tokens = [\"_\".join(bigram) for bigram in bigrams]\n",
        "\n",
        "        # Conjoin the feature lists and turn into a space-separated string of features.\n",
        "        # E.g. if unigrams is ['coffee', 'cup'] and bigrams is ['coffee_cup', 'white_house']\n",
        "        # then feature_string should be 'coffee cup coffee_cup white_house'\n",
        "\n",
        "        bigram_tokens = \" \".join(bigram_tokens)\n",
        "        feature_string = bigram_tokens \n",
        "\n",
        "        # Add this feature string to the output\n",
        "        all_features.append(feature_string)\n",
        "\n",
        "\n",
        "    print(\" Feature string for first document: '{}'\".format(all_features[0]))\n",
        "        \n",
        "    return all_features\n",
        "\n",
        "def most_informative_features(vectorizer, classifier, n=20):\n",
        "    # Adapted from https://stackoverflow.com/questions/11116697/how-to-get-most-informative-features-for-scikit-learn-classifiers#11116960\n",
        "    feature_names       = vectorizer.get_feature_names()\n",
        "    coefs_with_features = sorted(zip(classifier.coef_[0], feature_names))\n",
        "    top                 = zip(coefs_with_features[:n], coefs_with_features[:-(n + 1):-1])\n",
        "    for (coef_1, feature_1), (coef_2, feature_2) in top:\n",
        "        print(\"\\t%.4f\\t%-15s\\t\\t%.4f\\t%-15s\" % (coef_1, feature_1, coef_2, feature_2))"
      ],
      "execution_count": null,
      "outputs": []
    },
    {
      "cell_type": "code",
      "metadata": {
        "id": "GrBfOaFuGwgL"
      },
      "source": [
        "def load_stopwords(filename):\n",
        "    stopwords = []\n",
        "    with codecs.open(filename, 'r', encoding='ascii', errors='ignore') as fp:\n",
        "        stopwords = fp.read().split('\\n')\n",
        "    return set(stopwords)\n",
        "\n",
        "stopwords = load_stopwords(path+'mallet_en_stoplist.txt')   "
      ],
      "execution_count": null,
      "outputs": []
    },
    {
      "cell_type": "code",
      "metadata": {
        "id": "3J7YGEvTWDXQ"
      },
      "source": [
        "def strip_html(text):\n",
        "    soup = BeautifulSoup(text, \"html.parser\")\n",
        "    return soup.get_text()\n",
        "\n",
        "#Removing the square brackets\n",
        "def remove_between_square_brackets(text):\n",
        "    return re.sub('\\[[^]/,.!?]*\\]', '', text)\n",
        "# Removing URL's\n",
        "def remove_between_square_brackets(text):\n",
        "    return re.sub(r'http\\S+', '', text)\n",
        "#Removing the stopwords from text\n",
        "def remove_stopwords(text):\n",
        "    final_text = []\n",
        "    for i in text.split():\n",
        "        if i.strip().lower() not in stopwords:\n",
        "            final_text.append(i.strip())\n",
        "    return \" \".join(final_text)\n",
        "#Removing the noisy text\n",
        "def denoise_text(text):\n",
        "    text = strip_html(text)\n",
        "    text = remove_between_square_brackets(text)\n",
        "    text = remove_stopwords(text)\n",
        "    return text"
      ],
      "execution_count": null,
      "outputs": []
    },
    {
      "cell_type": "markdown",
      "metadata": {
        "id": "IJg0tWc1RRXR"
      },
      "source": [
        "# **Loading Data**"
      ]
    },
    {
      "cell_type": "code",
      "metadata": {
        "id": "zkGRGRhphlS6"
      },
      "source": [
        "crowd_train = pd.read_csv(path+'crowd/train/crowd_train.csv')\n",
        "task_A_train = pd.read_csv(path+'crowd/train/task_A_train.posts.csv')\n",
        "task_B_train = pd.read_csv(path+'crowd/train/task_B_train.posts.csv')\n",
        "task_C_train = pd.read_csv(path+'crowd/train/task_B_train.posts.csv')\n",
        "shared_task_train = pd.read_csv(path+'crowd/train/shared_task_posts.csv')"
      ],
      "execution_count": null,
      "outputs": []
    },
    {
      "cell_type": "code",
      "metadata": {
        "id": "4cOFouP2mZ-u"
      },
      "source": [
        "crowd_test = pd.read_csv(path+'crowd/test/crowd_test.csv')\n",
        "task_A_test = pd.read_csv(path+'crowd/test/task_A_test.posts.csv')\n",
        "task_B_test = pd.read_csv(path+'crowd/test/task_B_test.posts.csv')\n",
        "task_C_test = pd.read_csv(path+'crowd/test/task_B_test.posts.csv')\n",
        "shared_task_test = pd.read_csv(path+'crowd/test/shared_task_posts_test.csv')"
      ],
      "execution_count": null,
      "outputs": []
    },
    {
      "cell_type": "code",
      "metadata": {
        "colab": {
          "base_uri": "https://localhost:8080/",
          "height": 166
        },
        "id": "oOjYpdpFNdLu",
        "outputId": "865c9d6b-7c05-4d98-d2c9-4c43cf4f6d09"
      },
      "source": [
        "label = np.array(['a','b','c','d'])\n",
        "c = np.array(['Negative','Negative','Negative','Positive'])\n",
        "\n",
        "d = np.vstack([label,c])\n",
        "\n",
        "df_class = pd.DataFrame(data=d.T,columns=['label','class'])\n",
        "\n",
        "df_class"
      ],
      "execution_count": null,
      "outputs": [
        {
          "output_type": "execute_result",
          "data": {
            "text/html": [
              "<div>\n",
              "<style scoped>\n",
              "    .dataframe tbody tr th:only-of-type {\n",
              "        vertical-align: middle;\n",
              "    }\n",
              "\n",
              "    .dataframe tbody tr th {\n",
              "        vertical-align: top;\n",
              "    }\n",
              "\n",
              "    .dataframe thead th {\n",
              "        text-align: right;\n",
              "    }\n",
              "</style>\n",
              "<table border=\"1\" class=\"dataframe\">\n",
              "  <thead>\n",
              "    <tr style=\"text-align: right;\">\n",
              "      <th></th>\n",
              "      <th>label</th>\n",
              "      <th>class</th>\n",
              "    </tr>\n",
              "  </thead>\n",
              "  <tbody>\n",
              "    <tr>\n",
              "      <th>0</th>\n",
              "      <td>a</td>\n",
              "      <td>Negative</td>\n",
              "    </tr>\n",
              "    <tr>\n",
              "      <th>1</th>\n",
              "      <td>b</td>\n",
              "      <td>Negative</td>\n",
              "    </tr>\n",
              "    <tr>\n",
              "      <th>2</th>\n",
              "      <td>c</td>\n",
              "      <td>Negative</td>\n",
              "    </tr>\n",
              "    <tr>\n",
              "      <th>3</th>\n",
              "      <td>d</td>\n",
              "      <td>Positive</td>\n",
              "    </tr>\n",
              "  </tbody>\n",
              "</table>\n",
              "</div>"
            ],
            "text/plain": [
              "  label     class\n",
              "0     a  Negative\n",
              "1     b  Negative\n",
              "2     c  Negative\n",
              "3     d  Positive"
            ]
          },
          "metadata": {
            "tags": []
          },
          "execution_count": 10
        }
      ]
    },
    {
      "cell_type": "markdown",
      "metadata": {
        "id": "qJjS4RgphvlK"
      },
      "source": [
        "# **Task - only Suicide Watch**"
      ]
    },
    {
      "cell_type": "code",
      "metadata": {
        "id": "Dv4QbywQkc1S"
      },
      "source": [
        "df_A_train = shared_task_train[shared_task_train['subreddit'] == 'SuicideWatch']\n",
        "df_A_train = df_A_train.dropna()"
      ],
      "execution_count": null,
      "outputs": []
    },
    {
      "cell_type": "code",
      "metadata": {
        "id": "xu-QckY5onWN"
      },
      "source": [
        "df_A_train = pd.merge(df_A_train,crowd_train,on='user_id')\n",
        "\n",
        "df_A_train = pd.merge(df_A_train,df_class,on='label')"
      ],
      "execution_count": null,
      "outputs": []
    },
    {
      "cell_type": "code",
      "metadata": {
        "id": "ko0XTSD-n6zx"
      },
      "source": [
        "df_A_test = shared_task_test[shared_task_test['subreddit'] == 'SuicideWatch']\n",
        "df_A_test = df_A_test.dropna()\n",
        "\n",
        "df_A_test = pd.merge(df_A_test,crowd_test,on='user_id')\n",
        "\n",
        "df_A_test['label'] = df_A_test['raw_label']\n",
        "\n",
        "df_A_test = pd.merge(df_A_test,df_class,on='label')"
      ],
      "execution_count": null,
      "outputs": []
    },
    {
      "cell_type": "code",
      "metadata": {
        "id": "6JOXHOFlQcu5",
        "colab": {
          "base_uri": "https://localhost:8080/"
        },
        "outputId": "3e2928a9-d567-4f81-901f-801b5c859afc"
      },
      "source": [
        "X_train = convert_lines_to_feature_strings(df_A_train['post_body'],stopwords)"
      ],
      "execution_count": null,
      "outputs": [
        {
          "output_type": "stream",
          "text": [
            " Converting from raw text to unigram and bigram features\n",
            " Includes filtering stopword bigrams\n",
            " Initializing\n"
          ],
          "name": "stdout"
        },
        {
          "output_type": "stream",
          "text": [
            "  0%|          | 3/847 [00:00<00:34, 24.25it/s]"
          ],
          "name": "stderr"
        },
        {
          "output_type": "stream",
          "text": [
            " Iterating through documents extracting unigram and bigram features\n"
          ],
          "name": "stdout"
        },
        {
          "output_type": "stream",
          "text": [
            "100%|██████████| 847/847 [00:27<00:00, 30.92it/s]"
          ],
          "name": "stderr"
        },
        {
          "output_type": "stream",
          "text": [
            " Feature string for first document: 'fun_... smoke_... n't_remember fucking_hurt hurt_'s pain_inside okey_.. .._people cool_person fucking_wrong real_... head_... depression_... real_... male_... 80_...'\n"
          ],
          "name": "stdout"
        },
        {
          "output_type": "stream",
          "text": [
            "\n"
          ],
          "name": "stderr"
        }
      ]
    },
    {
      "cell_type": "code",
      "metadata": {
        "id": "7gqhGOrITAYK"
      },
      "source": [
        "X_train, training_vectorizer = convert_text_into_features(X_train,stopwords)"
      ],
      "execution_count": null,
      "outputs": []
    },
    {
      "cell_type": "code",
      "metadata": {
        "id": "zC0Pvj2Aoi4E",
        "colab": {
          "base_uri": "https://localhost:8080/"
        },
        "outputId": "e347830d-f600-45c3-d5f2-f4d955964fd5"
      },
      "source": [
        "X_test = convert_lines_to_feature_strings(df_A_test['post_body'],stopwords)\n",
        "X_test = training_vectorizer.transform(X_test)"
      ],
      "execution_count": null,
      "outputs": [
        {
          "output_type": "stream",
          "text": [
            " Converting from raw text to unigram and bigram features\n",
            " Includes filtering stopword bigrams\n",
            " Initializing\n"
          ],
          "name": "stdout"
        },
        {
          "output_type": "stream",
          "text": [
            "  2%|▏         | 3/181 [00:00<00:06, 25.61it/s]"
          ],
          "name": "stderr"
        },
        {
          "output_type": "stream",
          "text": [
            " Iterating through documents extracting unigram and bigram features\n"
          ],
          "name": "stdout"
        },
        {
          "output_type": "stream",
          "text": [
            "100%|██████████| 181/181 [00:06<00:00, 29.28it/s]"
          ],
          "name": "stderr"
        },
        {
          "output_type": "stream",
          "text": [
            " Feature string for first document: 'stay_alive'\n"
          ],
          "name": "stdout"
        },
        {
          "output_type": "stream",
          "text": [
            "\n"
          ],
          "name": "stderr"
        }
      ]
    },
    {
      "cell_type": "code",
      "metadata": {
        "id": "ssUCWwNnuTwa"
      },
      "source": [
        "data_A = pd.concat([df_A_train,df_A_test],axis=0)"
      ],
      "execution_count": null,
      "outputs": []
    },
    {
      "cell_type": "code",
      "metadata": {
        "id": "mE66W0UiuoTs",
        "colab": {
          "base_uri": "https://localhost:8080/"
        },
        "outputId": "cf067423-c345-4f94-fe73-824219caf94b"
      },
      "source": [
        "x = convert_lines_to_feature_strings(data_A['post_body'],stopwords)"
      ],
      "execution_count": null,
      "outputs": [
        {
          "output_type": "stream",
          "text": [
            " Converting from raw text to unigram and bigram features\n",
            " Includes filtering stopword bigrams\n",
            " Initializing\n"
          ],
          "name": "stdout"
        },
        {
          "output_type": "stream",
          "text": [
            "  0%|          | 3/1028 [00:00<00:34, 29.67it/s]"
          ],
          "name": "stderr"
        },
        {
          "output_type": "stream",
          "text": [
            " Iterating through documents extracting unigram and bigram features\n"
          ],
          "name": "stdout"
        },
        {
          "output_type": "stream",
          "text": [
            "100%|██████████| 1028/1028 [00:35<00:00, 29.19it/s]"
          ],
          "name": "stderr"
        },
        {
          "output_type": "stream",
          "text": [
            " Feature string for first document: 'fun_... smoke_... n't_remember fucking_hurt hurt_'s pain_inside okey_.. .._people cool_person fucking_wrong real_... head_... depression_... real_... male_... 80_...'\n"
          ],
          "name": "stdout"
        },
        {
          "output_type": "stream",
          "text": [
            "\n"
          ],
          "name": "stderr"
        }
      ]
    },
    {
      "cell_type": "markdown",
      "metadata": {
        "id": "Y5rywOKNFgzu"
      },
      "source": [
        "### **Logistic Regression**"
      ]
    },
    {
      "cell_type": "code",
      "metadata": {
        "colab": {
          "base_uri": "https://localhost:8080/"
        },
        "id": "4zuOLM4YTpzK",
        "outputId": "51f97564-71b4-419f-e580-e8db25381734"
      },
      "source": [
        "lr_classifier = LogisticRegression(solver='liblinear')\n",
        "lr_classifier.fit(X_train, df_A_train['class'])"
      ],
      "execution_count": null,
      "outputs": [
        {
          "output_type": "execute_result",
          "data": {
            "text/plain": [
              "LogisticRegression(C=1.0, class_weight=None, dual=False, fit_intercept=True,\n",
              "                   intercept_scaling=1, l1_ratio=None, max_iter=100,\n",
              "                   multi_class='auto', n_jobs=None, penalty='l2',\n",
              "                   random_state=None, solver='liblinear', tol=0.0001, verbose=0,\n",
              "                   warm_start=False)"
            ]
          },
          "metadata": {
            "tags": []
          },
          "execution_count": 19
        }
      ]
    },
    {
      "cell_type": "code",
      "metadata": {
        "colab": {
          "base_uri": "https://localhost:8080/"
        },
        "id": "8OeV3NrdUPXw",
        "outputId": "d98a5e03-3cab-4887-b012-a43c7ca78cd0"
      },
      "source": [
        "most_informative_features(training_vectorizer,lr_classifier,20)"
      ],
      "execution_count": null,
      "outputs": [
        {
          "output_type": "stream",
          "text": [
            "\t-1.0648\tclose_friends  \t\t1.2100\tgon_na         \n",
            "\t-0.9126\tt_live         \t\t0.7642\tm_ready        \n",
            "\t-0.9117\tfeel_free      \t\t0.7090\tpain_          \n",
            "\t-0.7939\tcontemplating_suicide\t\t0.6835\tpain_anymore   \n",
            "\t-0.7704\two_nt          \t\t0.6154\tca_nt          \n",
            "\t-0.6846\tve_read        \t\t0.6085\tfall_asleep    \n",
            "\t-0.6153\tfinancial_state\t\t0.6032\tm_schizophrenic\n",
            "\t-0.6148\tt_remember     \t\t0.5881\tm_tired        \n",
            "\t-0.6082\tm_sad          \t\t0.5815\ts_hard         \n",
            "\t-0.6061\tt_trust        \t\t0.5649\tm_thinking     \n",
            "\t-0.5964\tmake_sense     \t\t0.5564\tlong_time      \n",
            "\t-0.5956\tdying_column   \t\t0.5384\tt_talk         \n",
            "\t-0.5792\tm_shaking      \t\t0.5099\tmentally_ill   \n",
            "\t-0.5773\tkinda_making   \t\t0.5095\tm_supposed     \n",
            "\t-0.5592\tt_imagine      \t\t0.5069\tlife_worse     \n",
            "\t-0.5465\t2_hours        \t\t0.5037\tpretty_good    \n",
            "\t-0.5431\tpanic_attacks  \t\t0.5006\tsingle_day     \n",
            "\t-0.5342\tfeel_depressed \t\t0.4975\tve_decided     \n",
            "\t-0.5307\tsuicidal_thoughts\t\t0.4800\tcarbon_monoxide\n",
            "\t-0.5286\thorrible_thoughts\t\t0.4626\t20_years       \n"
          ],
          "name": "stdout"
        }
      ]
    },
    {
      "cell_type": "code",
      "metadata": {
        "colab": {
          "base_uri": "https://localhost:8080/"
        },
        "id": "XNAP9IydTU6_",
        "outputId": "ebb57e68-d68a-4ce5-dbdd-2dbb54447e84"
      },
      "source": [
        "lr_classifier.score(X_test,df_A_test['class'])"
      ],
      "execution_count": null,
      "outputs": [
        {
          "output_type": "execute_result",
          "data": {
            "text/plain": [
              "0.5359116022099447"
            ]
          },
          "metadata": {
            "tags": []
          },
          "execution_count": 21
        }
      ]
    },
    {
      "cell_type": "code",
      "metadata": {
        "id": "ufLCUOmbAdLJ"
      },
      "source": [
        "X_features,_ = convert_text_into_features(x,stopwords)"
      ],
      "execution_count": null,
      "outputs": []
    },
    {
      "cell_type": "code",
      "metadata": {
        "colab": {
          "base_uri": "https://localhost:8080/"
        },
        "id": "TSJnx_ZWABhc",
        "outputId": "cd066092-5792-4035-a701-ac5d33ccc347"
      },
      "source": [
        "accuracy_scores = cross_val_score(lr_classifier, X_features, \n",
        "                                  data_A['class'],cv= 3)\n",
        "print(\"accuracy scores = {}, mean = {}, stdev = {}\".format(accuracy_scores, np.mean(accuracy_scores), np.std(accuracy_scores)))"
      ],
      "execution_count": null,
      "outputs": [
        {
          "output_type": "stream",
          "text": [
            "accuracy scores = [0.56851312 0.59475219 0.55847953], mean = 0.5739149460953973, stdev = 0.015292943087483109\n"
          ],
          "name": "stdout"
        }
      ]
    },
    {
      "cell_type": "code",
      "metadata": {
        "colab": {
          "base_uri": "https://localhost:8080/",
          "height": 296
        },
        "id": "qD4Nh8u6Upuh",
        "outputId": "6c962403-8e43-4af2-ed65-221592957425"
      },
      "source": [
        "metrics.plot_confusion_matrix(lr_classifier,X_test,df_A_test['class'])"
      ],
      "execution_count": null,
      "outputs": [
        {
          "output_type": "execute_result",
          "data": {
            "text/plain": [
              "<sklearn.metrics._plot.confusion_matrix.ConfusionMatrixDisplay at 0x7f76dbaacc90>"
            ]
          },
          "metadata": {
            "tags": []
          },
          "execution_count": 24
        },
        {
          "output_type": "display_data",
          "data": {
            "image/png": "[encoded data removed]",
            "text/plain": [
              "<Figure size 432x288 with 2 Axes>"
            ]
          },
          "metadata": {
            "tags": [],
            "needs_background": "light"
          }
        }
      ]
    },
    {
      "cell_type": "code",
      "metadata": {
        "colab": {
          "base_uri": "https://localhost:8080/",
          "height": 296
        },
        "id": "rOjLClNDVMqJ",
        "outputId": "1f3d96c3-6aff-48c3-c515-8fb56369c4d9"
      },
      "source": [
        "metrics.plot_roc_curve(lr_classifier, X_test, df_A_test['class'])"
      ],
      "execution_count": null,
      "outputs": [
        {
          "output_type": "execute_result",
          "data": {
            "text/plain": [
              "<sklearn.metrics._plot.roc_curve.RocCurveDisplay at 0x7f76db9f3cd0>"
            ]
          },
          "metadata": {
            "tags": []
          },
          "execution_count": 25
        },
        {
          "output_type": "display_data",
          "data": {
            "image/png": "[encoded data removed]",
            "text/plain": [
              "<Figure size 432x288 with 1 Axes>"
            ]
          },
          "metadata": {
            "tags": [],
            "needs_background": "light"
          }
        }
      ]
    },
    {
      "cell_type": "markdown",
      "metadata": {
        "id": "4c4c5v59Furu"
      },
      "source": [
        "### **Decision Trees**"
      ]
    },
    {
      "cell_type": "code",
      "metadata": {
        "colab": {
          "base_uri": "https://localhost:8080/"
        },
        "id": "L9VSde_zoA_a",
        "outputId": "7bc4aa7f-c8a6-40ae-db21-301631376db0"
      },
      "source": [
        "tree = DecisionTreeClassifier(criterion='entropy')\n",
        "tree.fit(X_train,df_A_train['class'])"
      ],
      "execution_count": null,
      "outputs": [
        {
          "output_type": "execute_result",
          "data": {
            "text/plain": [
              "DecisionTreeClassifier(ccp_alpha=0.0, class_weight=None, criterion='entropy',\n",
              "                       max_depth=None, max_features=None, max_leaf_nodes=None,\n",
              "                       min_impurity_decrease=0.0, min_impurity_split=None,\n",
              "                       min_samples_leaf=1, min_samples_split=2,\n",
              "                       min_weight_fraction_leaf=0.0, presort='deprecated',\n",
              "                       random_state=None, splitter='best')"
            ]
          },
          "metadata": {
            "tags": []
          },
          "execution_count": 26
        }
      ]
    },
    {
      "cell_type": "code",
      "metadata": {
        "colab": {
          "base_uri": "https://localhost:8080/"
        },
        "id": "hbRJ3KDXGVlQ",
        "outputId": "73aa788a-9745-44c1-f077-c5bf3f57e901"
      },
      "source": [
        "tree.score(X_test,df_A_test['class'])"
      ],
      "execution_count": null,
      "outputs": [
        {
          "output_type": "execute_result",
          "data": {
            "text/plain": [
              "0.5524861878453039"
            ]
          },
          "metadata": {
            "tags": []
          },
          "execution_count": 27
        }
      ]
    },
    {
      "cell_type": "code",
      "metadata": {
        "colab": {
          "base_uri": "https://localhost:8080/"
        },
        "id": "S4kKNLNjGbTr",
        "outputId": "5f0ba1ae-e8fa-4841-f9d0-d56a891a2fd6"
      },
      "source": [
        "accuracy_scores = cross_val_score(tree, X_features, \n",
        "                                  data_A['class'],cv= 3)\n",
        "print(\"accuracy scores = {}, mean = {}, stdev = {}\".format(accuracy_scores, np.mean(accuracy_scores), np.std(accuracy_scores)))"
      ],
      "execution_count": null,
      "outputs": [
        {
          "output_type": "stream",
          "text": [
            "accuracy scores = [0.53061224 0.58600583 0.53216374], mean = 0.5495939394972692, stdev = 0.02575488514437499\n"
          ],
          "name": "stdout"
        }
      ]
    },
    {
      "cell_type": "markdown",
      "metadata": {
        "id": "zHdLg4UkJLxG"
      },
      "source": [
        "# **Task - everything**"
      ]
    },
    {
      "cell_type": "code",
      "metadata": {
        "id": "5IUzNeR_piRr"
      },
      "source": [
        "df_B_train = shared_task_train\n",
        "df_B_train = df_B_train.dropna()\n",
        "df_B_train = pd.merge(df_B_train,crowd_train,on='user_id')\n",
        "df_B_train = pd.merge(df_B_train,df_class, on = 'label')"
      ],
      "execution_count": null,
      "outputs": []
    },
    {
      "cell_type": "code",
      "metadata": {
        "id": "p6s-nO50zPJ4"
      },
      "source": [
        "df_B_test = shared_task_test\n",
        "df_B_test = df_B_test.dropna()\n",
        "df_B_test = pd.merge(df_B_test,crowd_test,on='user_id')\n",
        "df_B_test['label'] = df_B_test['raw_label']\n",
        "df_B_test = pd.merge(df_B_test,df_class, on = 'label')"
      ],
      "execution_count": null,
      "outputs": []
    },
    {
      "cell_type": "code",
      "metadata": {
        "id": "AeyG-XSlZaho",
        "colab": {
          "base_uri": "https://localhost:8080/"
        },
        "outputId": "2a323100-ae0c-4360-9d9c-3ac60b307a1d"
      },
      "source": [
        "x_b = convert_lines_to_feature_strings(df_B_train['post_body'],stopwords)"
      ],
      "execution_count": null,
      "outputs": [
        {
          "output_type": "stream",
          "text": [
            " Converting from raw text to unigram and bigram features\n",
            " Includes filtering stopword bigrams\n",
            " Initializing\n",
            " Iterating through documents extracting unigram and bigram features\n"
          ],
          "name": "stdout"
        },
        {
          "output_type": "stream",
          "text": [
            "100%|██████████| 16600/16600 [09:01<00:00, 30.63it/s]"
          ],
          "name": "stderr"
        },
        {
          "output_type": "stream",
          "text": [
            " Feature string for first document: 'time_ago seduce_beatiful beatiful_womens pass_exams real_motivation motivation_dosen't 3_years famous_people people_monument real_motivation life_motivation fucking_soul cry_beacuse nuklear_bomb create_road time_... soo_fat „_wanted wanted_” run_... 6_months 5_minutes days_ago make_test 20_minutes minutes_... 30_minutes minutes_... 40_minutes 60_minutes awesome_place'\n"
          ],
          "name": "stdout"
        },
        {
          "output_type": "stream",
          "text": [
            "\n"
          ],
          "name": "stderr"
        }
      ]
    },
    {
      "cell_type": "code",
      "metadata": {
        "id": "wvia_2kz3eEq"
      },
      "source": [
        "X_train_b, training_vectorizer_b = convert_text_into_features(x_b,stopwords)"
      ],
      "execution_count": null,
      "outputs": []
    },
    {
      "cell_type": "code",
      "metadata": {
        "id": "MwbCRHGCarlJ",
        "colab": {
          "base_uri": "https://localhost:8080/"
        },
        "outputId": "952cd244-76bb-4126-e6ef-f3445ffa5e7c"
      },
      "source": [
        "X_test_b =  convert_lines_to_feature_strings(df_B_test['post_body'],stopwords)\n",
        "X_test_b_features = training_vectorizer_b.transform(X_test_b)"
      ],
      "execution_count": null,
      "outputs": [
        {
          "output_type": "stream",
          "text": [
            " Converting from raw text to unigram and bigram features\n",
            " Includes filtering stopword bigrams\n",
            " Initializing\n"
          ],
          "name": "stdout"
        },
        {
          "output_type": "stream",
          "text": [
            "  0%|          | 3/4906 [00:00<02:49, 28.88it/s]"
          ],
          "name": "stderr"
        },
        {
          "output_type": "stream",
          "text": [
            " Iterating through documents extracting unigram and bigram features\n"
          ],
          "name": "stdout"
        },
        {
          "output_type": "stream",
          "text": [
            "100%|██████████| 4906/4906 [02:43<00:00, 30.07it/s]\n"
          ],
          "name": "stderr"
        },
        {
          "output_type": "stream",
          "text": [
            " Feature string for first document: 'stay_alive'\n"
          ],
          "name": "stdout"
        }
      ]
    },
    {
      "cell_type": "markdown",
      "metadata": {
        "id": "BgGPzo9pIfVf"
      },
      "source": [
        "### **Logistic Regression**"
      ]
    },
    {
      "cell_type": "code",
      "metadata": {
        "colab": {
          "base_uri": "https://localhost:8080/"
        },
        "id": "d3p54ZybaggZ",
        "outputId": "92c2201d-e67c-47a5-b3f0-4e47e5f198cd"
      },
      "source": [
        "lr_classifier_b = LogisticRegression(solver='liblinear')\n",
        "lr_classifier_b.fit(X_train_b, df_B_train['class'])"
      ],
      "execution_count": null,
      "outputs": [
        {
          "output_type": "execute_result",
          "data": {
            "text/plain": [
              "LogisticRegression(C=1.0, class_weight=None, dual=False, fit_intercept=True,\n",
              "                   intercept_scaling=1, l1_ratio=None, max_iter=100,\n",
              "                   multi_class='auto', n_jobs=None, penalty='l2',\n",
              "                   random_state=None, solver='liblinear', tol=0.0001, verbose=0,\n",
              "                   warm_start=False)"
            ]
          },
          "metadata": {
            "tags": []
          },
          "execution_count": 34
        }
      ]
    },
    {
      "cell_type": "code",
      "metadata": {
        "colab": {
          "base_uri": "https://localhost:8080/"
        },
        "id": "H_5ym2DBtjKq",
        "outputId": "49980871-3c30-4b98-bd08-52331a2cf77c"
      },
      "source": [
        "most_informative_features(training_vectorizer_b,lr_classifier_b,20)"
      ],
      "execution_count": null,
      "outputs": [
        {
          "output_type": "stream",
          "text": [
            "\t-1.3879\tm_running      \t\t1.5380\twondering_thought\n",
            "\t-1.3478\titz_salust     \t\t1.3662\tpost_deets     \n",
            "\t-1.1620\tboarding_school\t\t1.2632\thearing_voices \n",
            "\t-1.1524\they_fittit     \t\t1.2234\thearing_loss   \n",
            "\t-1.1366\tsan_diego      \t\t1.2185\tasperger_      \n",
            "\t-1.1315\tmessage_soccerstud2691\t\t1.2166\tm_17           \n",
            "\t-1.1119\tagent_phantom  \t\t1.1905\tm_schizophrenic\n",
            "\t-1.1050\tolder_cousin   \t\t1.1083\tpain_          \n",
            "\t-1.0712\tbike_shop      \t\t1.0872\tpost_psn       \n",
            "\t-1.0596\tgrad_school    \t\t1.0691\tpsn_bow        \n",
            "\t-1.0518\tfront_page     \t\t1.0402\ttime_streams   \n",
            "\t-1.0506\trock_climbing  \t\t1.0394\ts_syndrome     \n",
            "\t-1.0438\tm_finding      \t\t1.0365\tautistic_spectrum\n",
            "\t-1.0259\t5_times        \t\t1.0156\tfriend_code    \n",
            "\t-1.0138\tt_decide       \t\t0.9969\tattempted_suicide\n",
            "\t-1.0066\tclose_friends  \t\t0.9896\thead_back      \n",
            "\t-0.9694\they_           \t\t0.9810\thearing_difficulties\n",
            "\t-0.9639\thusband_       \t\t0.9793\tm_playing      \n",
            "\t-0.9367\treddit_alien   \t\t0.9691\tcrota_         \n",
            "\t-0.9284\tshit_          \t\t0.9586\tsite_          \n"
          ],
          "name": "stdout"
        }
      ]
    },
    {
      "cell_type": "code",
      "metadata": {
        "colab": {
          "base_uri": "https://localhost:8080/"
        },
        "id": "0lyJ2Xc0bHVL",
        "outputId": "a63632aa-df34-4524-c9a5-ea3f06209032"
      },
      "source": [
        "lr_classifier_b.score(X_test_b_features,df_B_test['class'])"
      ],
      "execution_count": null,
      "outputs": [
        {
          "output_type": "execute_result",
          "data": {
            "text/plain": [
              "0.5521810028536486"
            ]
          },
          "metadata": {
            "tags": []
          },
          "execution_count": 36
        }
      ]
    },
    {
      "cell_type": "code",
      "metadata": {
        "id": "P3SIVNDhu6Wa"
      },
      "source": [
        "x_features_b = vstack([X_train_b,X_test_b_features])\n",
        "data_B = pd.concat([df_B_train,df_B_test],axis=0)"
      ],
      "execution_count": null,
      "outputs": []
    },
    {
      "cell_type": "code",
      "metadata": {
        "colab": {
          "base_uri": "https://localhost:8080/"
        },
        "id": "l2Bl6XCevcNK",
        "outputId": "bdfc2b7a-86a0-475d-e97d-f74e174e426e"
      },
      "source": [
        "accuracy_scores_b = cross_val_score(lr_classifier_b, x_features_b, data_B['class'],cv= 3)\n",
        "print(\"accuracy scores = {}, mean = {}, stdev = {}\".format(accuracy_scores_b, \n",
        "                                                           np.mean(accuracy_scores_b), \n",
        "                                                           np.std(accuracy_scores_b)))"
      ],
      "execution_count": null,
      "outputs": [
        {
          "output_type": "stream",
          "text": [
            "/usr/local/lib/python3.7/dist-packages/sklearn/svm/_base.py:947: ConvergenceWarning: Liblinear failed to converge, increase the number of iterations.\n",
            "  \"the number of iterations.\", ConvergenceWarning)\n"
          ],
          "name": "stderr"
        },
        {
          "output_type": "stream",
          "text": [
            "accuracy scores = [0.55712094 0.53605803 0.54338728], mean = 0.5455220805912858, stdev = 0.008730390684411136\n"
          ],
          "name": "stdout"
        }
      ]
    },
    {
      "cell_type": "code",
      "metadata": {
        "colab": {
          "base_uri": "https://localhost:8080/",
          "height": 296
        },
        "id": "Y_iLcjSGa29s",
        "outputId": "482f3274-a2b8-4de1-9121-ad1a9a9e2060"
      },
      "source": [
        "metrics.plot_confusion_matrix(lr_classifier_b,X_test_b_features,df_B_test['class'])"
      ],
      "execution_count": null,
      "outputs": [
        {
          "output_type": "execute_result",
          "data": {
            "text/plain": [
              "<sklearn.metrics._plot.confusion_matrix.ConfusionMatrixDisplay at 0x7f76d9b6e090>"
            ]
          },
          "metadata": {
            "tags": []
          },
          "execution_count": 39
        },
        {
          "output_type": "display_data",
          "data": {
            "image/png": "[encoded data removed]",
            "text/plain": [
              "<Figure size 432x288 with 2 Axes>"
            ]
          },
          "metadata": {
            "tags": [],
            "needs_background": "light"
          }
        }
      ]
    },
    {
      "cell_type": "code",
      "metadata": {
        "colab": {
          "base_uri": "https://localhost:8080/",
          "height": 296
        },
        "id": "TQr1v0dJbUPl",
        "outputId": "b110c7bb-36b0-4df7-8906-389bc9d01067"
      },
      "source": [
        "metrics.plot_roc_curve(lr_classifier_b, X_test_b_features,df_B_test['class'])"
      ],
      "execution_count": null,
      "outputs": [
        {
          "output_type": "execute_result",
          "data": {
            "text/plain": [
              "<sklearn.metrics._plot.roc_curve.RocCurveDisplay at 0x7f76d9b6e610>"
            ]
          },
          "metadata": {
            "tags": []
          },
          "execution_count": 40
        },
        {
          "output_type": "display_data",
          "data": {
            "image/png": "[encoded data removed]",
            "text/plain": [
              "<Figure size 432x288 with 1 Axes>"
            ]
          },
          "metadata": {
            "tags": [],
            "needs_background": "light"
          }
        }
      ]
    },
    {
      "cell_type": "markdown",
      "metadata": {
        "id": "hhdD5JxfImMQ"
      },
      "source": [
        "### **Decision Trees**"
      ]
    },
    {
      "cell_type": "code",
      "metadata": {
        "colab": {
          "base_uri": "https://localhost:8080/"
        },
        "id": "YOVoesWwIzYf",
        "outputId": "5d121f0b-028e-4a1f-c8d6-c1ea3acd6f66"
      },
      "source": [
        "tree_b = DecisionTreeClassifier(criterion='entropy')\n",
        "tree_b.fit(X_train_b, df_B_train['class'])"
      ],
      "execution_count": null,
      "outputs": [
        {
          "output_type": "execute_result",
          "data": {
            "text/plain": [
              "DecisionTreeClassifier(ccp_alpha=0.0, class_weight=None, criterion='entropy',\n",
              "                       max_depth=None, max_features=None, max_leaf_nodes=None,\n",
              "                       min_impurity_decrease=0.0, min_impurity_split=None,\n",
              "                       min_samples_leaf=1, min_samples_split=2,\n",
              "                       min_weight_fraction_leaf=0.0, presort='deprecated',\n",
              "                       random_state=None, splitter='best')"
            ]
          },
          "metadata": {
            "tags": []
          },
          "execution_count": 41
        }
      ]
    },
    {
      "cell_type": "code",
      "metadata": {
        "colab": {
          "base_uri": "https://localhost:8080/"
        },
        "id": "xIDWZmAiJDeO",
        "outputId": "7a4f22d9-f861-444c-bfe3-82f8c25150f6"
      },
      "source": [
        "tree_b.score(X_test_b_features,df_B_test['class'])"
      ],
      "execution_count": null,
      "outputs": [
        {
          "output_type": "execute_result",
          "data": {
            "text/plain": [
              "0.5511618426416632"
            ]
          },
          "metadata": {
            "tags": []
          },
          "execution_count": 42
        }
      ]
    },
    {
      "cell_type": "code",
      "metadata": {
        "colab": {
          "base_uri": "https://localhost:8080/"
        },
        "id": "CiSlPE1fJYb3",
        "outputId": "5df4ba2a-06ad-4e1a-f584-0dc62d1dc8e6"
      },
      "source": [
        "accuracy_scores = cross_val_score(tree_b, x_features_b, data_B['class'],cv= 3)\n",
        "print(\"accuracy scores = {}, mean = {}, stdev = {}\".format(accuracy_scores_b, \n",
        "                                                           np.mean(accuracy_scores_b), \n",
        "                                                           np.std(accuracy_scores_b)))"
      ],
      "execution_count": null,
      "outputs": [
        {
          "output_type": "stream",
          "text": [
            "accuracy scores = [0.55712094 0.53605803 0.54338728], mean = 0.5455220805912858, stdev = 0.008730390684411136\n"
          ],
          "name": "stdout"
        }
      ]
    },
    {
      "cell_type": "code",
      "metadata": {
        "colab": {
          "base_uri": "https://localhost:8080/",
          "height": 296
        },
        "id": "bFcocWzfJ6r9",
        "outputId": "311e3290-c0dc-47d7-c9f2-c5b3b3eba3cc"
      },
      "source": [
        "metrics.plot_confusion_matrix(tree_b,X_test_b_features,df_B_test['class'])"
      ],
      "execution_count": null,
      "outputs": [
        {
          "output_type": "execute_result",
          "data": {
            "text/plain": [
              "<sklearn.metrics._plot.confusion_matrix.ConfusionMatrixDisplay at 0x7f76d9776e10>"
            ]
          },
          "metadata": {
            "tags": []
          },
          "execution_count": 44
        },
        {
          "output_type": "display_data",
          "data": {
            "image/png": "[encoded data removed]",
            "text/plain": [
              "<Figure size 432x288 with 2 Axes>"
            ]
          },
          "metadata": {
            "tags": [],
            "needs_background": "light"
          }
        }
      ]
    },
    {
      "cell_type": "code",
      "metadata": {
        "colab": {
          "base_uri": "https://localhost:8080/",
          "height": 296
        },
        "id": "MsXlEiv3KAEe",
        "outputId": "f77612c0-e6c6-4b33-c877-010ab4028169"
      },
      "source": [
        "metrics.plot_roc_curve(tree_b, X_test_b_features,df_B_test['class'])"
      ],
      "execution_count": null,
      "outputs": [
        {
          "output_type": "execute_result",
          "data": {
            "text/plain": [
              "<sklearn.metrics._plot.roc_curve.RocCurveDisplay at 0x7f76d9988d50>"
            ]
          },
          "metadata": {
            "tags": []
          },
          "execution_count": 45
        },
        {
          "output_type": "display_data",
          "data": {
            "image/png": "[encoded data removed]",
            "text/plain": [
              "<Figure size 432x288 with 1 Axes>"
            ]
          },
          "metadata": {
            "tags": [],
            "needs_background": "light"
          }
        }
      ]
    }
  ]
}