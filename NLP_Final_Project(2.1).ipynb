{
  "nbformat": 4,
  "nbformat_minor": 0,
  "metadata": {
    "colab": {
      "name": "NLP_Final_Project(2.1).ipynb",
      "provenance": [],
      "collapsed_sections": []
    },
    "kernelspec": {
      "name": "python3",
      "display_name": "Python 3"
    },
    "language_info": {
      "name": "python"
    },
    "accelerator": "TPU"
  },
  "cells": [
    {
      "cell_type": "code",
      "metadata": {
        "id": "qmook8VUeDO4"
      },
      "source": [
        "import csv\n",
        "import codecs\n",
        "import argparse\n",
        "import os\n",
        "from pathlib import Path\n",
        "import pandas as pd\n",
        "import sys, argparse\n",
        "from sklearn import metrics\n",
        "import matplotlib\n",
        "import matplotlib.pyplot as plt\n",
        "import seaborn as sn\n",
        "import gc\n",
        "from spacy.lang.en import English\n",
        "from nltk.stem.porter import *\n",
        "import re\n",
        "import string\n",
        "from tqdm import tqdm\n",
        "import numpy as np\n",
        "from scipy.sparse import coo_matrix, vstack\n",
        "from sklearn.linear_model import LogisticRegression\n",
        "from sklearn import svm\n",
        "from sklearn.tree import DecisionTreeClassifier\n",
        "from sklearn.naive_bayes import GaussianNB\n",
        "from sklearn.feature_extraction.text import CountVectorizer\n",
        "from sklearn.model_selection import train_test_split\n",
        "from sklearn.model_selection import cross_val_score\n",
        "import sklearn.metrics as metrics\n",
        "import matplotlib.pyplot as plt\n",
        "from collections import Counter\n",
        "from bs4 import BeautifulSoup"
      ],
      "execution_count": null,
      "outputs": []
    },
    {
      "cell_type": "code",
      "metadata": {
        "id": "W_FuRz3Tgz7r"
      },
      "source": [
        "path = '/content/drive/MyDrive/DATA641 Final Project/nlp_project_data/umd_reddit_suicidewatch_dataset_v2/'"
      ],
      "execution_count": null,
      "outputs": []
    },
    {
      "cell_type": "markdown",
      "metadata": {
        "id": "si1QWOYgRVYx"
      },
      "source": [
        "# **Functions**"
      ]
    },
    {
      "cell_type": "code",
      "metadata": {
        "id": "AeXLWDQNIPN7"
      },
      "source": [
        "def normalize_tokens(tokenlist):\n",
        "    normalized_tokens = [token.lower().replace('_','+') for token in tokenlist   # lowercase, _ => +\n",
        "                             if re.search('[^\\s]', token) is not None            # ignore whitespace tokens\n",
        "                             and not token.startswith(\"@\")                       # ignore  handles\n",
        "                        ]\n",
        "    return normalized_tokens    \n",
        "\n",
        "def ngrams(tokens, n):\n",
        "    return [tokens[i:i+n] for i in range(len(tokens)-n+1)]\n",
        "\n",
        "def filter_punctuation_bigrams(ngrams):\n",
        "    punct = string.punctuation\n",
        "    return [ngram   for ngram in ngrams   if ngram[0] not in punct and ngram[1] not in punct]\n",
        "\n",
        "def filter_stopword_bigrams(ngrams, stopwords):\n",
        "    result = [ngram   for ngram in ngrams   if ngram[0] not in stopwords and ngram[1] not in stopwords]\n",
        "    return result"
      ],
      "execution_count": null,
      "outputs": []
    },
    {
      "cell_type": "code",
      "metadata": {
        "id": "PfVz-gejKoEr"
      },
      "source": [
        "def convert_text_into_features(X, stopwords_arg, analyzefn=\"word\", range=(1,1)):\n",
        "    training_vectorizer = CountVectorizer(stop_words=stopwords_arg,\n",
        "                                          analyzer=analyzefn,\n",
        "                                          lowercase=True,\n",
        "                                          ngram_range=range)\n",
        "    X_features = training_vectorizer.fit_transform(X)\n",
        "    return X_features, training_vectorizer\n",
        "\n",
        "def convert_lines_to_feature_strings(lines, stopwords, remove_stopword_bigrams=True):\n",
        "\n",
        "    print(\" Converting from raw text to unigram and bigram features\")\n",
        "    if remove_stopword_bigrams:\n",
        "        print(\" Includes filtering stopword bigrams\")\n",
        "        \n",
        "    print(\" Initializing\")\n",
        "    stemmer = PorterStemmer()\n",
        "    nlp          = English(parser=False)\n",
        "    all_features = []\n",
        "    print(\" Iterating through documents extracting unigram and bigram features\")\n",
        "    for line in tqdm(lines):\n",
        "        \n",
        "        # Get spacy tokenization and normalize the tokens\n",
        "        spacy_analysis    = nlp(line)\n",
        "        spacy_tokens      = [token.orth_ for token in spacy_analysis]\n",
        "        spacy_tokens      = [stemmer.stem(token) for token in spacy_tokens]\n",
        "        normalized_tokens = normalize_tokens(spacy_tokens)\n",
        "\n",
        "        # Collect unigram tokens as features\n",
        "        # Exclude unigrams that are stopwords or are punctuation strings (e.g. '.' or ',')\n",
        "        unigrams          = [token   for token in normalized_tokens\n",
        "                                 if token not in stopwords and token not in string.punctuation]\n",
        "\n",
        "        # Conjoin the feature lists and turn into a space-separated string of features.\n",
        "        # E.g. if unigrams is ['coffee', 'cup'] and bigrams is ['coffee_cup', 'white_house']\n",
        "        # then feature_string should be 'coffee cup coffee_cup white_house'\n",
        "\n",
        "        unigrams = \" \".join(unigrams)\n",
        "        feature_string = unigrams \n",
        "\n",
        "        # Add this feature string to the output\n",
        "        all_features.append(feature_string)\n",
        "\n",
        "\n",
        "    print(\" Feature string for first document: '{}'\".format(all_features[0]))\n",
        "        \n",
        "    return all_features\n",
        "\n",
        "def most_informative_features(vectorizer, classifier, n=20):\n",
        "    # Adapted from https://stackoverflow.com/questions/11116697/how-to-get-most-informative-features-for-scikit-learn-classifiers#11116960\n",
        "    feature_names       = vectorizer.get_feature_names()\n",
        "    coefs_with_features = sorted(zip(classifier.coef_[0], feature_names))\n",
        "    top                 = zip(coefs_with_features[:n], coefs_with_features[:-(n + 1):-1])\n",
        "    for (coef_1, feature_1), (coef_2, feature_2) in top:\n",
        "        print(\"\\t%.4f\\t%-15s\\t\\t%.4f\\t%-15s\" % (coef_1, feature_1, coef_2, feature_2))"
      ],
      "execution_count": null,
      "outputs": []
    },
    {
      "cell_type": "code",
      "metadata": {
        "id": "GrBfOaFuGwgL"
      },
      "source": [
        "def load_stopwords(filename):\n",
        "    stopwords = []\n",
        "    with codecs.open(filename, 'r', encoding='ascii', errors='ignore') as fp:\n",
        "        stopwords = fp.read().split('\\n')\n",
        "    return set(stopwords)\n",
        "\n",
        "stopwords = load_stopwords(path+'mallet_en_stoplist.txt')   "
      ],
      "execution_count": null,
      "outputs": []
    },
    {
      "cell_type": "code",
      "metadata": {
        "id": "3J7YGEvTWDXQ"
      },
      "source": [
        "def strip_html(text):\n",
        "    soup = BeautifulSoup(text, \"html.parser\")\n",
        "    return soup.get_text()\n",
        "\n",
        "#Removing the square brackets\n",
        "def remove_between_square_brackets(text):\n",
        "    return re.sub('\\[[^]/,.!?]*\\]', '', text)\n",
        "# Removing URL's\n",
        "def remove_between_square_brackets(text):\n",
        "    return re.sub(r'http\\S+', '', text)\n",
        "#Removing the stopwords from text\n",
        "def remove_stopwords(text):\n",
        "    final_text = []\n",
        "    for i in text.split():\n",
        "        if i.strip().lower() not in stopwords:\n",
        "            final_text.append(i.strip())\n",
        "    return \" \".join(final_text)\n",
        "#Removing the noisy text\n",
        "def denoise_text(text):\n",
        "    text = strip_html(text)\n",
        "    text = remove_between_square_brackets(text)\n",
        "    text = remove_stopwords(text)\n",
        "    return text"
      ],
      "execution_count": null,
      "outputs": []
    },
    {
      "cell_type": "markdown",
      "metadata": {
        "id": "IJg0tWc1RRXR"
      },
      "source": [
        "# **Loading Data**"
      ]
    },
    {
      "cell_type": "code",
      "metadata": {
        "id": "zkGRGRhphlS6"
      },
      "source": [
        "crowd_train = pd.read_csv(path+'crowd/train/crowd_train.csv')\n",
        "task_A_train = pd.read_csv(path+'crowd/train/task_A_train.posts.csv')\n",
        "task_B_train = pd.read_csv(path+'crowd/train/task_B_train.posts.csv')\n",
        "task_C_train = pd.read_csv(path+'crowd/train/task_B_train.posts.csv')\n",
        "shared_task_train = pd.read_csv(path+'crowd/train/shared_task_posts.csv')"
      ],
      "execution_count": null,
      "outputs": []
    },
    {
      "cell_type": "code",
      "metadata": {
        "id": "4cOFouP2mZ-u"
      },
      "source": [
        "crowd_test = pd.read_csv(path+'crowd/test/crowd_test.csv')\n",
        "task_A_test = pd.read_csv(path+'crowd/test/task_A_test.posts.csv')\n",
        "task_B_test = pd.read_csv(path+'crowd/test/task_B_test.posts.csv')\n",
        "task_C_test = pd.read_csv(path+'crowd/test/task_B_test.posts.csv')\n",
        "shared_task_test = pd.read_csv(path+'crowd/test/shared_task_posts_test.csv')"
      ],
      "execution_count": null,
      "outputs": []
    },
    {
      "cell_type": "code",
      "metadata": {
        "colab": {
          "base_uri": "https://localhost:8080/",
          "height": 166
        },
        "id": "oOjYpdpFNdLu",
        "outputId": "6f9fa46f-5bd8-4ba6-ac5e-d5a73d5bfd5d"
      },
      "source": [
        "label = np.array(['a','b','c','d'])\n",
        "c = np.array(['Negative','Negative','Negative','Positive'])\n",
        "\n",
        "d = np.vstack([label,c])\n",
        "\n",
        "df_class = pd.DataFrame(data=d.T,columns=['label','class'])\n",
        "\n",
        "df_class"
      ],
      "execution_count": null,
      "outputs": [
        {
          "output_type": "execute_result",
          "data": {
            "text/html": [
              "<div>\n",
              "<style scoped>\n",
              "    .dataframe tbody tr th:only-of-type {\n",
              "        vertical-align: middle;\n",
              "    }\n",
              "\n",
              "    .dataframe tbody tr th {\n",
              "        vertical-align: top;\n",
              "    }\n",
              "\n",
              "    .dataframe thead th {\n",
              "        text-align: right;\n",
              "    }\n",
              "</style>\n",
              "<table border=\"1\" class=\"dataframe\">\n",
              "  <thead>\n",
              "    <tr style=\"text-align: right;\">\n",
              "      <th></th>\n",
              "      <th>label</th>\n",
              "      <th>class</th>\n",
              "    </tr>\n",
              "  </thead>\n",
              "  <tbody>\n",
              "    <tr>\n",
              "      <th>0</th>\n",
              "      <td>a</td>\n",
              "      <td>Negative</td>\n",
              "    </tr>\n",
              "    <tr>\n",
              "      <th>1</th>\n",
              "      <td>b</td>\n",
              "      <td>Negative</td>\n",
              "    </tr>\n",
              "    <tr>\n",
              "      <th>2</th>\n",
              "      <td>c</td>\n",
              "      <td>Negative</td>\n",
              "    </tr>\n",
              "    <tr>\n",
              "      <th>3</th>\n",
              "      <td>d</td>\n",
              "      <td>Positive</td>\n",
              "    </tr>\n",
              "  </tbody>\n",
              "</table>\n",
              "</div>"
            ],
            "text/plain": [
              "  label     class\n",
              "0     a  Negative\n",
              "1     b  Negative\n",
              "2     c  Negative\n",
              "3     d  Positive"
            ]
          },
          "metadata": {
            "tags": []
          },
          "execution_count": 10
        }
      ]
    },
    {
      "cell_type": "markdown",
      "metadata": {
        "id": "qJjS4RgphvlK"
      },
      "source": [
        "# **Task - only Suicide Watch**"
      ]
    },
    {
      "cell_type": "code",
      "metadata": {
        "id": "Dv4QbywQkc1S"
      },
      "source": [
        "df_A_train = shared_task_train[shared_task_train['subreddit'] == 'SuicideWatch']\n",
        "df_A_train = df_A_train.dropna()"
      ],
      "execution_count": null,
      "outputs": []
    },
    {
      "cell_type": "code",
      "metadata": {
        "id": "xu-QckY5onWN"
      },
      "source": [
        "df_A_train = pd.merge(df_A_train,crowd_train,on='user_id')\n",
        "\n",
        "df_A_train = pd.merge(df_A_train,df_class,on='label')"
      ],
      "execution_count": null,
      "outputs": []
    },
    {
      "cell_type": "code",
      "metadata": {
        "id": "ko0XTSD-n6zx"
      },
      "source": [
        "df_A_test = shared_task_test[shared_task_test['subreddit'] == 'SuicideWatch']\n",
        "df_A_test = df_A_test.dropna()\n",
        "\n",
        "df_A_test = pd.merge(df_A_test,crowd_test,on='user_id')\n",
        "\n",
        "df_A_test['label'] = df_A_test['raw_label']\n",
        "\n",
        "df_A_test = pd.merge(df_A_test,df_class,on='label')"
      ],
      "execution_count": null,
      "outputs": []
    },
    {
      "cell_type": "code",
      "metadata": {
        "id": "6JOXHOFlQcu5",
        "colab": {
          "base_uri": "https://localhost:8080/"
        },
        "outputId": "a42c95b1-9f39-4548-a08b-427463f02949"
      },
      "source": [
        "X_train = convert_lines_to_feature_strings(df_A_train['post_body'],stopwords)"
      ],
      "execution_count": null,
      "outputs": [
        {
          "output_type": "stream",
          "text": [
            " Converting from raw text to unigram and bigram features\n",
            " Includes filtering stopword bigrams\n",
            " Initializing\n"
          ],
          "name": "stdout"
        },
        {
          "output_type": "stream",
          "text": [
            "  0%|          | 3/847 [00:00<00:37, 22.37it/s]"
          ],
          "name": "stderr"
        },
        {
          "output_type": "stream",
          "text": [
            " Iterating through documents extracting unigram and bigram features\n"
          ],
          "name": "stdout"
        },
        {
          "output_type": "stream",
          "text": [
            "100%|██████████| 847/847 [00:47<00:00, 17.96it/s]"
          ],
          "name": "stderr"
        },
        {
          "output_type": "stream",
          "text": [
            " Feature string for first document: 'wa parti everyon fun ... smoke ... n't rememb fuck hurt 's 's noth compar pain insid thing ... peopl n't sad beacus talk problem ... fine okey .. peopl cool person confid ... fuck wrong scar someth real ... glad ... open hand ... 's head ... wit depress ... thing real ... thi scar 21 male ... feel 80 ... share thought ..'\n"
          ],
          "name": "stdout"
        },
        {
          "output_type": "stream",
          "text": [
            "\n"
          ],
          "name": "stderr"
        }
      ]
    },
    {
      "cell_type": "code",
      "metadata": {
        "id": "7gqhGOrITAYK"
      },
      "source": [
        "X_train, training_vectorizer = convert_text_into_features(X_train,stopwords)"
      ],
      "execution_count": null,
      "outputs": []
    },
    {
      "cell_type": "code",
      "metadata": {
        "id": "zC0Pvj2Aoi4E",
        "colab": {
          "base_uri": "https://localhost:8080/"
        },
        "outputId": "e34bd939-268a-43f4-a6aa-4da53227621c"
      },
      "source": [
        "X_test = convert_lines_to_feature_strings(df_A_test['post_body'],stopwords)\n",
        "X_test = training_vectorizer.transform(X_test)"
      ],
      "execution_count": null,
      "outputs": [
        {
          "output_type": "stream",
          "text": [
            " Converting from raw text to unigram and bigram features\n",
            " Includes filtering stopword bigrams\n",
            " Initializing\n"
          ],
          "name": "stdout"
        },
        {
          "output_type": "stream",
          "text": [
            "  1%|          | 2/181 [00:00<00:12, 14.61it/s]"
          ],
          "name": "stderr"
        },
        {
          "output_type": "stream",
          "text": [
            " Iterating through documents extracting unigram and bigram features\n"
          ],
          "name": "stdout"
        },
        {
          "output_type": "stream",
          "text": [
            "100%|██████████| 181/181 [00:09<00:00, 18.60it/s]"
          ],
          "name": "stderr"
        },
        {
          "output_type": "stream",
          "text": [
            " Feature string for first document: 'realli n't hand 've told stay aliv persever life hand blow brain end matter happen die accept happen'\n"
          ],
          "name": "stdout"
        },
        {
          "output_type": "stream",
          "text": [
            "\n"
          ],
          "name": "stderr"
        }
      ]
    },
    {
      "cell_type": "code",
      "metadata": {
        "id": "ssUCWwNnuTwa"
      },
      "source": [
        "data_A = pd.concat([df_A_train,df_A_test],axis=0)"
      ],
      "execution_count": null,
      "outputs": []
    },
    {
      "cell_type": "code",
      "metadata": {
        "id": "mE66W0UiuoTs",
        "colab": {
          "base_uri": "https://localhost:8080/"
        },
        "outputId": "8dfda301-3432-4e88-ae67-a6afa8112413"
      },
      "source": [
        "x = convert_lines_to_feature_strings(data_A['post_body'],stopwords)"
      ],
      "execution_count": null,
      "outputs": [
        {
          "output_type": "stream",
          "text": [
            " Converting from raw text to unigram and bigram features\n",
            " Includes filtering stopword bigrams\n",
            " Initializing\n"
          ],
          "name": "stdout"
        },
        {
          "output_type": "stream",
          "text": [
            "  0%|          | 2/1028 [00:00<01:09, 14.84it/s]"
          ],
          "name": "stderr"
        },
        {
          "output_type": "stream",
          "text": [
            " Iterating through documents extracting unigram and bigram features\n"
          ],
          "name": "stdout"
        },
        {
          "output_type": "stream",
          "text": [
            "100%|██████████| 1028/1028 [00:53<00:00, 19.27it/s]"
          ],
          "name": "stderr"
        },
        {
          "output_type": "stream",
          "text": [
            " Feature string for first document: 'wa parti everyon fun ... smoke ... n't rememb fuck hurt 's 's noth compar pain insid thing ... peopl n't sad beacus talk problem ... fine okey .. peopl cool person confid ... fuck wrong scar someth real ... glad ... open hand ... 's head ... wit depress ... thing real ... thi scar 21 male ... feel 80 ... share thought ..'\n"
          ],
          "name": "stdout"
        },
        {
          "output_type": "stream",
          "text": [
            "\n"
          ],
          "name": "stderr"
        }
      ]
    },
    {
      "cell_type": "markdown",
      "metadata": {
        "id": "Y5rywOKNFgzu"
      },
      "source": [
        "### **Logistic Regression**"
      ]
    },
    {
      "cell_type": "code",
      "metadata": {
        "colab": {
          "base_uri": "https://localhost:8080/"
        },
        "id": "4zuOLM4YTpzK",
        "outputId": "2c899625-b524-44d1-d702-ce380a6a19d9"
      },
      "source": [
        "lr_classifier = LogisticRegression(solver='liblinear')\n",
        "lr_classifier.fit(X_train, df_A_train['class'])"
      ],
      "execution_count": null,
      "outputs": [
        {
          "output_type": "execute_result",
          "data": {
            "text/plain": [
              "LogisticRegression(C=1.0, class_weight=None, dual=False, fit_intercept=True,\n",
              "                   intercept_scaling=1, l1_ratio=None, max_iter=100,\n",
              "                   multi_class='auto', n_jobs=None, penalty='l2',\n",
              "                   random_state=None, solver='liblinear', tol=0.0001, verbose=0,\n",
              "                   warm_start=False)"
            ]
          },
          "metadata": {
            "tags": []
          },
          "execution_count": 30
        }
      ]
    },
    {
      "cell_type": "code",
      "metadata": {
        "colab": {
          "base_uri": "https://localhost:8080/"
        },
        "id": "8OeV3NrdUPXw",
        "outputId": "e09551e5-0c86-48e2-f7a0-e458a0d93365"
      },
      "source": [
        "most_informative_features(training_vectorizer,lr_classifier,20)"
      ],
      "execution_count": null,
      "outputs": [
        {
          "output_type": "stream",
          "text": [
            "\t-1.5341\turl            \t\t0.9172\tknife          \n",
            "\t-0.9987\thour           \t\t0.8488\tpart           \n",
            "\t-0.8678\tadvic          \t\t0.8482\tforgiv         \n",
            "\t-0.8234\tpromis         \t\t0.8382\tmess           \n",
            "\t-0.8113\tbad            \t\t0.8044\tthroat         \n",
            "\t-0.8030\tcontempl       \t\t0.8031\taliv           \n",
            "\t-0.7462\t12             \t\t0.7851\tworld          \n",
            "\t-0.7427\tsad            \t\t0.7776\tupset          \n",
            "\t-0.7376\tmatter         \t\t0.7371\tenjoy          \n",
            "\t-0.7257\tidea           \t\t0.6974\tpain           \n",
            "\t-0.7206\tsituat         \t\t0.6762\tpill           \n",
            "\t-0.7047\tmale           \t\t0.6679\tlone           \n",
            "\t-0.6905\tthrowaway      \t\t0.6500\tweak           \n",
            "\t-0.6729\tstrong         \t\t0.6375\tgon            \n",
            "\t-0.6690\tsolut          \t\t0.6146\truin           \n",
            "\t-0.6511\tsubreddit      \t\t0.6073\tpiec           \n",
            "\t-0.6437\tcomit          \t\t0.6057\tfailur         \n",
            "\t-0.6407\tearli          \t\t0.6026\tlot            \n",
            "\t-0.6344\tplay           \t\t0.5994\thear           \n",
            "\t-0.6278\tphone          \t\t0.5943\tplan           \n"
          ],
          "name": "stdout"
        }
      ]
    },
    {
      "cell_type": "code",
      "metadata": {
        "colab": {
          "base_uri": "https://localhost:8080/"
        },
        "id": "XNAP9IydTU6_",
        "outputId": "ae1fe08f-22b5-49ba-8b00-637a57b3463b"
      },
      "source": [
        "lr_classifier.score(X_test,df_A_test['class'])"
      ],
      "execution_count": null,
      "outputs": [
        {
          "output_type": "execute_result",
          "data": {
            "text/plain": [
              "0.5524861878453039"
            ]
          },
          "metadata": {
            "tags": []
          },
          "execution_count": 32
        }
      ]
    },
    {
      "cell_type": "code",
      "metadata": {
        "id": "ufLCUOmbAdLJ"
      },
      "source": [
        "X_features,_ = convert_text_into_features(x,stopwords)"
      ],
      "execution_count": null,
      "outputs": []
    },
    {
      "cell_type": "code",
      "metadata": {
        "colab": {
          "base_uri": "https://localhost:8080/"
        },
        "id": "TSJnx_ZWABhc",
        "outputId": "1dbf1d08-564b-42c6-f3f0-1e76ef8147f7"
      },
      "source": [
        "accuracy_scores = cross_val_score(lr_classifier, X_features, \n",
        "                                  data_A['class'],cv= 3)\n",
        "print(\"accuracy scores = {}, mean = {}, stdev = {}\".format(accuracy_scores, np.mean(accuracy_scores), np.std(accuracy_scores)))"
      ],
      "execution_count": null,
      "outputs": [
        {
          "output_type": "stream",
          "text": [
            "accuracy scores = [0.6180758  0.56559767 0.56725146], mean = 0.5836416437920198, stdev = 0.024357985475083645\n"
          ],
          "name": "stdout"
        }
      ]
    },
    {
      "cell_type": "code",
      "metadata": {
        "colab": {
          "base_uri": "https://localhost:8080/",
          "height": 296
        },
        "id": "qD4Nh8u6Upuh",
        "outputId": "572cfdc1-efe4-461a-84fd-92968973e265"
      },
      "source": [
        "metrics.plot_confusion_matrix(lr_classifier,X_test,df_A_test['class'])"
      ],
      "execution_count": null,
      "outputs": [
        {
          "output_type": "execute_result",
          "data": {
            "text/plain": [
              "<sklearn.metrics._plot.confusion_matrix.ConfusionMatrixDisplay at 0x7f9c5b9d33d0>"
            ]
          },
          "metadata": {
            "tags": []
          },
          "execution_count": 35
        },
        {
          "output_type": "display_data",
          "data": {
            "image/png": "[encoded data removed]",
            "text/plain": [
              "<Figure size 432x288 with 2 Axes>"
            ]
          },
          "metadata": {
            "tags": [],
            "needs_background": "light"
          }
        }
      ]
    },
    {
      "cell_type": "code",
      "metadata": {
        "colab": {
          "base_uri": "https://localhost:8080/",
          "height": 296
        },
        "id": "rOjLClNDVMqJ",
        "outputId": "d038d0a2-c12a-4d0f-c13b-53e9adabdfaf"
      },
      "source": [
        "metrics.plot_roc_curve(lr_classifier, X_test, df_A_test['class'])"
      ],
      "execution_count": null,
      "outputs": [
        {
          "output_type": "execute_result",
          "data": {
            "text/plain": [
              "<sklearn.metrics._plot.roc_curve.RocCurveDisplay at 0x7f9c5ba00650>"
            ]
          },
          "metadata": {
            "tags": []
          },
          "execution_count": 36
        },
        {
          "output_type": "display_data",
          "data": {
            "image/png": "[encoded data removed]",
            "text/plain": [
              "<Figure size 432x288 with 1 Axes>"
            ]
          },
          "metadata": {
            "tags": [],
            "needs_background": "light"
          }
        }
      ]
    },
    {
      "cell_type": "markdown",
      "metadata": {
        "id": "4c4c5v59Furu"
      },
      "source": [
        "### **Decision Trees**"
      ]
    },
    {
      "cell_type": "code",
      "metadata": {
        "colab": {
          "base_uri": "https://localhost:8080/"
        },
        "id": "L9VSde_zoA_a",
        "outputId": "289eff94-bb9f-4a4c-dd56-cfb130839d78"
      },
      "source": [
        "tree = DecisionTreeClassifier(criterion='entropy')\n",
        "tree.fit(X_train,df_A_train['class'])"
      ],
      "execution_count": null,
      "outputs": [
        {
          "output_type": "execute_result",
          "data": {
            "text/plain": [
              "DecisionTreeClassifier(ccp_alpha=0.0, class_weight=None, criterion='entropy',\n",
              "                       max_depth=None, max_features=None, max_leaf_nodes=None,\n",
              "                       min_impurity_decrease=0.0, min_impurity_split=None,\n",
              "                       min_samples_leaf=1, min_samples_split=2,\n",
              "                       min_weight_fraction_leaf=0.0, presort='deprecated',\n",
              "                       random_state=None, splitter='best')"
            ]
          },
          "metadata": {
            "tags": []
          },
          "execution_count": 37
        }
      ]
    },
    {
      "cell_type": "code",
      "metadata": {
        "colab": {
          "base_uri": "https://localhost:8080/"
        },
        "id": "hbRJ3KDXGVlQ",
        "outputId": "ae6a2df8-511f-4b3c-afae-7d75307f8e17"
      },
      "source": [
        "tree.score(X_test,df_A_test['class'])"
      ],
      "execution_count": null,
      "outputs": [
        {
          "output_type": "execute_result",
          "data": {
            "text/plain": [
              "0.5082872928176796"
            ]
          },
          "metadata": {
            "tags": []
          },
          "execution_count": 38
        }
      ]
    },
    {
      "cell_type": "code",
      "metadata": {
        "colab": {
          "base_uri": "https://localhost:8080/"
        },
        "id": "S4kKNLNjGbTr",
        "outputId": "5833ee41-6489-436c-8670-4943dad376d7"
      },
      "source": [
        "accuracy_scores = cross_val_score(tree, X_features, \n",
        "                                  data_A['class'],cv= 3)\n",
        "print(\"accuracy scores = {}, mean = {}, stdev = {}\".format(accuracy_scores, np.mean(accuracy_scores), np.std(accuracy_scores)))"
      ],
      "execution_count": null,
      "outputs": [
        {
          "output_type": "stream",
          "text": [
            "accuracy scores = [0.60641399 0.51020408 0.5497076 ], mean = 0.5554418927136435, stdev = 0.03948627088108388\n"
          ],
          "name": "stdout"
        }
      ]
    },
    {
      "cell_type": "code",
      "metadata": {
        "colab": {
          "base_uri": "https://localhost:8080/",
          "height": 296
        },
        "id": "4xYQld9O2iuC",
        "outputId": "4e25fd50-59c6-4223-89d5-014fc908c387"
      },
      "source": [
        "metrics.plot_confusion_matrix(tree,X_test,df_A_test['class'])"
      ],
      "execution_count": null,
      "outputs": [
        {
          "output_type": "execute_result",
          "data": {
            "text/plain": [
              "<sklearn.metrics._plot.confusion_matrix.ConfusionMatrixDisplay at 0x7f9c5ae71910>"
            ]
          },
          "metadata": {
            "tags": []
          },
          "execution_count": 40
        },
        {
          "output_type": "display_data",
          "data": {
            "image/png": "[encoded data removed]",
            "text/plain": [
              "<Figure size 432x288 with 2 Axes>"
            ]
          },
          "metadata": {
            "tags": [],
            "needs_background": "light"
          }
        }
      ]
    },
    {
      "cell_type": "code",
      "metadata": {
        "colab": {
          "base_uri": "https://localhost:8080/",
          "height": 296
        },
        "id": "Dx4uslxD2_rA",
        "outputId": "b246df51-5648-4aa6-978b-c844f30ab5a3"
      },
      "source": [
        "metrics.plot_roc_curve(tree, X_test, df_A_test['class'])"
      ],
      "execution_count": null,
      "outputs": [
        {
          "output_type": "execute_result",
          "data": {
            "text/plain": [
              "<sklearn.metrics._plot.roc_curve.RocCurveDisplay at 0x7f9c5aedc950>"
            ]
          },
          "metadata": {
            "tags": []
          },
          "execution_count": 41
        },
        {
          "output_type": "display_data",
          "data": {
            "image/png": "[encoded data removed]",
            "text/plain": [
              "<Figure size 432x288 with 1 Axes>"
            ]
          },
          "metadata": {
            "tags": [],
            "needs_background": "light"
          }
        }
      ]
    },
    {
      "cell_type": "markdown",
      "metadata": {
        "id": "zHdLg4UkJLxG"
      },
      "source": [
        "# **Task - everything**"
      ]
    },
    {
      "cell_type": "code",
      "metadata": {
        "id": "5IUzNeR_piRr"
      },
      "source": [
        "df_B_train = shared_task_train\n",
        "df_B_train = df_B_train.dropna()\n",
        "df_B_train = pd.merge(df_B_train,crowd_train,on='user_id')\n",
        "df_B_train = pd.merge(df_B_train,df_class, on = 'label')"
      ],
      "execution_count": null,
      "outputs": []
    },
    {
      "cell_type": "code",
      "metadata": {
        "id": "p6s-nO50zPJ4"
      },
      "source": [
        "df_B_test = shared_task_test\n",
        "df_B_test = df_B_test.dropna()\n",
        "df_B_test = pd.merge(df_B_test,crowd_test,on='user_id')\n",
        "df_B_test['label'] = df_B_test['raw_label']\n",
        "df_B_test = pd.merge(df_B_test,df_class, on = 'label')"
      ],
      "execution_count": null,
      "outputs": []
    },
    {
      "cell_type": "code",
      "metadata": {
        "id": "AeyG-XSlZaho",
        "colab": {
          "base_uri": "https://localhost:8080/"
        },
        "outputId": "6f6c07f5-0189-471d-93a0-3aed5c6c0ce9"
      },
      "source": [
        "x_b = convert_lines_to_feature_strings(df_B_train['post_body'],stopwords)"
      ],
      "execution_count": null,
      "outputs": [
        {
          "output_type": "stream",
          "text": [
            " Converting from raw text to unigram and bigram features\n",
            " Includes filtering stopword bigrams\n",
            " Initializing\n"
          ],
          "name": "stdout"
        },
        {
          "output_type": "stream",
          "text": [
            "  0%|          | 2/16600 [00:00<17:11, 16.09it/s]"
          ],
          "name": "stderr"
        },
        {
          "output_type": "stream",
          "text": [
            " Iterating through documents extracting unigram and bigram features\n"
          ],
          "name": "stdout"
        },
        {
          "output_type": "stream",
          "text": [
            "100%|██████████| 16600/16600 [13:32<00:00, 20.43it/s]"
          ],
          "name": "stderr"
        },
        {
          "output_type": "stream",
          "text": [
            " Feature string for first document: 'thi post reddit time ago chang life fit seduc beati women pass exam wa onli word real motiv dosen't movi watch book read everyth 3 year realiz thi wa site famou peopl monument real motiv perspect life liter chang aspect life motiv fuck soul conscious person thi work place dont person fit dont person person girl moment life realiz hammer face soul cri beacus person explod nuklear bomb motiv person person reflect liter everyth possibl creat road succ whatev exampl wa time ... wa fat soo fat nt „ ” run run ... mater matter long wa someth 6 month run 5 minut day ago make test ... wa abl run 20 minut ... 30 minut ... 40 minut broke chain run 60 minut time life wa tire hell peopl wa person anymor wa creat tear sweat wa feel god wa messiah guy thi websit love thi awesom place day write someth'\n"
          ],
          "name": "stdout"
        },
        {
          "output_type": "stream",
          "text": [
            "\n"
          ],
          "name": "stderr"
        }
      ]
    },
    {
      "cell_type": "code",
      "metadata": {
        "id": "wvia_2kz3eEq"
      },
      "source": [
        "X_train_b, training_vectorizer_b = convert_text_into_features(x_b,stopwords)"
      ],
      "execution_count": null,
      "outputs": []
    },
    {
      "cell_type": "code",
      "metadata": {
        "id": "MwbCRHGCarlJ",
        "colab": {
          "base_uri": "https://localhost:8080/"
        },
        "outputId": "7e5d74c0-bd1c-43c9-ec08-984f77ae8d0a"
      },
      "source": [
        "X_test_b =  convert_lines_to_feature_strings(df_B_test['post_body'],stopwords)\n",
        "X_test_b_features = training_vectorizer_b.transform(X_test_b)"
      ],
      "execution_count": null,
      "outputs": [
        {
          "output_type": "stream",
          "text": [
            "\r  0%|          | 0/4906 [00:00<?, ?it/s]"
          ],
          "name": "stderr"
        },
        {
          "output_type": "stream",
          "text": [
            " Converting from raw text to unigram and bigram features\n",
            " Includes filtering stopword bigrams\n",
            " Initializing\n",
            " Iterating through documents extracting unigram and bigram features\n"
          ],
          "name": "stdout"
        },
        {
          "output_type": "stream",
          "text": [
            "100%|██████████| 4906/4906 [04:00<00:00, 20.38it/s]\n"
          ],
          "name": "stderr"
        },
        {
          "output_type": "stream",
          "text": [
            " Feature string for first document: 'realli n't hand 've told stay aliv persever life hand blow brain end matter happen die accept happen'\n"
          ],
          "name": "stdout"
        }
      ]
    },
    {
      "cell_type": "markdown",
      "metadata": {
        "id": "BgGPzo9pIfVf"
      },
      "source": [
        "### **Logistic Regression**"
      ]
    },
    {
      "cell_type": "code",
      "metadata": {
        "colab": {
          "base_uri": "https://localhost:8080/"
        },
        "id": "d3p54ZybaggZ",
        "outputId": "194c72ad-e71e-4f9d-9e4d-344e9326823f"
      },
      "source": [
        "lr_classifier_b = LogisticRegression(solver='liblinear')\n",
        "lr_classifier_b.fit(X_train_b, df_B_train['class'])"
      ],
      "execution_count": null,
      "outputs": [
        {
          "output_type": "execute_result",
          "data": {
            "text/plain": [
              "LogisticRegression(C=1.0, class_weight=None, dual=False, fit_intercept=True,\n",
              "                   intercept_scaling=1, l1_ratio=None, max_iter=100,\n",
              "                   multi_class='auto', n_jobs=None, penalty='l2',\n",
              "                   random_state=None, solver='liblinear', tol=0.0001, verbose=0,\n",
              "                   warm_start=False)"
            ]
          },
          "metadata": {
            "tags": []
          },
          "execution_count": 47
        }
      ]
    },
    {
      "cell_type": "code",
      "metadata": {
        "colab": {
          "base_uri": "https://localhost:8080/"
        },
        "id": "H_5ym2DBtjKq",
        "outputId": "16e8a9b0-2354-4f52-beb3-14abb2d41a21"
      },
      "source": [
        "most_informative_features(training_vectorizer_b,lr_classifier_b,20)"
      ],
      "execution_count": null,
      "outputs": [
        {
          "output_type": "stream",
          "text": [
            "\t-1.6023\tsalust         \t\t2.2865\tthealderbunni  \n",
            "\t-1.5369\tlcr999         \t\t2.2256\tdeet           \n",
            "\t-1.5258\ttwin           \t\t1.6163\tendur          \n",
            "\t-1.5130\taskmen         \t\t1.6002\texpir          \n",
            "\t-1.4996\televen         \t\t1.5359\tisrael         \n",
            "\t-1.4681\tsecondari      \t\t1.5316\tgeek           \n",
            "\t-1.4078\thotel          \t\t1.5086\tamiibo         \n",
            "\t-1.3983\tatom           \t\t1.5041\tloneli         \n",
            "\t-1.3706\tbeacus         \t\t1.4858\trotc           \n",
            "\t-1.3588\tintrigu        \t\t1.4341\tnazi           \n",
            "\t-1.3503\ttorrent        \t\t1.4199\twich           \n",
            "\t-1.3487\tinch           \t\t1.3696\tautism         \n",
            "\t-1.3126\tbtw            \t\t1.3694\troam           \n",
            "\t-1.3110\theaven         \t\t1.3405\tdisney         \n",
            "\t-1.3097\tdisagre        \t\t1.3380\tdbt            \n",
            "\t-1.3042\tsoccerstud2691 \t\t1.3280\tdimens         \n",
            "\t-1.2780\tgrant          \t\t1.3275\tbday           \n",
            "\t-1.2678\tvulner         \t\t1.3251\tbreadstick     \n",
            "\t-1.2568\tpl             \t\t1.3184\tmashup         \n",
            "\t-1.2563\tgal            \t\t1.3160\tpsn            \n"
          ],
          "name": "stdout"
        }
      ]
    },
    {
      "cell_type": "code",
      "metadata": {
        "colab": {
          "base_uri": "https://localhost:8080/"
        },
        "id": "0lyJ2Xc0bHVL",
        "outputId": "9135a3fd-67ab-4989-820b-eefaa402d083"
      },
      "source": [
        "lr_classifier_b.score(X_test_b_features,df_B_test['class'])"
      ],
      "execution_count": null,
      "outputs": [
        {
          "output_type": "execute_result",
          "data": {
            "text/plain": [
              "0.5185487158581329"
            ]
          },
          "metadata": {
            "tags": []
          },
          "execution_count": 49
        }
      ]
    },
    {
      "cell_type": "code",
      "metadata": {
        "id": "P3SIVNDhu6Wa"
      },
      "source": [
        "x_features_b = vstack([X_train_b,X_test_b_features])\n",
        "data_B = pd.concat([df_B_train,df_B_test],axis=0)"
      ],
      "execution_count": null,
      "outputs": []
    },
    {
      "cell_type": "code",
      "metadata": {
        "colab": {
          "base_uri": "https://localhost:8080/"
        },
        "id": "l2Bl6XCevcNK",
        "outputId": "dde82d5c-bca9-4d2a-8da4-a3ef9f787c6b"
      },
      "source": [
        "accuracy_scores_b = cross_val_score(lr_classifier_b, x_features_b, data_B['class'],cv= 3)\n",
        "print(\"accuracy scores = {}, mean = {}, stdev = {}\".format(accuracy_scores_b, \n",
        "                                                           np.mean(accuracy_scores_b), \n",
        "                                                           np.std(accuracy_scores_b)))"
      ],
      "execution_count": null,
      "outputs": [
        {
          "output_type": "stream",
          "text": [
            "/usr/local/lib/python3.7/dist-packages/sklearn/svm/_base.py:947: ConvergenceWarning: Liblinear failed to converge, increase the number of iterations.\n",
            "  \"the number of iterations.\", ConvergenceWarning)\n"
          ],
          "name": "stderr"
        },
        {
          "output_type": "stream",
          "text": [
            "accuracy scores = [0.53563956 0.52545683 0.53083147], mean = 0.5306426201456834, stdev = 0.004159226915611555\n"
          ],
          "name": "stdout"
        }
      ]
    },
    {
      "cell_type": "code",
      "metadata": {
        "colab": {
          "base_uri": "https://localhost:8080/",
          "height": 296
        },
        "id": "Y_iLcjSGa29s",
        "outputId": "0e04abd0-0136-48d9-813e-d5b58f6fd38e"
      },
      "source": [
        "metrics.plot_confusion_matrix(lr_classifier_b,X_test_b_features,df_B_test['class'])"
      ],
      "execution_count": null,
      "outputs": [
        {
          "output_type": "execute_result",
          "data": {
            "text/plain": [
              "<sklearn.metrics._plot.confusion_matrix.ConfusionMatrixDisplay at 0x7f9c59e61990>"
            ]
          },
          "metadata": {
            "tags": []
          },
          "execution_count": 52
        },
        {
          "output_type": "display_data",
          "data": {
            "image/png": "[encoded data removed]",
            "text/plain": [
              "<Figure size 432x288 with 2 Axes>"
            ]
          },
          "metadata": {
            "tags": [],
            "needs_background": "light"
          }
        }
      ]
    },
    {
      "cell_type": "code",
      "metadata": {
        "colab": {
          "base_uri": "https://localhost:8080/",
          "height": 296
        },
        "id": "TQr1v0dJbUPl",
        "outputId": "83428aec-2161-4b39-a661-ed4135176524"
      },
      "source": [
        "metrics.plot_roc_curve(lr_classifier_b, X_test_b_features,df_B_test['class'])"
      ],
      "execution_count": null,
      "outputs": [
        {
          "output_type": "execute_result",
          "data": {
            "text/plain": [
              "<sklearn.metrics._plot.roc_curve.RocCurveDisplay at 0x7f9c5a250e50>"
            ]
          },
          "metadata": {
            "tags": []
          },
          "execution_count": 53
        },
        {
          "output_type": "display_data",
          "data": {
            "image/png": "[encoded data removed]",
            "text/plain": [
              "<Figure size 432x288 with 1 Axes>"
            ]
          },
          "metadata": {
            "tags": [],
            "needs_background": "light"
          }
        }
      ]
    },
    {
      "cell_type": "markdown",
      "metadata": {
        "id": "hhdD5JxfImMQ"
      },
      "source": [
        "### **Decision Trees**"
      ]
    },
    {
      "cell_type": "code",
      "metadata": {
        "colab": {
          "base_uri": "https://localhost:8080/"
        },
        "id": "YOVoesWwIzYf",
        "outputId": "eca6e4f5-2186-42b8-c58f-4bf675f9807f"
      },
      "source": [
        "tree_b = DecisionTreeClassifier(criterion='entropy')\n",
        "tree_b.fit(X_train_b, df_B_train['class'])"
      ],
      "execution_count": null,
      "outputs": [
        {
          "output_type": "execute_result",
          "data": {
            "text/plain": [
              "DecisionTreeClassifier(ccp_alpha=0.0, class_weight=None, criterion='entropy',\n",
              "                       max_depth=None, max_features=None, max_leaf_nodes=None,\n",
              "                       min_impurity_decrease=0.0, min_impurity_split=None,\n",
              "                       min_samples_leaf=1, min_samples_split=2,\n",
              "                       min_weight_fraction_leaf=0.0, presort='deprecated',\n",
              "                       random_state=None, splitter='best')"
            ]
          },
          "metadata": {
            "tags": []
          },
          "execution_count": 54
        }
      ]
    },
    {
      "cell_type": "code",
      "metadata": {
        "colab": {
          "base_uri": "https://localhost:8080/"
        },
        "id": "xIDWZmAiJDeO",
        "outputId": "b4ab6624-dc7c-4ca7-bee0-15906bfdd889"
      },
      "source": [
        "tree_b.score(X_test_b_features,df_B_test['class'])"
      ],
      "execution_count": null,
      "outputs": [
        {
          "output_type": "execute_result",
          "data": {
            "text/plain": [
              "0.5362821035466775"
            ]
          },
          "metadata": {
            "tags": []
          },
          "execution_count": 55
        }
      ]
    },
    {
      "cell_type": "code",
      "metadata": {
        "colab": {
          "base_uri": "https://localhost:8080/"
        },
        "id": "CiSlPE1fJYb3",
        "outputId": "c505dd70-8f59-43a3-b961-f1f390fea67d"
      },
      "source": [
        "accuracy_scores = cross_val_score(tree_b, x_features_b, data_B['class'],cv= 3)\n",
        "print(\"accuracy scores = {}, mean = {}, stdev = {}\".format(accuracy_scores_b, \n",
        "                                                           np.mean(accuracy_scores_b), \n",
        "                                                           np.std(accuracy_scores_b)))"
      ],
      "execution_count": null,
      "outputs": [
        {
          "output_type": "stream",
          "text": [
            "accuracy scores = [0.53563956 0.52545683 0.53083147], mean = 0.5306426201456834, stdev = 0.004159226915611555\n"
          ],
          "name": "stdout"
        }
      ]
    },
    {
      "cell_type": "code",
      "metadata": {
        "colab": {
          "base_uri": "https://localhost:8080/",
          "height": 296
        },
        "id": "bFcocWzfJ6r9",
        "outputId": "ff91c6ab-b8e5-40ca-8410-2070f88ffef2"
      },
      "source": [
        "metrics.plot_confusion_matrix(tree_b,X_test_b_features,df_B_test['class'])"
      ],
      "execution_count": null,
      "outputs": [
        {
          "output_type": "execute_result",
          "data": {
            "text/plain": [
              "<sklearn.metrics._plot.confusion_matrix.ConfusionMatrixDisplay at 0x7f9c5a258050>"
            ]
          },
          "metadata": {
            "tags": []
          },
          "execution_count": 57
        },
        {
          "output_type": "display_data",
          "data": {
            "image/png": "[encoded data removed]",
            "text/plain": [
              "<Figure size 432x288 with 2 Axes>"
            ]
          },
          "metadata": {
            "tags": [],
            "needs_background": "light"
          }
        }
      ]
    },
    {
      "cell_type": "code",
      "metadata": {
        "colab": {
          "base_uri": "https://localhost:8080/",
          "height": 296
        },
        "id": "MsXlEiv3KAEe",
        "outputId": "c2698453-5cf2-430a-d48a-150abd9d9386"
      },
      "source": [
        "metrics.plot_roc_curve(tree_b, X_test_b_features,df_B_test['class'])"
      ],
      "execution_count": null,
      "outputs": [
        {
          "output_type": "execute_result",
          "data": {
            "text/plain": [
              "<sklearn.metrics._plot.roc_curve.RocCurveDisplay at 0x7f9c59e39d90>"
            ]
          },
          "metadata": {
            "tags": []
          },
          "execution_count": 58
        },
        {
          "output_type": "display_data",
          "data": {
            "image/png": "[encoded data removed]",
            "text/plain": [
              "<Figure size 432x288 with 1 Axes>"
            ]
          },
          "metadata": {
            "tags": [],
            "needs_background": "light"
          }
        }
      ]
    }
  ]
}